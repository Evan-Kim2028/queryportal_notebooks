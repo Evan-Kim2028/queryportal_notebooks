{
 "cells": [
  {
   "cell_type": "code",
   "execution_count": 15,
   "metadata": {},
   "outputs": [],
   "source": [
    "from subgrounds import Subgrounds\n",
    "import polars as pl\n",
    "import pandas as pd\n",
    "from subgrounds.schema import TypeRef\n",
    "from subgrounds.subgraph import SyntheticField\n",
    "from datetime import datetime, timedelta\n",
    "\n",
    "sg = Subgrounds()\n",
    "\n",
    "# Load\n",
    "univ3_sg = sg.load_subgraph('https://api.thegraph.com/subgraphs/name/messari/uniswap-v3-ethereum')\n",
    "\n",
    "fp = univ3_sg.Query.liquidityPools"
   ]
  },
  {
   "cell_type": "code",
   "execution_count": 16,
   "metadata": {},
   "outputs": [],
   "source": [
    "# usdc/dai pool id - 0x5777d92f208679db4b9778590fa3cab3ac9e2168\n",
    "qp = fp(\n",
    "    orderBy='timestamp',\n",
    "    orderDirection='desc',\n",
    "    where = {\n",
    "            \"pool_\":  {\"id\": '0x5777d92f208679db4b9778590fa3cab3ac9e2168'},\n",
    "        }\n",
    ")"
   ]
  },
  {
   "cell_type": "code",
   "execution_count": 17,
   "metadata": {},
   "outputs": [
    {
     "ename": "KeyError",
     "evalue": "'TypeMeta.ObjectMeta.field: no field named timestamp for interface LiquidityPool'",
     "output_type": "error",
     "traceback": [
      "\u001b[0;31m---------------------------------------------------------------------------\u001b[0m",
      "\u001b[0;31mStopIteration\u001b[0m                             Traceback (most recent call last)",
      "File \u001b[0;32m~/Documents/github/queryportal_notebooks/.venv/lib/python3.10/site-packages/subgrounds/schema.py:206\u001b[0m, in \u001b[0;36mTypeMeta.ObjectMeta.field\u001b[0;34m(self, fname)\u001b[0m\n\u001b[1;32m    205\u001b[0m \u001b[39mtry\u001b[39;00m:\n\u001b[0;32m--> 206\u001b[0m     \u001b[39mreturn\u001b[39;00m \u001b[39mnext\u001b[39;49m(\u001b[39mself\u001b[39;49m\u001b[39m.\u001b[39;49mfields \u001b[39m|\u001b[39;49m where(\u001b[39mlambda\u001b[39;49;00m fmeta: fmeta\u001b[39m.\u001b[39;49mname \u001b[39m==\u001b[39;49m fname))\n\u001b[1;32m    207\u001b[0m \u001b[39mexcept\u001b[39;00m \u001b[39mStopIteration\u001b[39;00m:\n",
      "\u001b[0;31mStopIteration\u001b[0m: ",
      "\nDuring handling of the above exception, another exception occurred:\n",
      "\u001b[0;31mKeyError\u001b[0m                                  Traceback (most recent call last)",
      "Cell \u001b[0;32mIn[17], line 2\u001b[0m\n\u001b[1;32m      1\u001b[0m df \u001b[39m=\u001b[39m sg\u001b[39m.\u001b[39mquery_json([\n\u001b[0;32m----> 2\u001b[0m     qp\u001b[39m.\u001b[39;49m_select(\u001b[39m'\u001b[39;49m\u001b[39mtimestamp\u001b[39;49m\u001b[39m'\u001b[39;49m),\n\u001b[1;32m      3\u001b[0m     qp\u001b[39m.\u001b[39m_select(\u001b[39m'\u001b[39m\u001b[39mpool\u001b[39m\u001b[39m'\u001b[39m)\u001b[39m.\u001b[39m_select(\u001b[39m'\u001b[39m\u001b[39mname\u001b[39m\u001b[39m'\u001b[39m),\n\u001b[1;32m      4\u001b[0m     qp\u001b[39m.\u001b[39m_select(\u001b[39m'\u001b[39m\u001b[39mpool\u001b[39m\u001b[39m'\u001b[39m)\u001b[39m.\u001b[39m_select(\u001b[39m'\u001b[39m\u001b[39mid\u001b[39m\u001b[39m'\u001b[39m),\n\u001b[1;32m      5\u001b[0m     \u001b[39m# qp._select('pool')._select('inputTokenBalances'), # get input balances from pool entity\u001b[39;00m\n\u001b[1;32m      6\u001b[0m     qp\u001b[39m.\u001b[39m_select(\u001b[39m'\u001b[39m\u001b[39minputTokenBalances\u001b[39m\u001b[39m'\u001b[39m)\n\u001b[1;32m      7\u001b[0m ])\n\u001b[1;32m      9\u001b[0m \u001b[39m# df = sg.query_json([qp])\u001b[39;00m\n",
      "File \u001b[0;32m~/Documents/github/queryportal_notebooks/.venv/lib/python3.10/site-packages/subgrounds/subgraph/fieldpath.py:499\u001b[0m, in \u001b[0;36mFieldPath._select\u001b[0;34m(self, name)\u001b[0m\n\u001b[1;32m    494\u001b[0m     \u001b[39mraise\u001b[39;00m \u001b[39mTypeError\u001b[39;00m(\n\u001b[1;32m    495\u001b[0m         \u001b[39mf\u001b[39m\u001b[39m\"\u001b[39m\u001b[39mFieldPath: path \u001b[39m\u001b[39m{\u001b[39;00m\u001b[39mself\u001b[39m\u001b[39m}\u001b[39;00m\u001b[39m ends with a scalar field! cannot select field \u001b[39m\u001b[39m{\u001b[39;00mname\u001b[39m}\u001b[39;00m\u001b[39m\"\u001b[39m\n\u001b[1;32m    496\u001b[0m     )\n\u001b[1;32m    498\u001b[0m \u001b[39mcase\u001b[39;00m TypeMeta\u001b[39m.\u001b[39mObjectMeta() \u001b[39m|\u001b[39m TypeMeta\u001b[39m.\u001b[39mInterfaceMeta() \u001b[39mas\u001b[39;00m obj:\n\u001b[0;32m--> 499\u001b[0m     field \u001b[39m=\u001b[39m obj\u001b[39m.\u001b[39;49mfield(name)\n\u001b[1;32m    501\u001b[0m     \u001b[39mmatch\u001b[39;00m \u001b[39mself\u001b[39m\u001b[39m.\u001b[39m_schema\u001b[39m.\u001b[39mtype_of_typeref(field\u001b[39m.\u001b[39mtype_):\n\u001b[1;32m    502\u001b[0m         \u001b[39mcase\u001b[39;00m (\n\u001b[1;32m    503\u001b[0m             TypeMeta\u001b[39m.\u001b[39mObjectMeta()\n\u001b[1;32m    504\u001b[0m             \u001b[39m|\u001b[39m TypeMeta\u001b[39m.\u001b[39mInterfaceMeta()\n\u001b[1;32m    505\u001b[0m             \u001b[39m|\u001b[39m TypeMeta\u001b[39m.\u001b[39mEnumMeta()\n\u001b[1;32m    506\u001b[0m             \u001b[39m|\u001b[39m TypeMeta\u001b[39m.\u001b[39mScalarMeta()\n\u001b[1;32m    507\u001b[0m         ):\n\u001b[1;32m    508\u001b[0m             \u001b[39m# Copy current path and append newly selected field\u001b[39;00m\n",
      "File \u001b[0;32m~/Documents/github/queryportal_notebooks/.venv/lib/python3.10/site-packages/subgrounds/schema.py:208\u001b[0m, in \u001b[0;36mTypeMeta.ObjectMeta.field\u001b[0;34m(self, fname)\u001b[0m\n\u001b[1;32m    206\u001b[0m     \u001b[39mreturn\u001b[39;00m \u001b[39mnext\u001b[39m(\u001b[39mself\u001b[39m\u001b[39m.\u001b[39mfields \u001b[39m|\u001b[39m where(\u001b[39mlambda\u001b[39;00m fmeta: fmeta\u001b[39m.\u001b[39mname \u001b[39m==\u001b[39m fname))\n\u001b[1;32m    207\u001b[0m \u001b[39mexcept\u001b[39;00m \u001b[39mStopIteration\u001b[39;00m:\n\u001b[0;32m--> 208\u001b[0m     \u001b[39mraise\u001b[39;00m \u001b[39mKeyError\u001b[39;00m(\n\u001b[1;32m    209\u001b[0m         \u001b[39mf\u001b[39m\u001b[39m\"\u001b[39m\u001b[39mTypeMeta.ObjectMeta.field: no field named \u001b[39m\u001b[39m{\u001b[39;00mfname\u001b[39m}\u001b[39;00m\u001b[39m for interface \u001b[39m\u001b[39m{\u001b[39;00m\u001b[39mself\u001b[39m\u001b[39m.\u001b[39mname\u001b[39m}\u001b[39;00m\u001b[39m\"\u001b[39m\n\u001b[1;32m    210\u001b[0m     )\n",
      "\u001b[0;31mKeyError\u001b[0m: 'TypeMeta.ObjectMeta.field: no field named timestamp for interface LiquidityPool'"
     ]
    }
   ],
   "source": [
    "df = sg.query_json([\n",
    "    # qp._select('timestamp'),\n",
    "    qp._select('pool')._select('name'),\n",
    "    qp._select('pool')._select('id'),\n",
    "    # qp._select('pool')._select('inputTokenBalances'), # get input balances from pool entity\n",
    "    qp._select('inputTokenBalances')\n",
    "])\n",
    "\n",
    "# df = sg.query_json([qp])"
   ]
  },
  {
   "cell_type": "code",
   "execution_count": 11,
   "metadata": {},
   "outputs": [],
   "source": [
    "first_key = next(iter(df[0].keys()))\n",
    "pl_df = pl.from_dicts(df[0][first_key])"
   ]
  },
  {
   "cell_type": "code",
   "execution_count": 12,
   "metadata": {},
   "outputs": [
    {
     "name": "stdout",
     "output_type": "stream",
     "text": [
      "pool\n"
     ]
    }
   ],
   "source": [
    "# use this logic if column is a struct (rows show up as a dict)\n",
    "for column in pl_df.columns:\n",
    "    if isinstance(pl_df[column][0], dict):  \n",
    "        print(column)\n",
    "        col_names = pl_df[column][0].keys()\n",
    "        # rename struct columns\n",
    "        struct_df = pl_df.select(\n",
    "            pl.col(column).struct.rename_fields([f'{column}_{c}' for c in col_names])\n",
    "        )\n",
    "        struct_df = struct_df.unnest(column)\n",
    "        # add struct_df columns to pl_df and\n",
    "        pl_df = pl_df.with_columns(struct_df)\n",
    "        # drop the pl_df column\n",
    "        pl_df = pl_df.drop(column)"
   ]
  },
  {
   "cell_type": "code",
   "execution_count": 13,
   "metadata": {},
   "outputs": [
    {
     "name": "stdout",
     "output_type": "stream",
     "text": [
      "inputTokenBalances\n"
     ]
    }
   ],
   "source": [
    "# use this logic if column is a list (rows show up as pl.Series)\n",
    "for column in pl_df.columns:\n",
    "    if isinstance(pl_df[column][0], pl.Series):\n",
    "        print(column)\n",
    "        # convert struct to array\n",
    "        struct_df = pl_df.select([pl.col(column).arr.to_struct()])\n",
    "        # rename struct fields\n",
    "        struct_df = struct_df.select(\n",
    "            pl.col(column).struct.rename_fields([f\"{column}_{i}\" for i in range(len(struct_df.shape))])\n",
    "        )\n",
    "        # unnest struct fields into their own columns\n",
    "        struct_df = struct_df.unnest(column)\n",
    "        # add struct_df columns to pl_df and\n",
    "        pl_df = pl_df.with_columns(struct_df)\n",
    "        # drop the pl_df column\n",
    "        pl_df = pl_df.drop(column)"
   ]
  },
  {
   "cell_type": "code",
   "execution_count": 14,
   "metadata": {},
   "outputs": [
    {
     "data": {
      "text/html": [
       "<div><style>\n",
       ".dataframe > thead > tr > th,\n",
       ".dataframe > tbody > tr > td {\n",
       "  text-align: right;\n",
       "}\n",
       "</style>\n",
       "<small>shape: (5, 6)</small><table border=\"1\" class=\"dataframe\"><thead><tr><th>id</th><th>timestamp</th><th>pool_name</th><th>pool_id</th><th>inputTokenBalances_0</th><th>inputTokenBalances_1</th></tr><tr><td>str</td><td>i64</td><td>str</td><td>str</td><td>f64</td><td>f64</td></tr></thead><tbody><tr><td>&quot;0x5777d92f2086…</td><td>1684763963</td><td>&quot;Uniswap V3 Dai…</td><td>&quot;0x5777d92f2086…</td><td>4.9756e25</td><td>5.8052e13</td></tr><tr><td>&quot;0x5777d92f2086…</td><td>1684760363</td><td>&quot;Uniswap V3 Dai…</td><td>&quot;0x5777d92f2086…</td><td>4.9660e25</td><td>5.8148e13</td></tr><tr><td>&quot;0x5777d92f2086…</td><td>1684756631</td><td>&quot;Uniswap V3 Dai…</td><td>&quot;0x5777d92f2086…</td><td>4.9752e25</td><td>5.8062e13</td></tr><tr><td>&quot;0x5777d92f2086…</td><td>1684752659</td><td>&quot;Uniswap V3 Dai…</td><td>&quot;0x5777d92f2086…</td><td>4.9718e25</td><td>5.8104e13</td></tr><tr><td>&quot;0x5777d92f2086…</td><td>1684749395</td><td>&quot;Uniswap V3 Dai…</td><td>&quot;0x5777d92f2086…</td><td>4.9676e25</td><td>5.8146e13</td></tr></tbody></table></div>"
      ],
      "text/plain": [
       "shape: (5, 6)\n",
       "┌─────────────────┬────────────┬────────────────┬────────────────┬────────────────┬────────────────┐\n",
       "│ id              ┆ timestamp  ┆ pool_name      ┆ pool_id        ┆ inputTokenBala ┆ inputTokenBala │\n",
       "│ ---             ┆ ---        ┆ ---            ┆ ---            ┆ nces_0         ┆ nces_1         │\n",
       "│ str             ┆ i64        ┆ str            ┆ str            ┆ ---            ┆ ---            │\n",
       "│                 ┆            ┆                ┆                ┆ f64            ┆ f64            │\n",
       "╞═════════════════╪════════════╪════════════════╪════════════════╪════════════════╪════════════════╡\n",
       "│ 0x5777d92f20867 ┆ 1684763963 ┆ Uniswap V3 Dai ┆ 0x5777d92f2086 ┆ 4.9756e25      ┆ 5.8052e13      │\n",
       "│ 9db4b9778590fa3 ┆            ┆ Stablecoin/USD ┆ 79db4b9778590f ┆                ┆                │\n",
       "│ ca…             ┆            ┆ Co…            ┆ a3ca…          ┆                ┆                │\n",
       "│ 0x5777d92f20867 ┆ 1684760363 ┆ Uniswap V3 Dai ┆ 0x5777d92f2086 ┆ 4.9660e25      ┆ 5.8148e13      │\n",
       "│ 9db4b9778590fa3 ┆            ┆ Stablecoin/USD ┆ 79db4b9778590f ┆                ┆                │\n",
       "│ ca…             ┆            ┆ Co…            ┆ a3ca…          ┆                ┆                │\n",
       "│ 0x5777d92f20867 ┆ 1684756631 ┆ Uniswap V3 Dai ┆ 0x5777d92f2086 ┆ 4.9752e25      ┆ 5.8062e13      │\n",
       "│ 9db4b9778590fa3 ┆            ┆ Stablecoin/USD ┆ 79db4b9778590f ┆                ┆                │\n",
       "│ ca…             ┆            ┆ Co…            ┆ a3ca…          ┆                ┆                │\n",
       "│ 0x5777d92f20867 ┆ 1684752659 ┆ Uniswap V3 Dai ┆ 0x5777d92f2086 ┆ 4.9718e25      ┆ 5.8104e13      │\n",
       "│ 9db4b9778590fa3 ┆            ┆ Stablecoin/USD ┆ 79db4b9778590f ┆                ┆                │\n",
       "│ ca…             ┆            ┆ Co…            ┆ a3ca…          ┆                ┆                │\n",
       "│ 0x5777d92f20867 ┆ 1684749395 ┆ Uniswap V3 Dai ┆ 0x5777d92f2086 ┆ 4.9676e25      ┆ 5.8146e13      │\n",
       "│ 9db4b9778590fa3 ┆            ┆ Stablecoin/USD ┆ 79db4b9778590f ┆                ┆                │\n",
       "│ ca…             ┆            ┆ Co…            ┆ a3ca…          ┆                ┆                │\n",
       "└─────────────────┴────────────┴────────────────┴────────────────┴────────────────┴────────────────┘"
      ]
     },
     "execution_count": 14,
     "metadata": {},
     "output_type": "execute_result"
    }
   ],
   "source": [
    "pl_df.head(5)"
   ]
  },
  {
   "cell_type": "code",
   "execution_count": null,
   "metadata": {},
   "outputs": [],
   "source": []
  }
 ],
 "metadata": {
  "kernelspec": {
   "display_name": ".venv",
   "language": "python",
   "name": "python3"
  },
  "language_info": {
   "codemirror_mode": {
    "name": "ipython",
    "version": 3
   },
   "file_extension": ".py",
   "mimetype": "text/x-python",
   "name": "python",
   "nbconvert_exporter": "python",
   "pygments_lexer": "ipython3",
   "version": "3.10.6"
  },
  "orig_nbformat": 4
 },
 "nbformat": 4,
 "nbformat_minor": 2
}
