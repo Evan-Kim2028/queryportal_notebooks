{
 "cells": [
  {
   "cell_type": "code",
   "execution_count": 23,
   "metadata": {},
   "outputs": [],
   "source": [
    "from queryportal.subgraphinterface import SubgraphInterface\n",
    "from datetime import datetime, timedelta\n",
    "\n",
    "import polars as pl\n",
    "pl.Config.set_fmt_str_lengths(200)\n",
    "\n",
    "# https://thegraph.com/hosted-service/subgraph/traderjoe-xyz/joe-v2-arbitrum\n",
    "sgi = SubgraphInterface(endpoints='https://api.thegraph.com/subgraphs/name/traderjoe-xyz/joe-v2-arbitrum')"
   ]
  },
  {
   "cell_type": "code",
   "execution_count": 24,
   "metadata": {},
   "outputs": [
    {
     "ename": "AttributeError",
     "evalue": "module 'logging' has no attribute 'setLevel'",
     "output_type": "error",
     "traceback": [
      "\u001b[0;31m---------------------------------------------------------------------------\u001b[0m",
      "\u001b[0;31mAttributeError\u001b[0m                            Traceback (most recent call last)",
      "Cell \u001b[0;32mIn[24], line 1\u001b[0m\n\u001b[0;32m----> 1\u001b[0m \u001b[39mimport\u001b[39;00m \u001b[39mlogging\u001b[39;00m; logging\u001b[39m.\u001b[39;49msetLevel(\u001b[39m\"\u001b[39m\u001b[39mDEBUG\u001b[39m\u001b[39m\"\u001b[39m)\n",
      "\u001b[0;31mAttributeError\u001b[0m: module 'logging' has no attribute 'setLevel'"
     ]
    }
   ],
   "source": [
    "import logging; logging.setLevel(\"DEBUG\")"
   ]
  },
  {
   "cell_type": "code",
   "execution_count": null,
   "metadata": {},
   "outputs": [],
   "source": [
    "filter = {\n",
    "    'timestamp_gte': int((datetime(2023, 5, 25).timestamp())),\n",
    "    # 'timestamp_lte': int(datetime(2023, 5, 18).timestamp()),\n",
    "    # 'lbPair_tokenX_id': '0x16a5D28b20A3FddEcdcaf02DF4b3935734df1A1f',\n",
    "}"
   ]
  },
  {
   "cell_type": "code",
   "execution_count": 25,
   "metadata": {},
   "outputs": [
    {
     "name": "stdout",
     "output_type": "stream",
     "text": [
      "Querying endpoint: joe-v2-arbitrum\n"
     ]
    },
    {
     "ename": "TypeError",
     "evalue": "object of type 'type' has no len()",
     "output_type": "error",
     "traceback": [
      "\u001b[0;31m---------------------------------------------------------------------------\u001b[0m",
      "\u001b[0;31mTypeError\u001b[0m                                 Traceback (most recent call last)",
      "Cell \u001b[0;32mIn[25], line 1\u001b[0m\n\u001b[0;32m----> 1\u001b[0m query_df \u001b[39m=\u001b[39m sgi\u001b[39m.\u001b[39;49mquery_entity(\n\u001b[1;32m      2\u001b[0m     query_size\u001b[39m=\u001b[39;49m\u001b[39m1000\u001b[39;49m,\n\u001b[1;32m      3\u001b[0m     entity\u001b[39m=\u001b[39;49m\u001b[39m'\u001b[39;49m\u001b[39mswaps\u001b[39;49m\u001b[39m'\u001b[39;49m,\n\u001b[1;32m      4\u001b[0m     name\u001b[39m=\u001b[39;49m\u001b[39m'\u001b[39;49m\u001b[39mjoe-v2-arbitrum\u001b[39;49m\u001b[39m'\u001b[39;49m, \n\u001b[1;32m      5\u001b[0m     orderBy\u001b[39m=\u001b[39;49m\u001b[39m'\u001b[39;49m\u001b[39mtimestamp\u001b[39;49m\u001b[39m'\u001b[39;49m,\n\u001b[1;32m      6\u001b[0m     filter_dict\u001b[39m=\u001b[39;49m\u001b[39mfilter\u001b[39;49m,\n\u001b[1;32m      7\u001b[0m     graphql_query_fmt\u001b[39m=\u001b[39;49m\u001b[39mTrue\u001b[39;49;00m\n\u001b[1;32m      8\u001b[0m     )\n",
      "File \u001b[0;32m~/Documents/github/queryportal_notebooks/.venv/lib/python3.10/site-packages/queryportal/polars_utils.py:21\u001b[0m, in \u001b[0;36mtimeit.<locals>.wrap_func\u001b[0;34m(*args, **kwargs)\u001b[0m\n\u001b[1;32m     19\u001b[0m \u001b[39mdef\u001b[39;00m \u001b[39mwrap_func\u001b[39m(\u001b[39m*\u001b[39margs, \u001b[39m*\u001b[39m\u001b[39m*\u001b[39mkwargs):\n\u001b[1;32m     20\u001b[0m     t1 \u001b[39m=\u001b[39m time()\n\u001b[0;32m---> 21\u001b[0m     result \u001b[39m=\u001b[39m func(\u001b[39m*\u001b[39;49margs, \u001b[39m*\u001b[39;49m\u001b[39m*\u001b[39;49mkwargs)\n\u001b[1;32m     22\u001b[0m     t2 \u001b[39m=\u001b[39m time()\n\u001b[1;32m     23\u001b[0m     \u001b[39mprint\u001b[39m(\u001b[39mf\u001b[39m\u001b[39m'\u001b[39m\u001b[39mFunction \u001b[39m\u001b[39m{\u001b[39;00mfunc\u001b[39m.\u001b[39m\u001b[39m__name__\u001b[39m\u001b[39m!r}\u001b[39;00m\u001b[39m executed in \u001b[39m\u001b[39m{\u001b[39;00m(t2\u001b[39m-\u001b[39mt1)\u001b[39m:\u001b[39;00m\u001b[39m.4f\u001b[39m\u001b[39m}\u001b[39;00m\u001b[39ms\u001b[39m\u001b[39m'\u001b[39m)\n",
      "File \u001b[0;32m~/Documents/github/queryportal_notebooks/.venv/lib/python3.10/site-packages/queryportal/polars_utils.py:33\u001b[0m, in \u001b[0;36mdf_describe.<locals>.wrapper\u001b[0;34m(*args, **kwargs)\u001b[0m\n\u001b[1;32m     31\u001b[0m \u001b[39m@wraps\u001b[39m(function)\n\u001b[1;32m     32\u001b[0m \u001b[39mdef\u001b[39;00m \u001b[39mwrapper\u001b[39m(\u001b[39m*\u001b[39margs, \u001b[39m*\u001b[39m\u001b[39m*\u001b[39mkwargs):\n\u001b[0;32m---> 33\u001b[0m     output \u001b[39m=\u001b[39m function(\u001b[39m*\u001b[39;49margs, \u001b[39m*\u001b[39;49m\u001b[39m*\u001b[39;49mkwargs) \u001b[39m# should be a pl.DataFrame\u001b[39;00m\n\u001b[1;32m     34\u001b[0m     \u001b[39m# try except: if it's a dataframe, print the shape. If the function crashes, print the error message.\u001b[39;00m\n\u001b[1;32m     35\u001b[0m     \u001b[39mtry\u001b[39;00m:\n",
      "File \u001b[0;32m~/Documents/github/queryportal_notebooks/.venv/lib/python3.10/site-packages/queryportal/subgraphinterface.py:120\u001b[0m, in \u001b[0;36mSubgraphInterface.query_entity\u001b[0;34m(self, name, entity, query_size, query_paths, orderBy, block_filter, filter_dict, saved_file_name, graphql_query_fmt)\u001b[0m\n\u001b[1;32m    117\u001b[0m query_dict \u001b[39m=\u001b[39m \u001b[39mself\u001b[39m\u001b[39m.\u001b[39msubject\u001b[39m.\u001b[39mload_schema(sg_key)\n\u001b[1;32m    119\u001b[0m \u001b[39m# create modified filter dict that conforms to required Subgrounds query format\u001b[39;00m\n\u001b[0;32m--> 120\u001b[0m new_filter_dict \u001b[39m=\u001b[39m create_filter_dict(filter_dict)\n\u001b[1;32m    122\u001b[0m \u001b[39mprint\u001b[39m(\u001b[39mf\u001b[39m\u001b[39m'\u001b[39m\u001b[39mdebug block filter: \u001b[39m\u001b[39m{\u001b[39;00mblock_filter\u001b[39m}\u001b[39;00m\u001b[39m'\u001b[39m)\n\u001b[1;32m    124\u001b[0m \u001b[39mmatch\u001b[39;00m orderBy:\n",
      "File \u001b[0;32m~/Documents/github/queryportal_notebooks/.venv/lib/python3.10/site-packages/subutil/fieldpath_utils.py:62\u001b[0m, in \u001b[0;36mcreate_filter_dict\u001b[0;34m(filter_dict)\u001b[0m\n\u001b[1;32m     58\u001b[0m \u001b[39mdef\u001b[39;00m \u001b[39mcreate_filter_dict\u001b[39m(filter_dict: \u001b[39mdict\u001b[39m) \u001b[39m-\u001b[39m\u001b[39m>\u001b[39m \u001b[39mdict\u001b[39m:\n\u001b[1;32m     59\u001b[0m \u001b[39m    \u001b[39m\u001b[39m\"\"\"\u001b[39;00m\n\u001b[1;32m     60\u001b[0m \u001b[39m    Takes the query filter dictionary input and reformats it with nested dictionaries, if required, to conform to Subgrounds query input.\u001b[39;00m\n\u001b[1;32m     61\u001b[0m \u001b[39m    \"\"\"\u001b[39;00m\n\u001b[0;32m---> 62\u001b[0m     \u001b[39mif\u001b[39;00m \u001b[39mlen\u001b[39;49m(filter_dict) \u001b[39m!=\u001b[39m \u001b[39m0\u001b[39m:   \u001b[39m# check if filter_dict is empty. If it is not, continue.\u001b[39;00m\n\u001b[1;32m     63\u001b[0m         keyword_list \u001b[39m=\u001b[39m [\u001b[39m'\u001b[39m\u001b[39min\u001b[39m\u001b[39m'\u001b[39m, \u001b[39m'\u001b[39m\u001b[39mnot\u001b[39m\u001b[39m'\u001b[39m, \u001b[39m'\u001b[39m\u001b[39mgt\u001b[39m\u001b[39m'\u001b[39m, \u001b[39m'\u001b[39m\u001b[39mgte\u001b[39m\u001b[39m'\u001b[39m, \u001b[39m'\u001b[39m\u001b[39mlt\u001b[39m\u001b[39m'\u001b[39m, \u001b[39m'\u001b[39m\u001b[39mlte\u001b[39m\u001b[39m'\u001b[39m, \u001b[39m'\u001b[39m\u001b[39mnot_in\u001b[39m\u001b[39m'\u001b[39m, \u001b[39m'\u001b[39m\u001b[39mcontains\u001b[39m\u001b[39m'\u001b[39m, \u001b[39m'\u001b[39m\u001b[39mnot_contains\u001b[39m\u001b[39m'\u001b[39m]\n\u001b[1;32m     65\u001b[0m         output_dict \u001b[39m=\u001b[39m {}\n",
      "\u001b[0;31mTypeError\u001b[0m: object of type 'type' has no len()"
     ]
    }
   ],
   "source": [
    "query_df = sgi.query_entity(\n",
    "    query_size=1000,\n",
    "    entity='swaps',\n",
    "    name='joe-v2-arbitrum', \n",
    "    orderBy='timestamp',\n",
    "    filter_dict=filter,\n",
    "    graphql_query_fmt=True\n",
    "    )"
   ]
  },
  {
   "cell_type": "code",
   "execution_count": 22,
   "metadata": {},
   "outputs": [],
   "source": [
    "query_df"
   ]
  },
  {
   "cell_type": "code",
   "execution_count": null,
   "metadata": {},
   "outputs": [],
   "source": [
    "STOP"
   ]
  },
  {
   "cell_type": "code",
   "execution_count": 8,
   "metadata": {},
   "outputs": [],
   "source": [
    "# filter query_df for lbPair_id = '0x16a5D28b20A3FddEcdcaf02DF4b3935734df1A1f'\n",
    "pair_filter = query_df.filter(pl.col('lbPair_id') == '0x16a5D28b20A3FddEcdcaf02DF4b3935734df1A1f')"
   ]
  },
  {
   "cell_type": "code",
   "execution_count": 9,
   "metadata": {},
   "outputs": [
    {
     "data": {
      "text/html": [
       "<div><style>\n",
       ".dataframe > thead > tr > th,\n",
       ".dataframe > tbody > tr > td {\n",
       "  text-align: right;\n",
       "}\n",
       "</style>\n",
       "<small>shape: (0, 16)</small><table border=\"1\" class=\"dataframe\"><thead><tr><th>sender</th><th>recipient</th><th>origin</th><th>activeId</th><th>amountXIn</th><th>amountYIn</th><th>amountXOut</th><th>amountYOut</th><th>amountUSD</th><th>feesTokenX</th><th>feesTokenY</th><th>feesUSD</th><th>logIndex</th><th>timestamp</th><th>transaction_id</th><th>lbPair_id</th></tr><tr><td>str</td><td>str</td><td>str</td><td>i64</td><td>f64</td><td>f64</td><td>f64</td><td>f64</td><td>f64</td><td>f64</td><td>f64</td><td>f64</td><td>i64</td><td>i64</td><td>str</td><td>str</td></tr></thead><tbody></tbody></table></div>"
      ],
      "text/plain": [
       "shape: (0, 16)\n",
       "┌────────┬───────────┬────────┬──────────┬───┬──────────┬───────────┬────────────────┬───────────┐\n",
       "│ sender ┆ recipient ┆ origin ┆ activeId ┆ … ┆ logIndex ┆ timestamp ┆ transaction_id ┆ lbPair_id │\n",
       "│ ---    ┆ ---       ┆ ---    ┆ ---      ┆   ┆ ---      ┆ ---       ┆ ---            ┆ ---       │\n",
       "│ str    ┆ str       ┆ str    ┆ i64      ┆   ┆ i64      ┆ i64       ┆ str            ┆ str       │\n",
       "╞════════╪═══════════╪════════╪══════════╪═══╪══════════╪═══════════╪════════════════╪═══════════╡\n",
       "└────────┴───────────┴────────┴──────────┴───┴──────────┴───────────┴────────────────┴───────────┘"
      ]
     },
     "execution_count": 9,
     "metadata": {},
     "output_type": "execute_result"
    }
   ],
   "source": [
    "pair_filter"
   ]
  },
  {
   "cell_type": "code",
   "execution_count": null,
   "metadata": {},
   "outputs": [],
   "source": []
  }
 ],
 "metadata": {
  "kernelspec": {
   "display_name": ".venv",
   "language": "python",
   "name": "python3"
  },
  "language_info": {
   "codemirror_mode": {
    "name": "ipython",
    "version": 3
   },
   "file_extension": ".py",
   "mimetype": "text/x-python",
   "name": "python",
   "nbconvert_exporter": "python",
   "pygments_lexer": "ipython3",
   "version": "3.10.6"
  },
  "orig_nbformat": 4
 },
 "nbformat": 4,
 "nbformat_minor": 2
}
