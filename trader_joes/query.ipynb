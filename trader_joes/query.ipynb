{
 "cells": [
  {
   "cell_type": "code",
   "execution_count": 1,
   "metadata": {},
   "outputs": [],
   "source": [
    "from queryportal.subgraphinterface import SubgraphInterface\n",
    "from datetime import datetime, timedelta\n",
    "\n",
    "import polars as pl\n",
    "pl.Config.set_fmt_str_lengths(200)\n",
    "\n",
    "# https://thegraph.com/hosted-service/subgraph/traderjoe-xyz/joe-v2-arbitrum\n",
    "sgi = SubgraphInterface(endpoints='https://api.thegraph.com/subgraphs/name/traderjoe-xyz/joe-v2-arbitrum')"
   ]
  },
  {
   "cell_type": "code",
   "execution_count": 13,
   "metadata": {},
   "outputs": [
    {
     "name": "stdout",
     "output_type": "stream",
     "text": [
      "Querying endpoint: joe-v2-arbitrum\n",
      "debug block filter: {}\n",
      "graphql query path: query {\n",
      "  xd85dd22b687a4f3e: swaps(first: 1000, orderBy: timestamp, where: {lbPair_: {tokenX_: {id: \"0x16a5D28b20A3FddEcdcaf02DF4b3935734df1A1f\"}}}, block: {}) {\n",
      "    id\n",
      "    transaction {\n",
      "      id\n",
      "    }\n",
      "    timestamp\n",
      "    lbPair {\n",
      "      id\n",
      "    }\n",
      "    sender\n",
      "    recipient\n",
      "    origin\n",
      "    activeId\n",
      "    amountXIn\n",
      "    amountYIn\n",
      "    amountXOut\n",
      "    amountYOut\n",
      "    amountUSD\n",
      "    feesTokenX\n",
      "    feesTokenY\n",
      "    feesUSD\n",
      "    logIndex\n",
      "  }\n",
      "}\n"
     ]
    },
    {
     "ename": "PaginationError",
     "evalue": "[{'message': 'Store error: query execution failed: Child filters can not be nested'}]",
     "output_type": "error",
     "traceback": [
      "\u001b[0;31m---------------------------------------------------------------------------\u001b[0m",
      "\u001b[0;31mGraphQLError\u001b[0m                              Traceback (most recent call last)",
      "File \u001b[0;32m~/Documents/github/queryportal_notebooks/.venv/lib/python3.10/site-packages/subgrounds/pagination/pagination.py:81\u001b[0m, in \u001b[0;36mpaginate\u001b[0;34m(schema, doc, pagination_strategy, headers)\u001b[0m\n\u001b[1;32m     80\u001b[0m \u001b[39mtry\u001b[39;00m:\n\u001b[0;32m---> 81\u001b[0m     page_data \u001b[39m=\u001b[39m client\u001b[39m.\u001b[39;49mquery(\n\u001b[1;32m     82\u001b[0m         url\u001b[39m=\u001b[39;49mdoc\u001b[39m.\u001b[39;49murl,\n\u001b[1;32m     83\u001b[0m         query_str\u001b[39m=\u001b[39;49mdoc\u001b[39m.\u001b[39;49mgraphql,\n\u001b[1;32m     84\u001b[0m         variables\u001b[39m=\u001b[39;49mdoc\u001b[39m.\u001b[39;49mvariables \u001b[39m|\u001b[39;49m args,\n\u001b[1;32m     85\u001b[0m         headers\u001b[39m=\u001b[39;49mheaders,\n\u001b[1;32m     86\u001b[0m     )\n\u001b[1;32m     87\u001b[0m     data \u001b[39m=\u001b[39m merge(data, page_data)\n",
      "File \u001b[0;32m~/Documents/github/queryportal_notebooks/.venv/lib/python3.10/site-packages/subgrounds/client.py:198\u001b[0m, in \u001b[0;36mquery\u001b[0;34m(url, query_str, variables, headers)\u001b[0m\n\u001b[1;32m    197\u001b[0m \u001b[39mif\u001b[39;00m (data \u001b[39m:=\u001b[39m raw_data\u001b[39m.\u001b[39mget(\u001b[39m\"\u001b[39m\u001b[39mdata\u001b[39m\u001b[39m\"\u001b[39m)) \u001b[39mis\u001b[39;00m \u001b[39mNone\u001b[39;00m:\n\u001b[0;32m--> 198\u001b[0m     \u001b[39mraise\u001b[39;00m GraphQLError(raw_data\u001b[39m.\u001b[39mget(\u001b[39m\"\u001b[39m\u001b[39merrors\u001b[39m\u001b[39m\"\u001b[39m, \u001b[39m\"\u001b[39m\u001b[39mUnknown Error(s) Found\u001b[39m\u001b[39m\"\u001b[39m))\n\u001b[1;32m    200\u001b[0m \u001b[39mreturn\u001b[39;00m data\n",
      "\u001b[0;31mGraphQLError\u001b[0m: [{'message': 'Store error: query execution failed: Child filters can not be nested'}]",
      "\nDuring handling of the above exception, another exception occurred:\n",
      "\u001b[0;31mPaginationError\u001b[0m                           Traceback (most recent call last)",
      "Cell \u001b[0;32mIn[13], line 1\u001b[0m\n\u001b[0;32m----> 1\u001b[0m query_df \u001b[39m=\u001b[39m sgi\u001b[39m.\u001b[39;49mquery_entity(\n\u001b[1;32m      2\u001b[0m     query_size\u001b[39m=\u001b[39;49m\u001b[39m1000\u001b[39;49m,\n\u001b[1;32m      3\u001b[0m     entity\u001b[39m=\u001b[39;49m\u001b[39m'\u001b[39;49m\u001b[39mswaps\u001b[39;49m\u001b[39m'\u001b[39;49m,\n\u001b[1;32m      4\u001b[0m     name\u001b[39m=\u001b[39;49m\u001b[39m'\u001b[39;49m\u001b[39mjoe-v2-arbitrum\u001b[39;49m\u001b[39m'\u001b[39;49m, \n\u001b[1;32m      5\u001b[0m     orderBy\u001b[39m=\u001b[39;49m\u001b[39m'\u001b[39;49m\u001b[39mtimestamp\u001b[39;49m\u001b[39m'\u001b[39;49m,\n\u001b[1;32m      6\u001b[0m     filter_dict\u001b[39m=\u001b[39;49m{\u001b[39m'\u001b[39;49m\u001b[39mlbPair_tokenX_id\u001b[39;49m\u001b[39m'\u001b[39;49m: \u001b[39m'\u001b[39;49m\u001b[39m0x16a5D28b20A3FddEcdcaf02DF4b3935734df1A1f\u001b[39;49m\u001b[39m'\u001b[39;49m},\n\u001b[1;32m      7\u001b[0m     graphql_query_fmt\u001b[39m=\u001b[39;49m\u001b[39mTrue\u001b[39;49;00m\n\u001b[1;32m      8\u001b[0m     )\n",
      "File \u001b[0;32m~/Documents/github/queryportal_notebooks/.venv/lib/python3.10/site-packages/queryportal/polars_utils.py:21\u001b[0m, in \u001b[0;36mtimeit.<locals>.wrap_func\u001b[0;34m(*args, **kwargs)\u001b[0m\n\u001b[1;32m     19\u001b[0m \u001b[39mdef\u001b[39;00m \u001b[39mwrap_func\u001b[39m(\u001b[39m*\u001b[39margs, \u001b[39m*\u001b[39m\u001b[39m*\u001b[39mkwargs):\n\u001b[1;32m     20\u001b[0m     t1 \u001b[39m=\u001b[39m time()\n\u001b[0;32m---> 21\u001b[0m     result \u001b[39m=\u001b[39m func(\u001b[39m*\u001b[39;49margs, \u001b[39m*\u001b[39;49m\u001b[39m*\u001b[39;49mkwargs)\n\u001b[1;32m     22\u001b[0m     t2 \u001b[39m=\u001b[39m time()\n\u001b[1;32m     23\u001b[0m     \u001b[39mprint\u001b[39m(\u001b[39mf\u001b[39m\u001b[39m'\u001b[39m\u001b[39mFunction \u001b[39m\u001b[39m{\u001b[39;00mfunc\u001b[39m.\u001b[39m\u001b[39m__name__\u001b[39m\u001b[39m!r}\u001b[39;00m\u001b[39m executed in \u001b[39m\u001b[39m{\u001b[39;00m(t2\u001b[39m-\u001b[39mt1)\u001b[39m:\u001b[39;00m\u001b[39m.4f\u001b[39m\u001b[39m}\u001b[39;00m\u001b[39ms\u001b[39m\u001b[39m'\u001b[39m)\n",
      "File \u001b[0;32m~/Documents/github/queryportal_notebooks/.venv/lib/python3.10/site-packages/queryportal/polars_utils.py:33\u001b[0m, in \u001b[0;36mdf_describe.<locals>.wrapper\u001b[0;34m(*args, **kwargs)\u001b[0m\n\u001b[1;32m     31\u001b[0m \u001b[39m@wraps\u001b[39m(function)\n\u001b[1;32m     32\u001b[0m \u001b[39mdef\u001b[39;00m \u001b[39mwrapper\u001b[39m(\u001b[39m*\u001b[39margs, \u001b[39m*\u001b[39m\u001b[39m*\u001b[39mkwargs):\n\u001b[0;32m---> 33\u001b[0m     output \u001b[39m=\u001b[39m function(\u001b[39m*\u001b[39;49margs, \u001b[39m*\u001b[39;49m\u001b[39m*\u001b[39;49mkwargs) \u001b[39m# should be a pl.DataFrame\u001b[39;00m\n\u001b[1;32m     34\u001b[0m     \u001b[39m# try except: if it's a dataframe, print the shape. If the function crashes, print the error message.\u001b[39;00m\n\u001b[1;32m     35\u001b[0m     \u001b[39mtry\u001b[39;00m:\n",
      "File \u001b[0;32m~/Documents/github/queryportal_notebooks/.venv/lib/python3.10/site-packages/queryportal/subgraphinterface.py:143\u001b[0m, in \u001b[0;36mSubgraphInterface.query_entity\u001b[0;34m(self, name, entity, query_size, query_paths, orderBy, block_filter, filter_dict, saved_file_name, graphql_query_fmt)\u001b[0m\n\u001b[1;32m    134\u001b[0m         generic_qp \u001b[39m=\u001b[39m query_dict[entity](\n\u001b[1;32m    135\u001b[0m             first\u001b[39m=\u001b[39mquery_size,\n\u001b[1;32m    136\u001b[0m             where \u001b[39m=\u001b[39m new_filter_dict,\n\u001b[1;32m    137\u001b[0m             orderBy \u001b[39m=\u001b[39m orderBy,\n\u001b[1;32m    138\u001b[0m             block \u001b[39m=\u001b[39m block_filter\n\u001b[1;32m    139\u001b[0m         )\n\u001b[1;32m    141\u001b[0m matched_query_path \u001b[39m=\u001b[39m match_query_paths(query_paths\u001b[39m=\u001b[39mquery_paths, default_query_path \u001b[39m=\u001b[39m generic_qp)\n\u001b[0;32m--> 143\u001b[0m \u001b[39mreturn\u001b[39;00m \u001b[39mself\u001b[39;49m\u001b[39m.\u001b[39;49mquery(\n\u001b[1;32m    144\u001b[0m             query_path\u001b[39m=\u001b[39;49mmatched_query_path,\n\u001b[1;32m    145\u001b[0m             saved_file_name\u001b[39m=\u001b[39;49msaved_file_name,\n\u001b[1;32m    146\u001b[0m             graphql_query_fmt\u001b[39m=\u001b[39;49mgraphql_query_fmt\n\u001b[1;32m    147\u001b[0m         )\n",
      "File \u001b[0;32m~/Documents/github/queryportal_notebooks/.venv/lib/python3.10/site-packages/queryportal/subgraphinterface.py:36\u001b[0m, in \u001b[0;36mSubgraphInterface.query\u001b[0;34m(self, query_path, saved_file_name, graphql_query_fmt)\u001b[0m\n\u001b[1;32m     33\u001b[0m     \u001b[39mprint\u001b[39m(\u001b[39mf\u001b[39m\u001b[39m'\u001b[39m\u001b[39mgraphql query path: \u001b[39m\u001b[39m{\u001b[39;00mgraphql_query_path\u001b[39m}\u001b[39;00m\u001b[39m'\u001b[39m)\n\u001b[1;32m     35\u001b[0m \u001b[39m# Obtain json dict of query results\u001b[39;00m\n\u001b[0;32m---> 36\u001b[0m query_dict \u001b[39m=\u001b[39m \u001b[39mself\u001b[39;49m\u001b[39m.\u001b[39;49msubject\u001b[39m.\u001b[39;49msg\u001b[39m.\u001b[39;49mquery_json(query_path)\n\u001b[1;32m     38\u001b[0m \u001b[39m# get nested json key. Subgrounds creates a hash blob for internal purposes so we need the keys that come after the hash blob.\u001b[39;00m\n\u001b[1;32m     39\u001b[0m first_key \u001b[39m=\u001b[39m \u001b[39mnext\u001b[39m(\u001b[39miter\u001b[39m(query_dict[\u001b[39m0\u001b[39m]\u001b[39m.\u001b[39mkeys()))\n",
      "File \u001b[0;32m~/Documents/github/queryportal_notebooks/.venv/lib/python3.10/site-packages/subgrounds/subgrounds.py:316\u001b[0m, in \u001b[0;36mSubgrounds.query_json\u001b[0;34m(self, fpaths, pagination_strategy)\u001b[0m\n\u001b[1;32m    314\u001b[0m fpaths \u001b[39m=\u001b[39m \u001b[39mlist\u001b[39m([fpaths] \u001b[39m|\u001b[39m traverse \u001b[39m|\u001b[39m \u001b[39mmap\u001b[39m(FieldPath\u001b[39m.\u001b[39m_auto_select) \u001b[39m|\u001b[39m traverse)\n\u001b[1;32m    315\u001b[0m req \u001b[39m=\u001b[39m \u001b[39mself\u001b[39m\u001b[39m.\u001b[39mmk_request(fpaths)\n\u001b[0;32m--> 316\u001b[0m \u001b[39mreturn\u001b[39;00m \u001b[39mself\u001b[39;49m\u001b[39m.\u001b[39;49mexecute(req, pagination_strategy\u001b[39m=\u001b[39;49mpagination_strategy)\n",
      "File \u001b[0;32m~/Documents/github/queryportal_notebooks/.venv/lib/python3.10/site-packages/subgrounds/subgrounds.py:229\u001b[0m, in \u001b[0;36mSubgrounds.execute\u001b[0;34m(self, req, pagination_strategy)\u001b[0m\n\u001b[1;32m    225\u001b[0m             \u001b[39mreturn\u001b[39;00m transform\u001b[39m.\u001b[39mtransform_response(req, data)\n\u001b[1;32m    227\u001b[0m     \u001b[39massert\u001b[39;00m \u001b[39mFalse\u001b[39;00m  \u001b[39m# Suppress mypy missing return statement warning\u001b[39;00m\n\u001b[0;32m--> 229\u001b[0m \u001b[39mreturn\u001b[39;00m transform_req(\u001b[39mself\u001b[39;49m\u001b[39m.\u001b[39;49mglobal_transforms, req)\n",
      "File \u001b[0;32m~/Documents/github/queryportal_notebooks/.venv/lib/python3.10/site-packages/subgrounds/subgrounds.py:214\u001b[0m, in \u001b[0;36mSubgrounds.execute.<locals>.transform_req\u001b[0;34m(transforms, req)\u001b[0m\n\u001b[1;32m    212\u001b[0m \u001b[39mmatch\u001b[39;00m transforms:\n\u001b[1;32m    213\u001b[0m     \u001b[39mcase\u001b[39;00m []:\n\u001b[0;32m--> 214\u001b[0m         \u001b[39mreturn\u001b[39;00m \u001b[39mlist\u001b[39;49m(\n\u001b[1;32m    215\u001b[0m             req\u001b[39m.\u001b[39;49mdocuments\n\u001b[1;32m    216\u001b[0m             \u001b[39m|\u001b[39;49m \u001b[39mmap\u001b[39;49m(\n\u001b[1;32m    217\u001b[0m                 \u001b[39mlambda\u001b[39;49;00m doc: transform_doc(\n\u001b[1;32m    218\u001b[0m                     \u001b[39mself\u001b[39;49m\u001b[39m.\u001b[39;49msubgraphs[doc\u001b[39m.\u001b[39;49murl]\u001b[39m.\u001b[39;49m_transforms, doc\n\u001b[1;32m    219\u001b[0m                 )\n\u001b[1;32m    220\u001b[0m             )\n\u001b[1;32m    221\u001b[0m         )\n\u001b[1;32m    222\u001b[0m     \u001b[39mcase\u001b[39;00m [transform, \u001b[39m*\u001b[39mrest]:\n\u001b[1;32m    223\u001b[0m         new_req \u001b[39m=\u001b[39m transform\u001b[39m.\u001b[39mtransform_request(req)\n",
      "File \u001b[0;32m~/Documents/github/queryportal_notebooks/.venv/lib/python3.10/site-packages/subgrounds/subgrounds.py:217\u001b[0m, in \u001b[0;36mSubgrounds.execute.<locals>.transform_req.<locals>.<lambda>\u001b[0;34m(doc)\u001b[0m\n\u001b[1;32m    212\u001b[0m \u001b[39mmatch\u001b[39;00m transforms:\n\u001b[1;32m    213\u001b[0m     \u001b[39mcase\u001b[39;00m []:\n\u001b[1;32m    214\u001b[0m         \u001b[39mreturn\u001b[39;00m \u001b[39mlist\u001b[39m(\n\u001b[1;32m    215\u001b[0m             req\u001b[39m.\u001b[39mdocuments\n\u001b[1;32m    216\u001b[0m             \u001b[39m|\u001b[39m \u001b[39mmap\u001b[39m(\n\u001b[0;32m--> 217\u001b[0m                 \u001b[39mlambda\u001b[39;00m doc: transform_doc(\n\u001b[1;32m    218\u001b[0m                     \u001b[39mself\u001b[39;49m\u001b[39m.\u001b[39;49msubgraphs[doc\u001b[39m.\u001b[39;49murl]\u001b[39m.\u001b[39;49m_transforms, doc\n\u001b[1;32m    219\u001b[0m                 )\n\u001b[1;32m    220\u001b[0m             )\n\u001b[1;32m    221\u001b[0m         )\n\u001b[1;32m    222\u001b[0m     \u001b[39mcase\u001b[39;00m [transform, \u001b[39m*\u001b[39mrest]:\n\u001b[1;32m    223\u001b[0m         new_req \u001b[39m=\u001b[39m transform\u001b[39m.\u001b[39mtransform_request(req)\n",
      "File \u001b[0;32m~/Documents/github/queryportal_notebooks/.venv/lib/python3.10/site-packages/subgrounds/subgrounds.py:204\u001b[0m, in \u001b[0;36mSubgrounds.execute.<locals>.transform_doc\u001b[0;34m(transforms, doc)\u001b[0m\n\u001b[1;32m    202\u001b[0m     \u001b[39mcase\u001b[39;00m [transform, \u001b[39m*\u001b[39mrest]:\n\u001b[1;32m    203\u001b[0m         new_doc \u001b[39m=\u001b[39m transform\u001b[39m.\u001b[39mtransform_document(doc)\n\u001b[0;32m--> 204\u001b[0m         data \u001b[39m=\u001b[39m transform_doc(rest, new_doc)\n\u001b[1;32m    205\u001b[0m         \u001b[39mreturn\u001b[39;00m transform\u001b[39m.\u001b[39mtransform_response(doc, data)\n\u001b[1;32m    207\u001b[0m \u001b[39massert\u001b[39;00m \u001b[39mFalse\u001b[39;00m\n",
      "File \u001b[0;32m~/Documents/github/queryportal_notebooks/.venv/lib/python3.10/site-packages/subgrounds/subgrounds.py:204\u001b[0m, in \u001b[0;36mSubgrounds.execute.<locals>.transform_doc\u001b[0;34m(transforms, doc)\u001b[0m\n\u001b[1;32m    202\u001b[0m     \u001b[39mcase\u001b[39;00m [transform, \u001b[39m*\u001b[39mrest]:\n\u001b[1;32m    203\u001b[0m         new_doc \u001b[39m=\u001b[39m transform\u001b[39m.\u001b[39mtransform_document(doc)\n\u001b[0;32m--> 204\u001b[0m         data \u001b[39m=\u001b[39m transform_doc(rest, new_doc)\n\u001b[1;32m    205\u001b[0m         \u001b[39mreturn\u001b[39;00m transform\u001b[39m.\u001b[39mtransform_response(doc, data)\n\u001b[1;32m    207\u001b[0m \u001b[39massert\u001b[39;00m \u001b[39mFalse\u001b[39;00m\n",
      "File \u001b[0;32m~/Documents/github/queryportal_notebooks/.venv/lib/python3.10/site-packages/subgrounds/subgrounds.py:201\u001b[0m, in \u001b[0;36mSubgrounds.execute.<locals>.transform_doc\u001b[0;34m(transforms, doc)\u001b[0m\n\u001b[1;32m    199\u001b[0m \u001b[39mmatch\u001b[39;00m transforms:\n\u001b[1;32m    200\u001b[0m     \u001b[39mcase\u001b[39;00m []:\n\u001b[0;32m--> 201\u001b[0m         \u001b[39mreturn\u001b[39;00m execute_document(doc)\n\u001b[1;32m    202\u001b[0m     \u001b[39mcase\u001b[39;00m [transform, \u001b[39m*\u001b[39mrest]:\n\u001b[1;32m    203\u001b[0m         new_doc \u001b[39m=\u001b[39m transform\u001b[39m.\u001b[39mtransform_document(doc)\n",
      "File \u001b[0;32m~/Documents/github/queryportal_notebooks/.venv/lib/python3.10/site-packages/subgrounds/subgrounds.py:186\u001b[0m, in \u001b[0;36mSubgrounds.execute.<locals>.execute_document\u001b[0;34m(doc)\u001b[0m\n\u001b[1;32m    182\u001b[0m subgraph: Subgraph \u001b[39m=\u001b[39m \u001b[39mnext\u001b[39m(\n\u001b[1;32m    183\u001b[0m     \u001b[39mself\u001b[39m\u001b[39m.\u001b[39msubgraphs\u001b[39m.\u001b[39mvalues() \u001b[39m|\u001b[39m where(\u001b[39mlambda\u001b[39;00m sg: sg\u001b[39m.\u001b[39m_url \u001b[39m==\u001b[39m doc\u001b[39m.\u001b[39murl)\n\u001b[1;32m    184\u001b[0m )\n\u001b[1;32m    185\u001b[0m \u001b[39mif\u001b[39;00m pagination_strategy \u001b[39mis\u001b[39;00m \u001b[39mnot\u001b[39;00m \u001b[39mNone\u001b[39;00m \u001b[39mand\u001b[39;00m subgraph\u001b[39m.\u001b[39m_is_subgraph:\n\u001b[0;32m--> 186\u001b[0m     \u001b[39mreturn\u001b[39;00m paginate(\n\u001b[1;32m    187\u001b[0m         subgraph\u001b[39m.\u001b[39;49m_schema,\n\u001b[1;32m    188\u001b[0m         doc,\n\u001b[1;32m    189\u001b[0m         pagination_strategy\u001b[39m=\u001b[39;49mpagination_strategy,\n\u001b[1;32m    190\u001b[0m         headers\u001b[39m=\u001b[39;49m\u001b[39mself\u001b[39;49m\u001b[39m.\u001b[39;49mheaders,\n\u001b[1;32m    191\u001b[0m     )\n\u001b[1;32m    192\u001b[0m \u001b[39melse\u001b[39;00m:\n\u001b[1;32m    193\u001b[0m     \u001b[39mreturn\u001b[39;00m client\u001b[39m.\u001b[39mquery(\n\u001b[1;32m    194\u001b[0m         doc\u001b[39m.\u001b[39murl, doc\u001b[39m.\u001b[39mgraphql, variables\u001b[39m=\u001b[39mdoc\u001b[39m.\u001b[39mvariables, headers\u001b[39m=\u001b[39m\u001b[39mself\u001b[39m\u001b[39m.\u001b[39mheaders\n\u001b[1;32m    195\u001b[0m     )\n",
      "File \u001b[0;32m~/Documents/github/queryportal_notebooks/.venv/lib/python3.10/site-packages/subgrounds/pagination/pagination.py:92\u001b[0m, in \u001b[0;36mpaginate\u001b[0;34m(schema, doc, pagination_strategy, headers)\u001b[0m\n\u001b[1;32m     90\u001b[0m             \u001b[39mbreak\u001b[39;00m\n\u001b[1;32m     91\u001b[0m         \u001b[39mexcept\u001b[39;00m \u001b[39mException\u001b[39;00m \u001b[39mas\u001b[39;00m exn:\n\u001b[0;32m---> 92\u001b[0m             \u001b[39mraise\u001b[39;00m PaginationError(exn\u001b[39m.\u001b[39margs[\u001b[39m0\u001b[39m], strategy)\n\u001b[1;32m     94\u001b[0m     \u001b[39mreturn\u001b[39;00m data\n\u001b[1;32m     96\u001b[0m \u001b[39mexcept\u001b[39;00m SkipPagination:\n",
      "\u001b[0;31mPaginationError\u001b[0m: [{'message': 'Store error: query execution failed: Child filters can not be nested'}]"
     ]
    }
   ],
   "source": [
    "query_df = sgi.query_entity(\n",
    "    query_size=1000,\n",
    "    entity='swaps',\n",
    "    name='joe-v2-arbitrum', \n",
    "    orderBy='timestamp',\n",
    "    filter_dict={'lbPair_tokenX_id': '0x16a5D28b20A3FddEcdcaf02DF4b3935734df1A1f'},\n",
    "    graphql_query_fmt=True\n",
    "    )"
   ]
  },
  {
   "cell_type": "code",
   "execution_count": 8,
   "metadata": {},
   "outputs": [],
   "source": [
    "# filter query_df for lbPair_id = '0x16a5D28b20A3FddEcdcaf02DF4b3935734df1A1f'\n",
    "pair_filter = query_df.filter(pl.col('lbPair_id') == '0x16a5D28b20A3FddEcdcaf02DF4b3935734df1A1f')"
   ]
  },
  {
   "cell_type": "code",
   "execution_count": 9,
   "metadata": {},
   "outputs": [
    {
     "data": {
      "text/html": [
       "<div><style>\n",
       ".dataframe > thead > tr > th,\n",
       ".dataframe > tbody > tr > td {\n",
       "  text-align: right;\n",
       "}\n",
       "</style>\n",
       "<small>shape: (0, 16)</small><table border=\"1\" class=\"dataframe\"><thead><tr><th>sender</th><th>recipient</th><th>origin</th><th>activeId</th><th>amountXIn</th><th>amountYIn</th><th>amountXOut</th><th>amountYOut</th><th>amountUSD</th><th>feesTokenX</th><th>feesTokenY</th><th>feesUSD</th><th>logIndex</th><th>timestamp</th><th>transaction_id</th><th>lbPair_id</th></tr><tr><td>str</td><td>str</td><td>str</td><td>i64</td><td>f64</td><td>f64</td><td>f64</td><td>f64</td><td>f64</td><td>f64</td><td>f64</td><td>f64</td><td>i64</td><td>i64</td><td>str</td><td>str</td></tr></thead><tbody></tbody></table></div>"
      ],
      "text/plain": [
       "shape: (0, 16)\n",
       "┌────────┬───────────┬────────┬──────────┬───┬──────────┬───────────┬────────────────┬───────────┐\n",
       "│ sender ┆ recipient ┆ origin ┆ activeId ┆ … ┆ logIndex ┆ timestamp ┆ transaction_id ┆ lbPair_id │\n",
       "│ ---    ┆ ---       ┆ ---    ┆ ---      ┆   ┆ ---      ┆ ---       ┆ ---            ┆ ---       │\n",
       "│ str    ┆ str       ┆ str    ┆ i64      ┆   ┆ i64      ┆ i64       ┆ str            ┆ str       │\n",
       "╞════════╪═══════════╪════════╪══════════╪═══╪══════════╪═══════════╪════════════════╪═══════════╡\n",
       "└────────┴───────────┴────────┴──────────┴───┴──────────┴───────────┴────────────────┴───────────┘"
      ]
     },
     "execution_count": 9,
     "metadata": {},
     "output_type": "execute_result"
    }
   ],
   "source": [
    "pair_filter"
   ]
  },
  {
   "cell_type": "code",
   "execution_count": null,
   "metadata": {},
   "outputs": [],
   "source": []
  }
 ],
 "metadata": {
  "kernelspec": {
   "display_name": ".venv",
   "language": "python",
   "name": "python3"
  },
  "language_info": {
   "codemirror_mode": {
    "name": "ipython",
    "version": 3
   },
   "file_extension": ".py",
   "mimetype": "text/x-python",
   "name": "python",
   "nbconvert_exporter": "python",
   "pygments_lexer": "ipython3",
   "version": "3.10.6"
  },
  "orig_nbformat": 4
 },
 "nbformat": 4,
 "nbformat_minor": 2
}
