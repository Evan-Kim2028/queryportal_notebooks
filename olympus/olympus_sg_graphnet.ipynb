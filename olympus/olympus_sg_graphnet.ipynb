{
 "cells": [
  {
   "cell_type": "code",
   "execution_count": 1,
   "metadata": {},
   "outputs": [
    {
     "data": {
      "text/plain": [
       "True"
      ]
     },
     "execution_count": 1,
     "metadata": {},
     "output_type": "execute_result"
    }
   ],
   "source": [
    "from dotenv import load_dotenv\n",
    "import os\n",
    "from subgrounds import Subgrounds\n",
    "\n",
    "load_dotenv()"
   ]
  },
  {
   "cell_type": "code",
   "execution_count": 2,
   "metadata": {},
   "outputs": [
    {
     "ename": "GraphQLError",
     "evalue": "[{'message': 'Subgraph not found: 8L8ZJ5hqCZguKk2QyBRWWdsp2thmzHF2Egyj4TqC9NHc'}]",
     "output_type": "error",
     "traceback": [
      "\u001b[0;31m---------------------------------------------------------------------------\u001b[0m",
      "\u001b[0;31mGraphQLError\u001b[0m                              Traceback (most recent call last)",
      "Cell \u001b[0;32mIn[2], line 9\u001b[0m\n\u001b[1;32m      3\u001b[0m \u001b[39m# https://gateway.thegraph.com/api/[api-key]/subgraphs/id/ELUcwgpm14LKPLrBRuVvPvNKHQ9HvwmtKgKSH6123cr7\u001b[39;00m\n\u001b[1;32m      4\u001b[0m \u001b[39m# look at header behavior with hosted vs decentralized queries\u001b[39;00m\n\u001b[1;32m      5\u001b[0m \n\u001b[1;32m      6\u001b[0m \u001b[39m# instantiate Dex class with subgraph key\u001b[39;00m\n\u001b[1;32m      7\u001b[0m ohm \u001b[39m=\u001b[39m \u001b[39m'\u001b[39m\u001b[39m8L8ZJ5hqCZguKk2QyBRWWdsp2thmzHF2Egyj4TqC9NHc\u001b[39m\u001b[39m'\u001b[39m\n\u001b[0;32m----> 9\u001b[0m subgraph \u001b[39m=\u001b[39m sg\u001b[39m.\u001b[39;49mload_subgraph(\n\u001b[1;32m     10\u001b[0m     \u001b[39mf\u001b[39;49m\u001b[39m\"\u001b[39;49m\u001b[39mhttps://api.playgrounds.network/v1/proxy/subgraphs/id/\u001b[39;49m\u001b[39m{\u001b[39;49;00mohm\u001b[39m}\u001b[39;49;00m\u001b[39m\"\u001b[39;49m \n\u001b[1;32m     11\u001b[0m )\n",
      "File \u001b[0;32m~/Documents/github/queryportal_notebooks/.venv/lib/python3.10/site-packages/subgrounds/subgrounds.py:113\u001b[0m, in \u001b[0;36mSubgrounds.load_subgraph\u001b[0;34m(self, url, save_schema, cache_dir)\u001b[0m\n\u001b[1;32m     95\u001b[0m \u001b[39mdef\u001b[39;00m \u001b[39mload_subgraph\u001b[39m(\n\u001b[1;32m     96\u001b[0m     \u001b[39mself\u001b[39m, url: \u001b[39mstr\u001b[39m, save_schema: \u001b[39mbool\u001b[39m \u001b[39m=\u001b[39m \u001b[39mFalse\u001b[39;00m, cache_dir: \u001b[39mstr\u001b[39m \u001b[39m=\u001b[39m \u001b[39m\"\u001b[39m\u001b[39mschemas/\u001b[39m\u001b[39m\"\u001b[39m\n\u001b[1;32m     97\u001b[0m ) \u001b[39m-\u001b[39m\u001b[39m>\u001b[39m Subgraph:\n\u001b[1;32m     98\u001b[0m \u001b[39m    \u001b[39m\u001b[39m\"\"\"Performs introspection on the provided GraphQL API ``url`` to get the\u001b[39;00m\n\u001b[1;32m     99\u001b[0m \u001b[39m    schema, stores the schema if ``save_schema`` is ``True`` and returns a\u001b[39;00m\n\u001b[1;32m    100\u001b[0m \u001b[39m    generated class representing the subgraph with all its entities.\u001b[39;00m\n\u001b[0;32m   (...)\u001b[0m\n\u001b[1;32m    110\u001b[0m \u001b[39m      Subgraph: A generated class representing the subgraph and its entities\u001b[39;00m\n\u001b[1;32m    111\u001b[0m \u001b[39m    \"\"\"\u001b[39;00m\n\u001b[0;32m--> 113\u001b[0m     \u001b[39mreturn\u001b[39;00m \u001b[39mself\u001b[39;49m\u001b[39m.\u001b[39;49mload(url, save_schema, cache_dir, \u001b[39mTrue\u001b[39;49;00m)\n",
      "File \u001b[0;32m~/Documents/github/queryportal_notebooks/.venv/lib/python3.10/site-packages/subgrounds/subgrounds.py:84\u001b[0m, in \u001b[0;36mSubgrounds.load\u001b[0;34m(self, url, save_schema, cache_dir, is_subgraph)\u001b[0m\n\u001b[1;32m     81\u001b[0m         store_schema(schema, schema_path)\n\u001b[1;32m     83\u001b[0m \u001b[39melse\u001b[39;00m:\n\u001b[0;32m---> 84\u001b[0m     schema \u001b[39m=\u001b[39m client\u001b[39m.\u001b[39;49mget_schema(url, headers\u001b[39m=\u001b[39;49m\u001b[39mself\u001b[39;49m\u001b[39m.\u001b[39;49mheaders)\n\u001b[1;32m     86\u001b[0m subgraph \u001b[39m=\u001b[39m Subgraph(\n\u001b[1;32m     87\u001b[0m     url,\n\u001b[1;32m     88\u001b[0m     SchemaMeta(\u001b[39m*\u001b[39m\u001b[39m*\u001b[39mschema[\u001b[39m\"\u001b[39m\u001b[39m__schema\u001b[39m\u001b[39m\"\u001b[39m]),\n\u001b[1;32m     89\u001b[0m     DEFAULT_SUBGRAPH_TRANSFORMS,\n\u001b[1;32m     90\u001b[0m     is_subgraph,\n\u001b[1;32m     91\u001b[0m )\n\u001b[1;32m     92\u001b[0m \u001b[39mself\u001b[39m\u001b[39m.\u001b[39msubgraphs[url] \u001b[39m=\u001b[39m subgraph\n",
      "File \u001b[0;32m~/Documents/github/queryportal_notebooks/.venv/lib/python3.10/site-packages/subgrounds/client.py:143\u001b[0m, in \u001b[0;36mget_schema\u001b[0;34m(url, headers)\u001b[0m\n\u001b[1;32m    136\u001b[0m     \u001b[39mraise\u001b[39;00m ServerError(\n\u001b[1;32m    137\u001b[0m         \u001b[39mf\u001b[39m\u001b[39m\"\u001b[39m\u001b[39mServer (\u001b[39m\u001b[39m{\u001b[39;00murl\u001b[39m}\u001b[39;00m\u001b[39m) did not respond with proper JSON\u001b[39m\u001b[39m\"\u001b[39m\n\u001b[1;32m    138\u001b[0m         \u001b[39mf\u001b[39m\u001b[39m\"\u001b[39m\u001b[39m\\n\u001b[39;00m\u001b[39mDid you query a proper GraphQL endpoint?\u001b[39m\u001b[39m\"\u001b[39m\n\u001b[1;32m    139\u001b[0m         \u001b[39mf\u001b[39m\u001b[39m\"\u001b[39m\u001b[39m\\n\u001b[39;00m\u001b[39m\\n\u001b[39;00m\u001b[39m{\u001b[39;00mresp\u001b[39m.\u001b[39mcontent\u001b[39m}\u001b[39;00m\u001b[39m\"\u001b[39m\n\u001b[1;32m    140\u001b[0m     )\n\u001b[1;32m    142\u001b[0m \u001b[39mif\u001b[39;00m (data \u001b[39m:=\u001b[39m raw_data\u001b[39m.\u001b[39mget(\u001b[39m\"\u001b[39m\u001b[39mdata\u001b[39m\u001b[39m\"\u001b[39m)) \u001b[39mis\u001b[39;00m \u001b[39mNone\u001b[39;00m:\n\u001b[0;32m--> 143\u001b[0m     \u001b[39mraise\u001b[39;00m GraphQLError(raw_data\u001b[39m.\u001b[39mget(\u001b[39m\"\u001b[39m\u001b[39merrors\u001b[39m\u001b[39m\"\u001b[39m, \u001b[39m\"\u001b[39m\u001b[39mUnknown Error(s) Found\u001b[39m\u001b[39m\"\u001b[39m))\n\u001b[1;32m    145\u001b[0m \u001b[39mreturn\u001b[39;00m data\n",
      "\u001b[0;31mGraphQLError\u001b[0m: [{'message': 'Subgraph not found: 8L8ZJ5hqCZguKk2QyBRWWdsp2thmzHF2Egyj4TqC9NHc'}]"
     ]
    }
   ],
   "source": [
    "sg = Subgrounds(headers={\"Playgrounds-Api-Key\": os.environ.get('PG_KEY')})\n",
    "\n",
    "# https://gateway.thegraph.com/api/[api-key]/subgraphs/id/ELUcwgpm14LKPLrBRuVvPvNKHQ9HvwmtKgKSH6123cr7\n",
    "# look at header behavior with hosted vs decentralized queries\n",
    "\n",
    "# instantiate Dex class with subgraph key\n",
    "ohm = 'Cy4Y1UCyitfBZATr3PjC3s2eUwj1XxqZMN2tTGgZCNGe'\n",
    "\n",
    "subgraph = sg.load_subgraph(\n",
    "    f\"https://api.playgrounds.network/v1/proxy/subgraphs/id/{ohm}\" \n",
    ")\n"
   ]
  },
  {
   "cell_type": "code",
   "execution_count": null,
   "metadata": {},
   "outputs": [],
   "source": []
  }
 ],
 "metadata": {
  "kernelspec": {
   "display_name": ".venv",
   "language": "python",
   "name": "python3"
  },
  "language_info": {
   "codemirror_mode": {
    "name": "ipython",
    "version": 3
   },
   "file_extension": ".py",
   "mimetype": "text/x-python",
   "name": "python",
   "nbconvert_exporter": "python",
   "pygments_lexer": "ipython3",
   "version": "3.10.6"
  },
  "orig_nbformat": 4
 },
 "nbformat": 4,
 "nbformat_minor": 2
}
