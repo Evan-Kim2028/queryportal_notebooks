{
 "cells": [
  {
   "cell_type": "code",
   "execution_count": 1,
   "metadata": {},
   "outputs": [
    {
     "data": {
      "text/plain": [
       "polars.config.Config"
      ]
     },
     "execution_count": 1,
     "metadata": {},
     "output_type": "execute_result"
    }
   ],
   "source": [
    "from datetime import datetime, timedelta\n",
    "\n",
    "from subutil.schema_utils import *\n",
    "from queryportal.subgraphinterface import SubgraphInterface\n",
    "\n",
    "# plotting\n",
    "import matplotlib.pyplot as plt\n",
    "import matplotlib.dates as mdates\n",
    "import matplotlib.ticker as ticker\n",
    "\n",
    "import polars as pl\n",
    "pl.Config.set_fmt_str_lengths(200)"
   ]
  },
  {
   "cell_type": "code",
   "execution_count": 2,
   "metadata": {},
   "outputs": [],
   "source": [
    "# HOSTED Endpoints\n",
    "sgi = SubgraphInterface(endpoints=[\n",
    "    'https://api.thegraph.com/subgraphs/name/ryabina-io/graphscan', \n",
    "    ]   \n",
    ")"
   ]
  },
  {
   "cell_type": "code",
   "execution_count": 3,
   "metadata": {},
   "outputs": [],
   "source": [
    "sg_schema = getSubgraphSchema(sgi.subject.subgraphs['graphscan'])"
   ]
  },
  {
   "cell_type": "code",
   "execution_count": 4,
   "metadata": {},
   "outputs": [],
   "source": [
    "queryable_entities = getQueryFields(sgi.subject.subgraphs['graphscan'], sg_schema[sg_schema.index('Query')])"
   ]
  },
  {
   "cell_type": "code",
   "execution_count": 5,
   "metadata": {},
   "outputs": [
    {
     "data": {
      "text/plain": [
       "dict_keys(['graphNetworks', 'graphAccounts', 'graphAccountNames', 'subgraphs', 'currentSubgraphDeploymentRelations', 'networks', 'subgraphVersions', 'subgraphDeployments', 'indexers', 'indexerDelegatortRelations', 'allocations', 'pools', 'delegators', 'delegatedStakes', 'curators', 'signals', 'nameSignals', 'nameSignalSubgraphRelations', 'signalSubgraphDeploymentRelations', 'disputes', 'attestations', 'epoches', 'nameSignalTransactions', 'signalTransactions', 'bridgeWithdrawalTransactions', 'bridgeDepositTransactions', 'retryableTickets', 'retryableTicketRedeemAttempts', 'tokenManagers', 'authorizedFunctions', 'tokenLockWallets', 'indexerDeployments', 'rewardCutHistoryEntities', 'delegationPoolHistoryEntities', 'delegatorRewardHistoryEntities', 'transactions'])"
      ]
     },
     "execution_count": 5,
     "metadata": {},
     "output_type": "execute_result"
    }
   ],
   "source": [
    "queryable_entities.keys()"
   ]
  },
  {
   "attachments": {},
   "cell_type": "markdown",
   "metadata": {},
   "source": [
    "### Subgraphs"
   ]
  },
  {
   "cell_type": "code",
   "execution_count": 10,
   "metadata": {},
   "outputs": [
    {
     "name": "stdout",
     "output_type": "stream",
     "text": [
      "Querying endpoint: graphscan\n",
      "Return empty dict because filter_dict param is empty\n",
      "Shape: (50, 28)\n",
      "Schema: {'versionCount': Int64, 'createdAt': Int64, 'updatedAt': Int64, 'active': Boolean, 'migrated': Boolean, 'nftID': Utf8, 'oldID': Utf8, 'creatorAddress': Utf8, 'subgraphNumber': Int64, 'initializing': Boolean, 'entityVersion': Int64, 'signalledTokens': Float64, 'unsignalledTokens': Float64, 'currentSignalledTokens': Float64, 'nameSignalAmount': Float64, 'signalAmount': Float64, 'reserveRatio': Int64, 'withdrawableTokens': Int64, 'withdrawnTokens': Float64, 'nameSignalCount': Int64, 'currentNameSignalCount': Int64, 'metadataHash': Utf8, 'ipfsMetadataHash': Utf8, 'metadata': Boolean, 'owner_id': Utf8, 'currentVersion_id': Utf8, 'linkedEntity_id': Utf8, 'currentVersionRelationEntity_id': Utf8}\n",
      "Function 'query_entity' executed in 1.1084s\n"
     ]
    }
   ],
   "source": [
    "subgraphs = sgi.query_entity(\n",
    "    query_size=50,\n",
    "    entity='subgraphs',\n",
    "    name='graphscan'\n",
    ")"
   ]
  },
  {
   "cell_type": "code",
   "execution_count": 11,
   "metadata": {},
   "outputs": [
    {
     "data": {
      "text/html": [
       "<div><style>\n",
       ".dataframe > thead > tr > th,\n",
       ".dataframe > tbody > tr > td {\n",
       "  text-align: right;\n",
       "}\n",
       "</style>\n",
       "<small>shape: (50, 28)</small><table border=\"1\" class=\"dataframe\"><thead><tr><th>versionCount</th><th>createdAt</th><th>updatedAt</th><th>active</th><th>migrated</th><th>nftID</th><th>oldID</th><th>creatorAddress</th><th>subgraphNumber</th><th>initializing</th><th>entityVersion</th><th>signalledTokens</th><th>unsignalledTokens</th><th>currentSignalledTokens</th><th>nameSignalAmount</th><th>signalAmount</th><th>reserveRatio</th><th>withdrawableTokens</th><th>withdrawnTokens</th><th>nameSignalCount</th><th>currentNameSignalCount</th><th>metadataHash</th><th>ipfsMetadataHash</th><th>metadata</th><th>owner_id</th><th>currentVersion_id</th><th>linkedEntity_id</th><th>currentVersionRelationEntity_id</th></tr><tr><td>i64</td><td>i64</td><td>i64</td><td>bool</td><td>bool</td><td>str</td><td>str</td><td>str</td><td>i64</td><td>bool</td><td>i64</td><td>f64</td><td>f64</td><td>f64</td><td>f64</td><td>f64</td><td>i64</td><td>i64</td><td>f64</td><td>i64</td><td>i64</td><td>str</td><td>str</td><td>bool</td><td>str</td><td>str</td><td>str</td><td>str</td></tr></thead><tbody><tr><td>3</td><td>1626952878</td><td>1666288343</td><td>true</td><td>true</td><td>&quot;68799548758199140224151701590582019137924969401915573086349306511960790045480&quot;</td><td>&quot;0x00000444e5a1a667663b0adfd853e8efa0470698-0&quot;</td><td>&quot;0x00000444e5a1a667663b0adfd853e8efa0470698&quot;</td><td>0</td><td>false</td><td>1</td><td>3.3049e22</td><td>3.0205e22</td><td>2.6292e21</td><td>4.9268e19</td><td>5.0577e19</td><td>1000000</td><td>0</td><td>0.0</td><td>15</td><td>6</td><td>&quot;0x29fe8c93cf33e180b79ac3323dc000d56fd2367f9f588f4d34b769e487e2fddf&quot;</td><td>&quot;QmRAaYqQFP4fms9oWFqFy9ou3Qexz4gZKVQ5asbqFKijWW&quot;</td><td>null</td><td>&quot;0x00000444e5a1a667663b0adfd853e8efa0470698&quot;</td><td>&quot;0x00000444e5a1a667663b0adfd853e8efa0470698-0-2&quot;</td><td>&quot;BEkzgsGPhih7VE6aVwUL4h7EZyXJjZYn16T9PE5XCmou&quot;</td><td>&quot;0xfab47aee5aa8168e6bcf8f9e743dcb778ebe3a471da3db32cc480faa17a9524a-1&quot;</td></tr><tr><td>4</td><td>1631270681</td><td>1666287635</td><td>true</td><td>true</td><td>&quot;85682472774008607998045158721779114245272147800202251275442169757064195163713&quot;</td><td>&quot;0x00000444e5a1a667663b0adfd853e8efa0470698-1&quot;</td><td>&quot;0x00000444e5a1a667663b0adfd853e8efa0470698&quot;</td><td>1</td><td>false</td><td>1</td><td>2.4408e22</td><td>2.0775e22</td><td>3.4924e21</td><td>5.7684e19</td><td>5.8528e19</td><td>1000000</td><td>0</td><td>0.0</td><td>3</td><td>2</td><td>&quot;0x1eecf1e1d2cf15b1368a156cc277778be544171d80f345363709cc3218fbdc04&quot;</td><td>&quot;QmQRNVhnTzgHpWEaMfkUveaoJWUHLN3aKYaVRCsc9Lx4Tm&quot;</td><td>null</td><td>&quot;0x00000444e5a1a667663b0adfd853e8efa0470698&quot;</td><td>&quot;0x00000444e5a1a667663b0adfd853e8efa0470698-1-3&quot;</td><td>&quot;DkTqTw7xhNi8BsDsJU341RhCQ1aRuGT5uWPAi5FqjHYk&quot;</td><td>&quot;0x14bffb85c82d48e1827a35833397f1a3e2353e584270844920dd6581d23efa6e-1&quot;</td></tr><tr><td>1</td><td>1632531127</td><td>1645641068</td><td>true</td><td>true</td><td>&quot;11719953660656941433864855411098841739019710770423046532081334160278425133917&quot;</td><td>&quot;0x00000444e5a1a667663b0adfd853e8efa0470698-2&quot;</td><td>&quot;0x00000444e5a1a667663b0adfd853e8efa0470698&quot;</td><td>2</td><td>false</td><td>1</td><td>0.0</td><td>0.0</td><td>0.0</td><td>0.0</td><td>0.0</td><td>1000000</td><td>0</td><td>0.0</td><td>0</td><td>0</td><td>&quot;0x93119da5c231620c5846010e6fc19ca780517adbddbf04270fd1291da80f96fc&quot;</td><td>&quot;QmYEkDkRRcWtbmLLvA7YdcWNmGT6jyaoRF321BEiXiLiKV&quot;</td><td>null</td><td>&quot;0x00000444e5a1a667663b0adfd853e8efa0470698&quot;</td><td>&quot;0x00000444e5a1a667663b0adfd853e8efa0470698-2-0&quot;</td><td>&quot;2k9VHMLhgZYjp3e4mfVPEbNyogUKNJ9hhTUMC39jWvfe&quot;</td><td>&quot;0xa6c1aade9533aff22e69dc3e73ab18f3a2e72c7cd11045a47e786682420c02b0-0&quot;</td></tr><tr><td>1</td><td>1640013684</td><td>1645641068</td><td>true</td><td>true</td><td>&quot;110194345598025074316775413481306264575587029666500696462150340646148730141759&quot;</td><td>&quot;0x00796e910bd0228ddf4cd79e3f353871a61c351c-0&quot;</td><td>&quot;0x00796e910bd0228ddf4cd79e3f353871a61c351c&quot;</td><td>0</td><td>false</td><td>1</td><td>0.0</td><td>0.0</td><td>0.0</td><td>0.0</td><td>0.0</td><td>1000000</td><td>0</td><td>0.0</td><td>0</td><td>0</td><td>&quot;0xe7dc94248350faa54260f8e2830ef5b6db725619fe2b3953439cc3c2b1fd9fbd&quot;</td><td>&quot;Qmdwjy8i5YfnFoWE8G8KGNF8NBJ6hfbUYy2a57Pek32qoi&quot;</td><td>null</td><td>&quot;0x00796e910bd0228ddf4cd79e3f353871a61c351c&quot;</td><td>&quot;0x00796e910bd0228ddf4cd79e3f353871a61c351c-0-0&quot;</td><td>&quot;HQ1PZuPJ1sEkunR3xNccWZaPaUUrmQnkXQD8AGoRfyXc&quot;</td><td>&quot;0x2990653d246bbd3867d57363a326c294b2ffe183230dd21e04f5e3afaee8f0a7-0&quot;</td></tr><tr><td>4</td><td>1626773090</td><td>1663147778</td><td>true</td><td>true</td><td>&quot;95755325675488464843839708287409738347587022291036822904373868724208803222781&quot;</td><td>&quot;0x021c1a1ce318e7b4545f6280b248062592b71706-0&quot;</td><td>&quot;0x021c1a1ce318e7b4545f6280b248062592b71706&quot;</td><td>0</td><td>false</td><td>1</td><td>9.0348e22</td><td>8.6302e22</td><td>2.1711e21</td><td>4.7086e19</td><td>4.6576e19</td><td>1000000</td><td>0</td><td>0.0</td><td>26</td><td>10</td><td>&quot;0x83afecc016f5b074456a738f998ab4cf2a12a566e77959e27c922a4431207445&quot;</td><td>&quot;QmXChhwi6hsReUV5JV2LShdBvb7Tg1xWaH9vBCvVfT35GY&quot;</td><td>null</td><td>&quot;0x8a316183e03056c03e16effce8f92942064ae22e&quot;</td><td>&quot;0x021c1a1ce318e7b4545f6280b248062592b71706-0-3&quot;</td><td>&quot;FFPrkhXdhQzE8i3hqCymMPTHLDnNAUCYMq7ArczbfQSg&quot;</td><td>&quot;0x49b35df0f617f79c9233a49a34da53bb497d0cd3e2f78b92b40f0aea4cf9ff40-1&quot;</td></tr><tr><td>1</td><td>1627359081</td><td>1645639991</td><td>true</td><td>true</td><td>&quot;48564979444842418538789915011392012137227330169792668520508981195808971965401&quot;</td><td>&quot;0x026de7b3d021dd600438f69e49c0e34495bf0edc-0&quot;</td><td>&quot;0x026de7b3d021dd600438f69e49c0e34495bf0edc&quot;</td><td>0</td><td>false</td><td>1</td><td>1.7681e21</td><td>1.6606e21</td><td>7.3313e19</td><td>8.5623e18</td><td>8.5623e18</td><td>1000000</td><td>0</td><td>0.0</td><td>3</td><td>1</td><td>&quot;0xc99f38e45e910d29879c7fdf1b66ea345bd111c89d3631a1c27877a4ede350fc&quot;</td><td>&quot;QmbuhURusZYZ7AQUT6u2LoQAgPXqUva6X7J1BLjhBxyNtB&quot;</td><td>null</td><td>&quot;0x026de7b3d021dd600438f69e49c0e34495bf0edc&quot;</td><td>&quot;0x026de7b3d021dd600438f69e49c0e34495bf0edc-0-0&quot;</td><td>&quot;8E8UCqrmEJB1sFvZA8q2EqNUzCPEcpbW2rG88fFfgbkU&quot;</td><td>&quot;0x112efda0d0c6f9d853f3e0e5f7bc789003efbff0603c573fea0d79e63acc5720-0&quot;</td></tr><tr><td>1</td><td>1626489936</td><td>1626820918</td><td>false</td><td>false</td><td>&quot;69528595090882432669340376607820083629461007326245010379676714692567364309912&quot;</td><td>&quot;0x03c65e533cc73cc65cd71a0cb65efa4b11e74c22-0&quot;</td><td>&quot;0x03c65e533cc73cc65cd71a0cb65efa4b11e74c22&quot;</td><td>0</td><td>false</td><td>1</td><td>3.5000e21</td><td>3.4125e21</td><td>0.0</td><td>0.0</td><td>0.0</td><td>1000000</td><td>0</td><td>0.0</td><td>1</td><td>0</td><td>&quot;0xbd37407528628edbdc2703dd0297097e41bb95b101c382d6f8fddcd8f15df58a&quot;</td><td>&quot;Qmb5GdTURXitxWKaR32myzFHFbeFbLz8paYMT49Tc2Ms9b&quot;</td><td>null</td><td>&quot;0x03c65e533cc73cc65cd71a0cb65efa4b11e74c22&quot;</td><td>&quot;0x03c65e533cc73cc65cd71a0cb65efa4b11e74c22-0-0&quot;</td><td>&quot;BM3vXF5bRFy4NRYrYirEnkfNsi3veUetKrqvqxmwMPSP&quot;</td><td>&quot;0x5810a347d14f96f811a812c17c8ff894cda17b8b4aecb83ac53645db19357866-0&quot;</td></tr><tr><td>1</td><td>1626491747</td><td>1626821718</td><td>false</td><td>false</td><td>&quot;20100332774405112491328210982788013806975338433837729166166959986686759267697&quot;</td><td>&quot;0x03c65e533cc73cc65cd71a0cb65efa4b11e74c22-1&quot;</td><td>&quot;0x03c65e533cc73cc65cd71a0cb65efa4b11e74c22&quot;</td><td>1</td><td>false</td><td>1</td><td>3.8000e21</td><td>3.7050e21</td><td>0.0</td><td>0.0</td><td>0.0</td><td>1000000</td><td>0</td><td>0.0</td><td>2</td><td>0</td><td>&quot;0x45926246b7a13663ccacd05331419b7c2519bbc8b8bb6be89ab285022eb6e557&quot;</td><td>&quot;QmT2EJYgkXP1vmMiYwHKgpEnEYxKEuo2sAj9QR6PVN6Wjg&quot;</td><td>null</td><td>&quot;0x03c65e533cc73cc65cd71a0cb65efa4b11e74c22&quot;</td><td>&quot;0x03c65e533cc73cc65cd71a0cb65efa4b11e74c22-1-0&quot;</td><td>&quot;3zULJJdf5s9d87rn5aDgoT4pE5Uih3z6SAEumXy1dQqv&quot;</td><td>&quot;0xc82ce9a2b81ff400e4159c035e19baf0095bed1e72ba2d8c07ae611217eda640-0&quot;</td></tr><tr><td>1</td><td>1626493928</td><td>1626543856</td><td>false</td><td>false</td><td>&quot;55356231514876955780337854534392410603257161030849698823474997042910591043806&quot;</td><td>&quot;0x03c65e533cc73cc65cd71a0cb65efa4b11e74c22-2&quot;</td><td>&quot;0x03c65e533cc73cc65cd71a0cb65efa4b11e74c22&quot;</td><td>2</td><td>false</td><td>1</td><td>3.0000e20</td><td>2.9250e20</td><td>0.0</td><td>0.0</td><td>0.0</td><td>1000000</td><td>0</td><td>0.0</td><td>1</td><td>0</td><td>&quot;0x3b9721ef654fc1de4fb3654d8b27eb152face455c64bab02011e417575cc1077&quot;</td><td>&quot;QmSMGRfgGs4MhwJT64f1ipzJZWtvjJ8FEECqi3psBGcZBC&quot;</td><td>null</td><td>&quot;0x03c65e533cc73cc65cd71a0cb65efa4b11e74c22&quot;</td><td>&quot;0x03c65e533cc73cc65cd71a0cb65efa4b11e74c22-2-0&quot;</td><td>&quot;9EjsLLp4Ti39xUfZE1Xzz6bjwuzJSc3tVb3FvYxugq65&quot;</td><td>&quot;0xc82ce9a2b81ff400e4159c035e19baf0095bed1e72ba2d8c07ae611217eda640-2&quot;</td></tr><tr><td>1</td><td>1626494789</td><td>1626543856</td><td>false</td><td>false</td><td>&quot;93307171649197846171618072729810902339906644799349566641011207212658227874851&quot;</td><td>&quot;0x03c65e533cc73cc65cd71a0cb65efa4b11e74c22-3&quot;</td><td>&quot;0x03c65e533cc73cc65cd71a0cb65efa4b11e74c22&quot;</td><td>3</td><td>false</td><td>1</td><td>0.0</td><td>0.0</td><td>0.0</td><td>0.0</td><td>0.0</td><td>1000000</td><td>0</td><td>0.0</td><td>0</td><td>0</td><td>&quot;0x3b9721ef654fc1de4fb3654d8b27eb152face455c64bab02011e417575cc1077&quot;</td><td>&quot;QmSMGRfgGs4MhwJT64f1ipzJZWtvjJ8FEECqi3psBGcZBC&quot;</td><td>null</td><td>&quot;0x03c65e533cc73cc65cd71a0cb65efa4b11e74c22&quot;</td><td>&quot;0x03c65e533cc73cc65cd71a0cb65efa4b11e74c22-3-0&quot;</td><td>&quot;EtGRQWQruHSy9sZUHwX4FKXQPT3p15xsV6Bx3Pt5LMHU&quot;</td><td>&quot;0xc82ce9a2b81ff400e4159c035e19baf0095bed1e72ba2d8c07ae611217eda640-4&quot;</td></tr><tr><td>1</td><td>1626495010</td><td>1626823408</td><td>false</td><td>false</td><td>&quot;87259217639070101927855077622832522890808645041320560353072192469775400454745&quot;</td><td>&quot;0x03c65e533cc73cc65cd71a0cb65efa4b11e74c22-4&quot;</td><td>&quot;0x03c65e533cc73cc65cd71a0cb65efa4b11e74c22&quot;</td><td>4</td><td>false</td><td>1</td><td>0.0</td><td>0.0</td><td>0.0</td><td>0.0</td><td>0.0</td><td>1000000</td><td>0</td><td>0.0</td><td>0</td><td>0</td><td>&quot;0x5998fe5b6e689794aebf986beac1557367cba0f18d666bf8ec3aa037e6f08877&quot;</td><td>&quot;QmUNQJXLcS2gZP41gKEMe7YcMmSamzCnDeEKYRMYgucMkJ&quot;</td><td>null</td><td>&quot;0x03c65e533cc73cc65cd71a0cb65efa4b11e74c22&quot;</td><td>&quot;0x03c65e533cc73cc65cd71a0cb65efa4b11e74c22-4-0&quot;</td><td>&quot;Dz55sRXXemD3QUos3orXQWm5GQs3ACECGDbE86ZVsyrG&quot;</td><td>&quot;0xc82ce9a2b81ff400e4159c035e19baf0095bed1e72ba2d8c07ae611217eda640-6&quot;</td></tr><tr><td>1</td><td>1626495285</td><td>1626823413</td><td>false</td><td>false</td><td>&quot;19268418813369231968506254961923144715358687436287259493758830026769830832936&quot;</td><td>&quot;0x03c65e533cc73cc65cd71a0cb65efa4b11e74c22-5&quot;</td><td>&quot;0x03c65e533cc73cc65cd71a0cb65efa4b11e74c22&quot;</td><td>5</td><td>false</td><td>1</td><td>0.0</td><td>0.0</td><td>0.0</td><td>0.0</td><td>0.0</td><td>1000000</td><td>0</td><td>0.0</td><td>0</td><td>0</td><td>&quot;0x5998fe5b6e689794aebf986beac1557367cba0f18d666bf8ec3aa037e6f08877&quot;</td><td>&quot;QmUNQJXLcS2gZP41gKEMe7YcMmSamzCnDeEKYRMYgucMkJ&quot;</td><td>null</td><td>&quot;0x03c65e533cc73cc65cd71a0cb65efa4b11e74c22&quot;</td><td>&quot;0x03c65e533cc73cc65cd71a0cb65efa4b11e74c22-5-0&quot;</td><td>&quot;3sHuzLagq1T5yYrsctLtz7QdcNAGsdsodHk7j3g2mrVV&quot;</td><td>&quot;0xc82ce9a2b81ff400e4159c035e19baf0095bed1e72ba2d8c07ae611217eda640-8&quot;</td></tr><tr><td>&hellip;</td><td>&hellip;</td><td>&hellip;</td><td>&hellip;</td><td>&hellip;</td><td>&hellip;</td><td>&hellip;</td><td>&hellip;</td><td>&hellip;</td><td>&hellip;</td><td>&hellip;</td><td>&hellip;</td><td>&hellip;</td><td>&hellip;</td><td>&hellip;</td><td>&hellip;</td><td>&hellip;</td><td>&hellip;</td><td>&hellip;</td><td>&hellip;</td><td>&hellip;</td><td>&hellip;</td><td>&hellip;</td><td>&hellip;</td><td>&hellip;</td><td>&hellip;</td><td>&hellip;</td><td>&hellip;</td></tr><tr><td>2</td><td>1632000657</td><td>1680753695</td><td>true</td><td>true</td><td>&quot;10079517284384445844649179096481850601670588412172248176924489166414010519462&quot;</td><td>&quot;0x1f2414d0af8741bc822dbc2f88069c2b2907a840-0&quot;</td><td>&quot;0x1f2414d0af8741bc822dbc2f88069c2b2907a840&quot;</td><td>0</td><td>false</td><td>1</td><td>4.2726e21</td><td>1.4812e21</td><td>2.7227e21</td><td>5.2508e19</td><td>5.2179e19</td><td>1000000</td><td>0</td><td>0.0</td><td>2</td><td>2</td><td>&quot;0x88d22e02481f91d33eb2c8ed3d3097d1be9c650f2b04a9968f231935894b82ab&quot;</td><td>&quot;QmXYk3JK16GBU6BH4qsFG14bBdPiWUXa2V8au3Tg3aeXtE&quot;</td><td>null</td><td>&quot;0x1f2414d0af8741bc822dbc2f88069c2b2907a840&quot;</td><td>&quot;0x1f2414d0af8741bc822dbc2f88069c2b2907a840-0-1&quot;</td><td>&quot;2VzMmiJbXanpgL5xGbadn6YFfWZ8ewothYJQSAuvzgay&quot;</td><td>&quot;0x31bf87b8d58ab818336b5c6213a6f7a263f8e437170bb7450126ce09547f76e9-0&quot;</td></tr><tr><td>1</td><td>1626506484</td><td>1645640656</td><td>true</td><td>true</td><td>&quot;88476888692045715544885951089590990216398418107337761709158587495074867775952&quot;</td><td>&quot;0x1f90acb4cdb238858c7347c9fbd8a1c44caa7928-0&quot;</td><td>&quot;0x1f90acb4cdb238858c7347c9fbd8a1c44caa7928&quot;</td><td>0</td><td>false</td><td>1</td><td>7.5000e21</td><td>7.3425e21</td><td>3.4125e15</td><td>5.8417e16</td><td>5.8417e16</td><td>1000000</td><td>0</td><td>0.0</td><td>3</td><td>1</td><td>&quot;0x9fe43a816ef05faaa5b77d8554db347c0c90be205d3e7317e74b12d71a8a3fae&quot;</td><td>&quot;QmZ6oNzRtykYnHm57PoGUWSf2vTJDhtSzopeUTa3JHw74R&quot;</td><td>null</td><td>&quot;0x1f90acb4cdb238858c7347c9fbd8a1c44caa7928&quot;</td><td>&quot;0x1f90acb4cdb238858c7347c9fbd8a1c44caa7928-0-0&quot;</td><td>&quot;EAabZitXhygFzb9gXNCvwRvfeNJf2qkffv3Kykhdqbj5&quot;</td><td>&quot;0x11bd056572a84f4f2700896fcd3a7434947cdb5a768ec4028f7935cd2cc2c687-0&quot;</td></tr><tr><td>1</td><td>1626506862</td><td>1645640656</td><td>true</td><td>true</td><td>&quot;5943847768616365021305139219567671486073109474333558193956979093799165305334&quot;</td><td>&quot;0x1f90acb4cdb238858c7347c9fbd8a1c44caa7928-1&quot;</td><td>&quot;0x1f90acb4cdb238858c7347c9fbd8a1c44caa7928&quot;</td><td>1</td><td>false</td><td>1</td><td>7.5895e21</td><td>7.3998e21</td><td>3.4125e15</td><td>5.8417e16</td><td>5.8417e16</td><td>1000000</td><td>0</td><td>0.0</td><td>4</td><td>1</td><td>&quot;0x12a01458245a97dd74b5197b079b64c1d6d51ae685a3fd6d9f7cbff20d303c45&quot;</td><td>&quot;QmPbMd6fw7pLjKtpVETeT53nNBVwso85b7EExoWH6UCdAc&quot;</td><td>null</td><td>&quot;0x1f90acb4cdb238858c7347c9fbd8a1c44caa7928&quot;</td><td>&quot;0x1f90acb4cdb238858c7347c9fbd8a1c44caa7928-1-0&quot;</td><td>&quot;tJE6qFQFLTKdP1gYZre6uasdCpiosBuAeUtmtmQDZT3&quot;</td><td>&quot;0x4509060e1d1548bfd381baeacdadf0c163788e9dc472de48f523dbc4452742e3-0&quot;</td></tr><tr><td>1</td><td>1626522498</td><td>1645640656</td><td>true</td><td>true</td><td>&quot;57548247918208542236565859738846905026532018615707250952377700465061518246026&quot;</td><td>&quot;0x1f90acb4cdb238858c7347c9fbd8a1c44caa7928-2&quot;</td><td>&quot;0x1f90acb4cdb238858c7347c9fbd8a1c44caa7928&quot;</td><td>2</td><td>false</td><td>1</td><td>6.0000e21</td><td>5.8500e21</td><td>3.4165e13</td><td>5.8417e15</td><td>5.8417e15</td><td>1000000</td><td>0</td><td>0.0</td><td>3</td><td>1</td><td>&quot;0x5865ce3a46aeb58cd1cb98c9a364e51568d9dd5d37c12410e83264d046073f2d&quot;</td><td>&quot;QmUHidARpQ9K7CmaRDEWXytNXjMxVQsH9StySqg1WYbWQ4&quot;</td><td>null</td><td>&quot;0x1f90acb4cdb238858c7347c9fbd8a1c44caa7928&quot;</td><td>&quot;0x1f90acb4cdb238858c7347c9fbd8a1c44caa7928-2-0&quot;</td><td>&quot;9Zf6SP4v3T6td9tyCwZtjh5eEnQ8dUbVpDdWf1eAHguP&quot;</td><td>&quot;0x7cc21483037a393f606f57c1f937a90d93e743fc7111855e91bc8a946ff769d6-0&quot;</td></tr><tr><td>2</td><td>1626054855</td><td>1645640161</td><td>true</td><td>true</td><td>&quot;59906876677540725309166331811475585242070025274389759362551453652366652704783&quot;</td><td>&quot;0x210c43953bad387654fb4c997ccc1609a6b1125e-0&quot;</td><td>&quot;0x210c43953bad387654fb4c997ccc1609a6b1125e&quot;</td><td>0</td><td>false</td><td>1</td><td>2.3892e22</td><td>2.3038e22</td><td>3.0466e20</td><td>1.7565e19</td><td>1.7455e19</td><td>1000000</td><td>0</td><td>0.0</td><td>12</td><td>2</td><td>&quot;0xabf405717d6b21ca4c18f7d66f7a29dcb7258c0a67ef6afa87ce4da26f89c324&quot;</td><td>&quot;QmZutEqvPSxoDJAkxEc9E6onASyzmmiWXCbzxiRkReVKKR&quot;</td><td>null</td><td>&quot;0x210c43953bad387654fb4c997ccc1609a6b1125e&quot;</td><td>&quot;0x210c43953bad387654fb4c997ccc1609a6b1125e-0-1&quot;</td><td>&quot;9v1ifmYRmB2mEtf12FVzYVpBnKgDwJ3v8g9mcmwBGrXg&quot;</td><td>&quot;0x7d5eb56f0066ecba7b6126c789418d1b2d0bb4e62510a11d941599a6e96253b9-0&quot;</td></tr><tr><td>1</td><td>1626090555</td><td>1645640578</td><td>true</td><td>true</td><td>&quot;111077570032954363927093627419829445758123888856377360293656568275281534316303&quot;</td><td>&quot;0x210c43953bad387654fb4c997ccc1609a6b1125e-1&quot;</td><td>&quot;0x210c43953bad387654fb4c997ccc1609a6b1125e&quot;</td><td>1</td><td>false</td><td>1</td><td>2.0038e22</td><td>2.1687e22</td><td>3.4280e17</td><td>5.8549e17</td><td>5.8549e17</td><td>1000000</td><td>0</td><td>0.0</td><td>5</td><td>2</td><td>&quot;0xc61445d90837dc9df2ca5986bd03fd7296f3542404691fc794e8c3fb24195d35&quot;</td><td>&quot;QmbfsN1ijWfzF2THfp9Lp8SF2yJknh1udrmZwgSPnvQWAG&quot;</td><td>null</td><td>&quot;0x210c43953bad387654fb4c997ccc1609a6b1125e&quot;</td><td>&quot;0x210c43953bad387654fb4c997ccc1609a6b1125e-1-0&quot;</td><td>&quot;HXdVXybqk6N8wu8UmCQTbPf5yDdHSE25QcYCknc7v2Ce&quot;</td><td>&quot;0x087a6e8c03e01c5f29767e57ff2dd0ea619de26c46841ce4cf952e1c9cd64c07-0&quot;</td></tr><tr><td>7</td><td>1626091375</td><td>1645640578</td><td>true</td><td>true</td><td>&quot;105046266142129504394135050698614684118392179568383146809428010320047206370977&quot;</td><td>&quot;0x210c43953bad387654fb4c997ccc1609a6b1125e-2&quot;</td><td>&quot;0x210c43953bad387654fb4c997ccc1609a6b1125e&quot;</td><td>2</td><td>false</td><td>1</td><td>1.7510e23</td><td>1.7221e23</td><td>8.4473e15</td><td>9.2489e16</td><td>9.1909e16</td><td>1000000</td><td>0</td><td>0.0</td><td>6</td><td>1</td><td>&quot;0x7a908b72d19a934bbca14d74444b04dac35559a36f57a184209c29007f84698c&quot;</td><td>&quot;QmWb6HU9VYwSmpMFC14GGj56UgmfKQrEjhkGDwYMBRRWBu&quot;</td><td>null</td><td>&quot;0x210c43953bad387654fb4c997ccc1609a6b1125e&quot;</td><td>&quot;0x210c43953bad387654fb4c997ccc1609a6b1125e-2-6&quot;</td><td>&quot;GdaVPWUKmn4smhqUJFoZKiKvfr291cGYppFHAzpGLvU8&quot;</td><td>&quot;0xb71738e2cfee4a013449cd09dd89fc1eeb2ead8941e2a8a006d1db605d761d26-0&quot;</td></tr><tr><td>6</td><td>1626092033</td><td>1645641068</td><td>true</td><td>true</td><td>&quot;74383935091355494477683932203374903529012254576016394773945005372368626860728&quot;</td><td>&quot;0x210c43953bad387654fb4c997ccc1609a6b1125e-3&quot;</td><td>&quot;0x210c43953bad387654fb4c997ccc1609a6b1125e&quot;</td><td>3</td><td>false</td><td>1</td><td>1.2529e23</td><td>1.2282e23</td><td>0.0</td><td>0.0</td><td>0.0</td><td>1000000</td><td>0</td><td>0.0</td><td>5</td><td>0</td><td>&quot;0x0d5816e708d47961c869fa2c8357cbf3c5a26d8376b77df552604469bbfff935&quot;</td><td>&quot;QmPEjv6we17Hf95f6dWiWoFix7bBX9fLHA8dGiAzFPijgp&quot;</td><td>null</td><td>&quot;0x210c43953bad387654fb4c997ccc1609a6b1125e&quot;</td><td>&quot;0x210c43953bad387654fb4c997ccc1609a6b1125e-3-5&quot;</td><td>&quot;C4xHpoUBxBN49HjAMzdPnuE8rE1wFEAnW2R7h2gUYZqq&quot;</td><td>&quot;0xea93addb2d214e40a4b9c1881d42c489a531b6d3caba1fed81506973f16da8d0-0&quot;</td></tr><tr><td>1</td><td>1626092437</td><td>1645641068</td><td>true</td><td>true</td><td>&quot;26835974872683874417987927441811791711260636032264706280949489314999345784416&quot;</td><td>&quot;0x210c43953bad387654fb4c997ccc1609a6b1125e-4&quot;</td><td>&quot;0x210c43953bad387654fb4c997ccc1609a6b1125e&quot;</td><td>4</td><td>false</td><td>1</td><td>6.3380e21</td><td>3.8769e21</td><td>3.4280e17</td><td>0.0</td><td>0.0</td><td>1000000</td><td>0</td><td>0.0</td><td>3</td><td>0</td><td>&quot;0xbefbb5e830ac89c6ffb4a7dd96a6e00b5e7e47f8106122766185ad18d5acd16f&quot;</td><td>&quot;QmbCAnZ6fMLaMaZtQ5JD5b7JNZQDjxsKmFj252LmvUmtAA&quot;</td><td>null</td><td>&quot;0x210c43953bad387654fb4c997ccc1609a6b1125e&quot;</td><td>&quot;0x210c43953bad387654fb4c997ccc1609a6b1125e-4-0&quot;</td><td>&quot;4zbtwuajV84eEfAs8Vo3xtDxfTuvbE2xGgzoJocWtexF&quot;</td><td>&quot;0x087a6e8c03e01c5f29767e57ff2dd0ea619de26c46841ce4cf952e1c9cd64c07-4&quot;</td></tr><tr><td>1</td><td>1626463231</td><td>1645640656</td><td>true</td><td>true</td><td>&quot;44045938853398043099342175878948874577117847950069916100471907064147223596644&quot;</td><td>&quot;0x213105d094ed4d7fa0c6d86cba8570f325884c3d-0&quot;</td><td>&quot;0x213105d094ed4d7fa0c6d86cba8570f325884c3d&quot;</td><td>0</td><td>false</td><td>1</td><td>8.5000e21</td><td>8.2875e21</td><td>3.4125e15</td><td>5.8417e16</td><td>5.8417e16</td><td>1000000</td><td>0</td><td>0.0</td><td>3</td><td>1</td><td>&quot;0x5792855ef21979717aeeefbae09e8d604f3df88e59e97aa059c387994900afb6&quot;</td><td>&quot;QmUEVmDTXSiuyQxVx85dfgpHGKHDtvoH45fKkWjRUv2ncV&quot;</td><td>null</td><td>&quot;0x213105d094ed4d7fa0c6d86cba8570f325884c3d&quot;</td><td>&quot;0x213105d094ed4d7fa0c6d86cba8570f325884c3d-0-0&quot;</td><td>&quot;7Z8SRNKMLqpsZWSnjUKHXvmoPqPRSPPwFZGzhwEAKoby&quot;</td><td>&quot;0x8c7550cd95c55735e0e811058085db41f40c99ffbd8d531a34398dbd0a3ff586-0&quot;</td></tr><tr><td>5</td><td>1626813334</td><td>1645639798</td><td>true</td><td>true</td><td>&quot;109714175655899115658361626950040281459624353105890381030090156801124444412513&quot;</td><td>&quot;0x21f7db7daa3f03100eb6ad36f79e20972a79e6c0-0&quot;</td><td>&quot;0x21f7db7daa3f03100eb6ad36f79e20972a79e6c0&quot;</td><td>0</td><td>false</td><td>1</td><td>3.5548e22</td><td>3.1361e22</td><td>3.6259e21</td><td>6.1297e19</td><td>6.0000e19</td><td>1000000</td><td>0</td><td>0.0</td><td>10</td><td>7</td><td>&quot;0xad038d81552bc64e0a678ab469f5afa8cc24c6c4d26dcda89dc4b8bb6b3a8130&quot;</td><td>&quot;QmZz2PBkv65esSXZQNcBxok6kuNortVQ7y2U3hGtYcrmj5&quot;</td><td>null</td><td>&quot;0x21f7db7daa3f03100eb6ad36f79e20972a79e6c0&quot;</td><td>&quot;0x21f7db7daa3f03100eb6ad36f79e20972a79e6c0-0-4&quot;</td><td>&quot;HKs3AibRfaJ4pkvTF1orAx6DgkqbDdHrwcykDkgombWg&quot;</td><td>&quot;0xb2b3f2e6116356b2357db9411ac6465ee5aaa7fcf6656d991e19e9c1a7378035-0&quot;</td></tr><tr><td>2</td><td>1643607016</td><td>1649688126</td><td>true</td><td>true</td><td>&quot;103300222220342804587997669323536171756493669597010147993243788670332291110068&quot;</td><td>&quot;0x235a2ac113014f9dcb8aba6577f20290832ddefd-0&quot;</td><td>&quot;0x235a2ac113014f9dcb8aba6577f20290832ddefd&quot;</td><td>0</td><td>false</td><td>1</td><td>1.0020e22</td><td>9.9500e18</td><td>1.0048e22</td><td>9.9798e19</td><td>9.9548e19</td><td>1000000</td><td>0</td><td>0.0</td><td>1</td><td>1</td><td>&quot;0xec8e273e6cc66a9469ca6418035dcd413a794ace81427ca3e4531a1f249e23c9&quot;</td><td>&quot;QmeG4eVngpGezJznuUpPaYWzc5svwB9ya32SpbgfpvTEhe&quot;</td><td>null</td><td>&quot;0x235a2ac113014f9dcb8aba6577f20290832ddefd&quot;</td><td>&quot;0x235a2ac113014f9dcb8aba6577f20290832ddefd-0-1&quot;</td><td>&quot;GNWVrcrjYSszMk6zNrRBAnDCx3Mg6iSu7u5276VXShxP&quot;</td><td>&quot;0x3a7eb2c4be92ceb40402ba05a357ba291860c70626cb2afdefd59adff8519d10-1&quot;</td></tr></tbody></table></div>"
      ],
      "text/plain": [
       "shape: (50, 28)\n",
       "┌────────────┬───────────┬──────────┬────────┬───┬──────────┬────────────┬────────────┬────────────┐\n",
       "│ versionCou ┆ createdAt ┆ updatedA ┆ active ┆ … ┆ owner_id ┆ currentVer ┆ linkedEnti ┆ currentVer │\n",
       "│ nt         ┆ ---       ┆ t        ┆ ---    ┆   ┆ ---      ┆ sion_id    ┆ ty_id      ┆ sionRelati │\n",
       "│ ---        ┆ i64       ┆ ---      ┆ bool   ┆   ┆ str      ┆ ---        ┆ ---        ┆ onEntity_i │\n",
       "│ i64        ┆           ┆ i64      ┆        ┆   ┆          ┆ str        ┆ str        ┆ d          │\n",
       "│            ┆           ┆          ┆        ┆   ┆          ┆            ┆            ┆ ---        │\n",
       "│            ┆           ┆          ┆        ┆   ┆          ┆            ┆            ┆ str        │\n",
       "╞════════════╪═══════════╪══════════╪════════╪═══╪══════════╪════════════╪════════════╪════════════╡\n",
       "│ 3          ┆ 162695287 ┆ 16662883 ┆ true   ┆ … ┆ 0x000004 ┆ 0x00000444 ┆ BEkzgsGPhi ┆ 0xfab47aee │\n",
       "│            ┆ 8         ┆ 43       ┆        ┆   ┆ 44e5a1a6 ┆ e5a1a66766 ┆ h7VE6aVwUL ┆ 5aa8168e6b │\n",
       "│            ┆           ┆          ┆        ┆   ┆ 67663b0a ┆ 3b0adfd853 ┆ 4h7EZyXJjZ ┆ cf8f9e743d │\n",
       "│            ┆           ┆          ┆        ┆   ┆ dfd853e8 ┆ e8efa04706 ┆ Yn16T9PE5X ┆ cb778ebe3a │\n",
       "│            ┆           ┆          ┆        ┆   ┆ efa04706 ┆ 98-0-2     ┆ Cmou       ┆ 471da3db32 │\n",
       "│            ┆           ┆          ┆        ┆   ┆ 98       ┆            ┆            ┆ cc480faa17 │\n",
       "│            ┆           ┆          ┆        ┆   ┆          ┆            ┆            ┆ a9524a-1   │\n",
       "│ 4          ┆ 163127068 ┆ 16662876 ┆ true   ┆ … ┆ 0x000004 ┆ 0x00000444 ┆ DkTqTw7xhN ┆ 0x14bffb85 │\n",
       "│            ┆ 1         ┆ 35       ┆        ┆   ┆ 44e5a1a6 ┆ e5a1a66766 ┆ i8BsDsJU34 ┆ c82d48e182 │\n",
       "│            ┆           ┆          ┆        ┆   ┆ 67663b0a ┆ 3b0adfd853 ┆ 1RhCQ1aRuG ┆ 7a35833397 │\n",
       "│            ┆           ┆          ┆        ┆   ┆ dfd853e8 ┆ e8efa04706 ┆ T5uWPAi5Fq ┆ f1a3e2353e │\n",
       "│            ┆           ┆          ┆        ┆   ┆ efa04706 ┆ 98-1-3     ┆ jHYk       ┆ 5842708449 │\n",
       "│            ┆           ┆          ┆        ┆   ┆ 98       ┆            ┆            ┆ 20dd6581d2 │\n",
       "│            ┆           ┆          ┆        ┆   ┆          ┆            ┆            ┆ 3efa6e-1   │\n",
       "│ 1          ┆ 163253112 ┆ 16456410 ┆ true   ┆ … ┆ 0x000004 ┆ 0x00000444 ┆ 2k9VHMLhgZ ┆ 0xa6c1aade │\n",
       "│            ┆ 7         ┆ 68       ┆        ┆   ┆ 44e5a1a6 ┆ e5a1a66766 ┆ Yjp3e4mfVP ┆ 9533aff22e │\n",
       "│            ┆           ┆          ┆        ┆   ┆ 67663b0a ┆ 3b0adfd853 ┆ EbNyogUKNJ ┆ 69dc3e73ab │\n",
       "│            ┆           ┆          ┆        ┆   ┆ dfd853e8 ┆ e8efa04706 ┆ 9hhTUMC39j ┆ 18f3a2e72c │\n",
       "│            ┆           ┆          ┆        ┆   ┆ efa04706 ┆ 98-2-0     ┆ Wvfe       ┆ 7cd11045a4 │\n",
       "│            ┆           ┆          ┆        ┆   ┆ 98       ┆            ┆            ┆ 7e78668242 │\n",
       "│            ┆           ┆          ┆        ┆   ┆          ┆            ┆            ┆ 0c02b0-0   │\n",
       "│ 1          ┆ 164001368 ┆ 16456410 ┆ true   ┆ … ┆ 0x00796e ┆ 0x00796e91 ┆ HQ1PZuPJ1s ┆ 0x2990653d │\n",
       "│            ┆ 4         ┆ 68       ┆        ┆   ┆ 910bd022 ┆ 0bd0228ddf ┆ EkunR3xNcc ┆ 246bbd3867 │\n",
       "│            ┆           ┆          ┆        ┆   ┆ 8ddf4cd7 ┆ 4cd79e3f35 ┆ WZaPaUUrmQ ┆ d57363a326 │\n",
       "│            ┆           ┆          ┆        ┆   ┆ 9e3f3538 ┆ 3871a61c35 ┆ nkXQD8AGoR ┆ c294b2ffe1 │\n",
       "│            ┆           ┆          ┆        ┆   ┆ 71a61c35 ┆ 1c-0-0     ┆ fyXc       ┆ 83230dd21e │\n",
       "│            ┆           ┆          ┆        ┆   ┆ 1c       ┆            ┆            ┆ 04f5e3afae │\n",
       "│            ┆           ┆          ┆        ┆   ┆          ┆            ┆            ┆ e8f0a7-0   │\n",
       "│ …          ┆ …         ┆ …        ┆ …      ┆ … ┆ …        ┆ …          ┆ …          ┆ …          │\n",
       "│ 1          ┆ 162609243 ┆ 16456410 ┆ true   ┆ … ┆ 0x210c43 ┆ 0x210c4395 ┆ 4zbtwuajV8 ┆ 0x087a6e8c │\n",
       "│            ┆ 7         ┆ 68       ┆        ┆   ┆ 953bad38 ┆ 3bad387654 ┆ 4eEfAs8Vo3 ┆ 03e01c5f29 │\n",
       "│            ┆           ┆          ┆        ┆   ┆ 7654fb4c ┆ fb4c997ccc ┆ xtDxfTuvbE ┆ 767e57ff2d │\n",
       "│            ┆           ┆          ┆        ┆   ┆ 997ccc16 ┆ 1609a6b112 ┆ 2xGgzoJocW ┆ d0ea619de2 │\n",
       "│            ┆           ┆          ┆        ┆   ┆ 09a6b112 ┆ 5e-4-0     ┆ texF       ┆ 6c46841ce4 │\n",
       "│            ┆           ┆          ┆        ┆   ┆ 5e       ┆            ┆            ┆ cf952e1c9c │\n",
       "│            ┆           ┆          ┆        ┆   ┆          ┆            ┆            ┆ d64c07-4   │\n",
       "│ 1          ┆ 162646323 ┆ 16456406 ┆ true   ┆ … ┆ 0x213105 ┆ 0x213105d0 ┆ 7Z8SRNKMLq ┆ 0x8c7550cd │\n",
       "│            ┆ 1         ┆ 56       ┆        ┆   ┆ d094ed4d ┆ 94ed4d7fa0 ┆ psZWSnjUKH ┆ 95c55735e0 │\n",
       "│            ┆           ┆          ┆        ┆   ┆ 7fa0c6d8 ┆ c6d86cba85 ┆ XvmoPqPRSP ┆ e811058085 │\n",
       "│            ┆           ┆          ┆        ┆   ┆ 6cba8570 ┆ 70f325884c ┆ PwFZGzhwEA ┆ db41f40c99 │\n",
       "│            ┆           ┆          ┆        ┆   ┆ f325884c ┆ 3d-0-0     ┆ Koby       ┆ ffbd8d531a │\n",
       "│            ┆           ┆          ┆        ┆   ┆ 3d       ┆            ┆            ┆ 34398dbd0a │\n",
       "│            ┆           ┆          ┆        ┆   ┆          ┆            ┆            ┆ 3ff586-0   │\n",
       "│ 5          ┆ 162681333 ┆ 16456397 ┆ true   ┆ … ┆ 0x21f7db ┆ 0x21f7db7d ┆ HKs3AibRfa ┆ 0xb2b3f2e6 │\n",
       "│            ┆ 4         ┆ 98       ┆        ┆   ┆ 7daa3f03 ┆ aa3f03100e ┆ J4pkvTF1or ┆ 116356b235 │\n",
       "│            ┆           ┆          ┆        ┆   ┆ 100eb6ad ┆ b6ad36f79e ┆ Ax6DgkqbDd ┆ 7db9411ac6 │\n",
       "│            ┆           ┆          ┆        ┆   ┆ 36f79e20 ┆ 20972a79e6 ┆ HrwcykDkgo ┆ 465ee5aaa7 │\n",
       "│            ┆           ┆          ┆        ┆   ┆ 972a79e6 ┆ c0-0-4     ┆ mbWg       ┆ fcf6656d99 │\n",
       "│            ┆           ┆          ┆        ┆   ┆ c0       ┆            ┆            ┆ 1e19e9c1a7 │\n",
       "│            ┆           ┆          ┆        ┆   ┆          ┆            ┆            ┆ 378035-0   │\n",
       "│ 2          ┆ 164360701 ┆ 16496881 ┆ true   ┆ … ┆ 0x235a2a ┆ 0x235a2ac1 ┆ GNWVrcrjYS ┆ 0x3a7eb2c4 │\n",
       "│            ┆ 6         ┆ 26       ┆        ┆   ┆ c113014f ┆ 13014f9dcb ┆ szMk6zNrRB ┆ be92ceb404 │\n",
       "│            ┆           ┆          ┆        ┆   ┆ 9dcb8aba ┆ 8aba6577f2 ┆ AnDCx3Mg6i ┆ 02ba05a357 │\n",
       "│            ┆           ┆          ┆        ┆   ┆ 6577f202 ┆ 0290832dde ┆ Su7u5276VX ┆ ba291860c7 │\n",
       "│            ┆           ┆          ┆        ┆   ┆ 90832dde ┆ fd-0-1     ┆ ShxP       ┆ 0626cb2afd │\n",
       "│            ┆           ┆          ┆        ┆   ┆ fd       ┆            ┆            ┆ efd59adff8 │\n",
       "│            ┆           ┆          ┆        ┆   ┆          ┆            ┆            ┆ 519d10-1   │\n",
       "└────────────┴───────────┴──────────┴────────┴───┴──────────┴────────────┴────────────┴────────────┘"
      ]
     },
     "execution_count": 11,
     "metadata": {},
     "output_type": "execute_result"
    }
   ],
   "source": [
    "subgraphs"
   ]
  },
  {
   "attachments": {},
   "cell_type": "markdown",
   "metadata": {},
   "source": [
    "### Indexers, Delegators, Curators"
   ]
  },
  {
   "cell_type": "code",
   "execution_count": 40,
   "metadata": {},
   "outputs": [
    {
     "name": "stdout",
     "output_type": "stream",
     "text": [
      "Querying endpoint: graphscan\n",
      "Return empty dict because filter_dict param is empty\n"
     ]
    },
    {
     "ename": "ComputeError",
     "evalue": "could not append {:?} to the builder; make sure that all rows have the same schema or consider increasing `schema_inference_length`",
     "output_type": "error",
     "traceback": [
      "\u001b[0;31m---------------------------------------------------------------------------\u001b[0m",
      "\u001b[0;31mComputeError\u001b[0m                              Traceback (most recent call last)",
      "Cell \u001b[0;32mIn[40], line 1\u001b[0m\n\u001b[0;32m----> 1\u001b[0m delegators \u001b[39m=\u001b[39m sgi\u001b[39m.\u001b[39;49mquery_entity(\n\u001b[1;32m      2\u001b[0m     query_size\u001b[39m=\u001b[39;49m\u001b[39m500\u001b[39;49m, \u001b[39m# getting pagination errors with greater than 250 rows\u001b[39;49;00m\n\u001b[1;32m      3\u001b[0m     entity\u001b[39m=\u001b[39;49m\u001b[39m'\u001b[39;49m\u001b[39mdelegators\u001b[39;49m\u001b[39m'\u001b[39;49m,\n\u001b[1;32m      4\u001b[0m     name\u001b[39m=\u001b[39;49m\u001b[39m'\u001b[39;49m\u001b[39mgraphscan\u001b[39;49m\u001b[39m'\u001b[39;49m\n\u001b[1;32m      5\u001b[0m )\n",
      "File \u001b[0;32m~/Documents/github/queryportal_notebooks/.venv/lib/python3.10/site-packages/queryportal/polars_utils.py:21\u001b[0m, in \u001b[0;36mtimeit.<locals>.wrap_func\u001b[0;34m(*args, **kwargs)\u001b[0m\n\u001b[1;32m     19\u001b[0m \u001b[39mdef\u001b[39;00m \u001b[39mwrap_func\u001b[39m(\u001b[39m*\u001b[39margs, \u001b[39m*\u001b[39m\u001b[39m*\u001b[39mkwargs):\n\u001b[1;32m     20\u001b[0m     t1 \u001b[39m=\u001b[39m time()\n\u001b[0;32m---> 21\u001b[0m     result \u001b[39m=\u001b[39m func(\u001b[39m*\u001b[39;49margs, \u001b[39m*\u001b[39;49m\u001b[39m*\u001b[39;49mkwargs)\n\u001b[1;32m     22\u001b[0m     t2 \u001b[39m=\u001b[39m time()\n\u001b[1;32m     23\u001b[0m     \u001b[39mprint\u001b[39m(\u001b[39mf\u001b[39m\u001b[39m'\u001b[39m\u001b[39mFunction \u001b[39m\u001b[39m{\u001b[39;00mfunc\u001b[39m.\u001b[39m\u001b[39m__name__\u001b[39m\u001b[39m!r}\u001b[39;00m\u001b[39m executed in \u001b[39m\u001b[39m{\u001b[39;00m(t2\u001b[39m-\u001b[39mt1)\u001b[39m:\u001b[39;00m\u001b[39m.4f\u001b[39m\u001b[39m}\u001b[39;00m\u001b[39ms\u001b[39m\u001b[39m'\u001b[39m)\n",
      "File \u001b[0;32m~/Documents/github/queryportal_notebooks/.venv/lib/python3.10/site-packages/queryportal/polars_utils.py:33\u001b[0m, in \u001b[0;36mdf_describe.<locals>.wrapper\u001b[0;34m(*args, **kwargs)\u001b[0m\n\u001b[1;32m     31\u001b[0m \u001b[39m@wraps\u001b[39m(function)\n\u001b[1;32m     32\u001b[0m \u001b[39mdef\u001b[39;00m \u001b[39mwrapper\u001b[39m(\u001b[39m*\u001b[39margs, \u001b[39m*\u001b[39m\u001b[39m*\u001b[39mkwargs):\n\u001b[0;32m---> 33\u001b[0m     output \u001b[39m=\u001b[39m function(\u001b[39m*\u001b[39;49margs, \u001b[39m*\u001b[39;49m\u001b[39m*\u001b[39;49mkwargs) \u001b[39m# should be a pl.DataFrame\u001b[39;00m\n\u001b[1;32m     34\u001b[0m     \u001b[39m# try except: if it's a dataframe, print the shape. If the function crashes, print the error message.\u001b[39;00m\n\u001b[1;32m     35\u001b[0m     \u001b[39mtry\u001b[39;00m:\n",
      "File \u001b[0;32m~/Documents/github/queryportal_notebooks/.venv/lib/python3.10/site-packages/queryportal/subgraphinterface.py:92\u001b[0m, in \u001b[0;36mSubgraphInterface.query_entity\u001b[0;34m(self, entity, name, query_paths, query_size, filter_dict, saved_file_name, add_endpoint_col)\u001b[0m\n\u001b[1;32m     85\u001b[0m generic_qp \u001b[39m=\u001b[39m query_dict[entity](\n\u001b[1;32m     86\u001b[0m     first\u001b[39m=\u001b[39mquery_size,\n\u001b[1;32m     87\u001b[0m     where \u001b[39m=\u001b[39m new_filter_dict\n\u001b[1;32m     88\u001b[0m )\n\u001b[1;32m     90\u001b[0m matched_query_path \u001b[39m=\u001b[39m match_query_paths(query_paths\u001b[39m=\u001b[39mquery_paths, default_query_path \u001b[39m=\u001b[39m generic_qp)\n\u001b[0;32m---> 92\u001b[0m \u001b[39mreturn\u001b[39;00m \u001b[39mself\u001b[39;49m\u001b[39m.\u001b[39;49mquery(\n\u001b[1;32m     93\u001b[0m             query_path\u001b[39m=\u001b[39;49mmatched_query_path,\n\u001b[1;32m     94\u001b[0m             saved_file_name\u001b[39m=\u001b[39;49msaved_file_name,\n\u001b[1;32m     95\u001b[0m             add_endpoint_col\u001b[39m=\u001b[39;49madd_endpoint_col\n\u001b[1;32m     96\u001b[0m         )\n",
      "File \u001b[0;32m~/Documents/github/queryportal_notebooks/.venv/lib/python3.10/site-packages/queryportal/subgraphinterface.py:36\u001b[0m, in \u001b[0;36mSubgraphInterface.query\u001b[0;34m(self, query_path, saved_file_name, add_endpoint_col)\u001b[0m\n\u001b[1;32m     33\u001b[0m \u001b[39m# get nested json key. Subgrounds creates a hash blob for internal purposes so we need the keys that come after the hash blob.\u001b[39;00m\n\u001b[1;32m     34\u001b[0m first_key \u001b[39m=\u001b[39m \u001b[39mnext\u001b[39m(\u001b[39miter\u001b[39m(df[\u001b[39m0\u001b[39m]\u001b[39m.\u001b[39mkeys()))\n\u001b[0;32m---> 36\u001b[0m pl_df \u001b[39m=\u001b[39m pl\u001b[39m.\u001b[39;49mfrom_dicts(df[\u001b[39m0\u001b[39;49m][first_key])\n\u001b[1;32m     38\u001b[0m \u001b[39m# convert structs to columns\u001b[39;00m\n\u001b[1;32m     39\u001b[0m pl_df \u001b[39m=\u001b[39m fmt_dict_cols(pl_df)\n",
      "File \u001b[0;32m~/Documents/github/queryportal_notebooks/.venv/lib/python3.10/site-packages/polars/convert.py:179\u001b[0m, in \u001b[0;36mfrom_dicts\u001b[0;34m(data, schema, schema_overrides, infer_schema_length)\u001b[0m\n\u001b[1;32m    176\u001b[0m \u001b[39mif\u001b[39;00m \u001b[39mnot\u001b[39;00m data \u001b[39mand\u001b[39;00m \u001b[39mnot\u001b[39;00m (schema \u001b[39mor\u001b[39;00m schema_overrides):\n\u001b[1;32m    177\u001b[0m     \u001b[39mraise\u001b[39;00m NoDataError(\u001b[39m\"\u001b[39m\u001b[39mNo rows. Cannot infer schema.\u001b[39m\u001b[39m\"\u001b[39m)\n\u001b[0;32m--> 179\u001b[0m \u001b[39mreturn\u001b[39;00m pl\u001b[39m.\u001b[39;49mDataFrame(\n\u001b[1;32m    180\u001b[0m     data,\n\u001b[1;32m    181\u001b[0m     schema\u001b[39m=\u001b[39;49mschema,\n\u001b[1;32m    182\u001b[0m     schema_overrides\u001b[39m=\u001b[39;49mschema_overrides,\n\u001b[1;32m    183\u001b[0m     infer_schema_length\u001b[39m=\u001b[39;49minfer_schema_length,\n\u001b[1;32m    184\u001b[0m )\n",
      "File \u001b[0;32m~/Documents/github/queryportal_notebooks/.venv/lib/python3.10/site-packages/polars/dataframe/frame.py:362\u001b[0m, in \u001b[0;36mDataFrame.__init__\u001b[0;34m(self, data, schema, schema_overrides, orient, infer_schema_length, nan_to_null)\u001b[0m\n\u001b[1;32m    354\u001b[0m     \u001b[39mself\u001b[39m\u001b[39m.\u001b[39m_df \u001b[39m=\u001b[39m dict_to_pydf(\n\u001b[1;32m    355\u001b[0m         data,\n\u001b[1;32m    356\u001b[0m         schema\u001b[39m=\u001b[39mschema,\n\u001b[1;32m    357\u001b[0m         schema_overrides\u001b[39m=\u001b[39mschema_overrides,\n\u001b[1;32m    358\u001b[0m         nan_to_null\u001b[39m=\u001b[39mnan_to_null,\n\u001b[1;32m    359\u001b[0m     )\n\u001b[1;32m    361\u001b[0m \u001b[39melif\u001b[39;00m \u001b[39misinstance\u001b[39m(data, (\u001b[39mlist\u001b[39m, \u001b[39mtuple\u001b[39m, Sequence)):\n\u001b[0;32m--> 362\u001b[0m     \u001b[39mself\u001b[39m\u001b[39m.\u001b[39m_df \u001b[39m=\u001b[39m sequence_to_pydf(\n\u001b[1;32m    363\u001b[0m         data,\n\u001b[1;32m    364\u001b[0m         schema\u001b[39m=\u001b[39;49mschema,\n\u001b[1;32m    365\u001b[0m         schema_overrides\u001b[39m=\u001b[39;49mschema_overrides,\n\u001b[1;32m    366\u001b[0m         orient\u001b[39m=\u001b[39;49morient,\n\u001b[1;32m    367\u001b[0m         infer_schema_length\u001b[39m=\u001b[39;49minfer_schema_length,\n\u001b[1;32m    368\u001b[0m     )\n\u001b[1;32m    369\u001b[0m \u001b[39melif\u001b[39;00m \u001b[39misinstance\u001b[39m(data, pl\u001b[39m.\u001b[39mSeries):\n\u001b[1;32m    370\u001b[0m     \u001b[39mself\u001b[39m\u001b[39m.\u001b[39m_df \u001b[39m=\u001b[39m series_to_pydf(\n\u001b[1;32m    371\u001b[0m         data, schema\u001b[39m=\u001b[39mschema, schema_overrides\u001b[39m=\u001b[39mschema_overrides\n\u001b[1;32m    372\u001b[0m     )\n",
      "File \u001b[0;32m~/Documents/github/queryportal_notebooks/.venv/lib/python3.10/site-packages/polars/utils/_construction.py:768\u001b[0m, in \u001b[0;36msequence_to_pydf\u001b[0;34m(data, schema, schema_overrides, orient, infer_schema_length)\u001b[0m\n\u001b[1;32m    765\u001b[0m \u001b[39mif\u001b[39;00m \u001b[39mlen\u001b[39m(data) \u001b[39m==\u001b[39m \u001b[39m0\u001b[39m:\n\u001b[1;32m    766\u001b[0m     \u001b[39mreturn\u001b[39;00m dict_to_pydf({}, schema\u001b[39m=\u001b[39mschema, schema_overrides\u001b[39m=\u001b[39mschema_overrides)\n\u001b[0;32m--> 768\u001b[0m \u001b[39mreturn\u001b[39;00m _sequence_to_pydf_dispatcher(\n\u001b[1;32m    769\u001b[0m     data[\u001b[39m0\u001b[39;49m],\n\u001b[1;32m    770\u001b[0m     data\u001b[39m=\u001b[39;49mdata,\n\u001b[1;32m    771\u001b[0m     schema\u001b[39m=\u001b[39;49mschema,\n\u001b[1;32m    772\u001b[0m     schema_overrides\u001b[39m=\u001b[39;49mschema_overrides,\n\u001b[1;32m    773\u001b[0m     orient\u001b[39m=\u001b[39;49morient,\n\u001b[1;32m    774\u001b[0m     infer_schema_length\u001b[39m=\u001b[39;49minfer_schema_length,\n\u001b[1;32m    775\u001b[0m )\n",
      "File \u001b[0;32m/usr/lib/python3.10/functools.py:889\u001b[0m, in \u001b[0;36msingledispatch.<locals>.wrapper\u001b[0;34m(*args, **kw)\u001b[0m\n\u001b[1;32m    885\u001b[0m \u001b[39mif\u001b[39;00m \u001b[39mnot\u001b[39;00m args:\n\u001b[1;32m    886\u001b[0m     \u001b[39mraise\u001b[39;00m \u001b[39mTypeError\u001b[39;00m(\u001b[39mf\u001b[39m\u001b[39m'\u001b[39m\u001b[39m{\u001b[39;00mfuncname\u001b[39m}\u001b[39;00m\u001b[39m requires at least \u001b[39m\u001b[39m'\u001b[39m\n\u001b[1;32m    887\u001b[0m                     \u001b[39m'\u001b[39m\u001b[39m1 positional argument\u001b[39m\u001b[39m'\u001b[39m)\n\u001b[0;32m--> 889\u001b[0m \u001b[39mreturn\u001b[39;00m dispatch(args[\u001b[39m0\u001b[39;49m]\u001b[39m.\u001b[39;49m\u001b[39m__class__\u001b[39;49m)(\u001b[39m*\u001b[39;49margs, \u001b[39m*\u001b[39;49m\u001b[39m*\u001b[39;49mkw)\n",
      "File \u001b[0;32m~/Documents/github/queryportal_notebooks/.venv/lib/python3.10/site-packages/polars/utils/_construction.py:984\u001b[0m, in \u001b[0;36m_sequence_of_dict_to_pydf\u001b[0;34m(first_element, data, schema, schema_overrides, infer_schema_length, **kwargs)\u001b[0m\n\u001b[1;32m    976\u001b[0m column_names, schema_overrides \u001b[39m=\u001b[39m _unpack_schema(\n\u001b[1;32m    977\u001b[0m     schema, schema_overrides\u001b[39m=\u001b[39mschema_overrides\n\u001b[1;32m    978\u001b[0m )\n\u001b[1;32m    979\u001b[0m dicts_schema \u001b[39m=\u001b[39m (\n\u001b[1;32m    980\u001b[0m     include_unknowns(schema_overrides, column_names \u001b[39mor\u001b[39;00m \u001b[39mlist\u001b[39m(schema_overrides))\n\u001b[1;32m    981\u001b[0m     \u001b[39mif\u001b[39;00m schema_overrides \u001b[39mand\u001b[39;00m column_names\n\u001b[1;32m    982\u001b[0m     \u001b[39melse\u001b[39;00m \u001b[39mNone\u001b[39;00m\n\u001b[1;32m    983\u001b[0m )\n\u001b[0;32m--> 984\u001b[0m pydf \u001b[39m=\u001b[39m PyDataFrame\u001b[39m.\u001b[39;49mread_dicts(data, infer_schema_length, dicts_schema)\n\u001b[1;32m    986\u001b[0m \u001b[39mif\u001b[39;00m column_names \u001b[39mand\u001b[39;00m \u001b[39mset\u001b[39m(column_names)\u001b[39m.\u001b[39mintersection(pydf\u001b[39m.\u001b[39mcolumns()):\n\u001b[1;32m    987\u001b[0m     column_names \u001b[39m=\u001b[39m []\n",
      "\u001b[0;31mComputeError\u001b[0m: could not append {:?} to the builder; make sure that all rows have the same schema or consider increasing `schema_inference_length`"
     ]
    }
   ],
   "source": [
    "# delegators entity is corrupted\n",
    "# delegators = sgi.query_entity(\n",
    "#     query_size=500, # getting pagination errors with greater than 250 rows\n",
    "#     entity='delegators',\n",
    "#     name='graphscan'\n",
    "# )"
   ]
  },
  {
   "cell_type": "code",
   "execution_count": 46,
   "metadata": {},
   "outputs": [
    {
     "name": "stdout",
     "output_type": "stream",
     "text": [
      "Querying endpoint: graphscan\n",
      "Return empty dict because filter_dict param is empty\n",
      "Shape: (2935, 32)\n",
      "Schema: {'createdAt': Int64, 'totalSignalledTokens': Float64, 'totalUnsignalledTokens': Float64, 'defaultDisplayName': Utf8, 'totalNameSignalledTokens': Float64, 'totalNameUnsignalledTokens': Float64, 'totalWithdrawnTokens': Float64, 'realizedRewards': Int64, 'annualizedReturn': Float64, 'totalReturn': Float64, 'signalingEfficiency': Float64, 'totalNameSignal': Float64, 'totalNameSignalAverageCostBasis': Float64, 'totalAverageCostBasisPerNameSignal': Float64, 'totalSignal': Float64, 'totalSignalAverageCostBasis': Float64, 'totalAverageCostBasisPerSignal': Float64, 'signalCount': Int64, 'currentSignalCount': Int64, 'activeSignalCount': Int64, 'nameSignalCount': Int64, 'currentNameSignalCount': Int64, 'activeNameSignalCount': Int64, 'combinedSignalCount': Int64, 'activeCombinedSignalCount': Int64, 'allCurrentGRTValue': Int64, 'PLGrt': Float64, 'unrealizedPLGrt': Float64, 'realizedPLGrt': Float64, 'lastSignaledAt': Int64, 'lastUnsignaledAt': Int64, 'account_id': Utf8}\n",
      "Function 'query_entity' executed in 4.3390s\n"
     ]
    }
   ],
   "source": [
    "curators = sgi.query_entity(\n",
    "    query_size=10000,\n",
    "    entity='curators',\n",
    "    name='graphscan'\n",
    ")"
   ]
  },
  {
   "cell_type": "code",
   "execution_count": 48,
   "metadata": {},
   "outputs": [
    {
     "data": {
      "text/html": [
       "<div><style>\n",
       ".dataframe > thead > tr > th,\n",
       ".dataframe > tbody > tr > td {\n",
       "  text-align: right;\n",
       "}\n",
       "</style>\n",
       "<small>shape: (5, 32)</small><table border=\"1\" class=\"dataframe\"><thead><tr><th>createdAt</th><th>totalSignalledTokens</th><th>totalUnsignalledTokens</th><th>defaultDisplayName</th><th>totalNameSignalledTokens</th><th>totalNameUnsignalledTokens</th><th>totalWithdrawnTokens</th><th>realizedRewards</th><th>annualizedReturn</th><th>totalReturn</th><th>signalingEfficiency</th><th>totalNameSignal</th><th>totalNameSignalAverageCostBasis</th><th>totalAverageCostBasisPerNameSignal</th><th>totalSignal</th><th>totalSignalAverageCostBasis</th><th>totalAverageCostBasisPerSignal</th><th>signalCount</th><th>currentSignalCount</th><th>activeSignalCount</th><th>nameSignalCount</th><th>currentNameSignalCount</th><th>activeNameSignalCount</th><th>combinedSignalCount</th><th>activeCombinedSignalCount</th><th>allCurrentGRTValue</th><th>PLGrt</th><th>unrealizedPLGrt</th><th>realizedPLGrt</th><th>lastSignaledAt</th><th>lastUnsignaledAt</th><th>account_id</th></tr><tr><td>i64</td><td>f64</td><td>f64</td><td>str</td><td>f64</td><td>f64</td><td>f64</td><td>i64</td><td>f64</td><td>f64</td><td>f64</td><td>f64</td><td>f64</td><td>f64</td><td>f64</td><td>f64</td><td>f64</td><td>i64</td><td>i64</td><td>i64</td><td>i64</td><td>i64</td><td>i64</td><td>i64</td><td>i64</td><td>i64</td><td>f64</td><td>f64</td><td>f64</td><td>i64</td><td>i64</td><td>str</td></tr></thead><tbody><tr><td>1632040494</td><td>6.0135e21</td><td>5.7361e21</td><td>null</td><td>6.0135e21</td><td>5.7361e21</td><td>0.0</td><td>0</td><td>0.0</td><td>0.0</td><td>0.0</td><td>0.0</td><td>0.0</td><td>0.0</td><td>0.0</td><td>0.0</td><td>0.0</td><td>0</td><td>0</td><td>0</td><td>2</td><td>0</td><td>0</td><td>2</td><td>0</td><td>0</td><td>0.0</td><td>0.0</td><td>0.0</td><td>0</td><td>0</td><td>&quot;0x000000064730640b7d670408d74280924883064f&quot;</td></tr><tr><td>1653317212</td><td>4.4970e21</td><td>0.0</td><td>null</td><td>4.4970e21</td><td>0.0</td><td>0.0</td><td>0</td><td>0.0</td><td>0.0</td><td>0.0</td><td>1.1121e20</td><td>4.4970e21</td><td>40.437159</td><td>1.1121e20</td><td>4.4970e21</td><td>40.437159</td><td>0</td><td>0</td><td>0</td><td>3</td><td>3</td><td>3</td><td>3</td><td>3</td><td>0</td><td>0.0</td><td>0.0</td><td>0.0</td><td>0</td><td>0</td><td>&quot;0x000000724350d0b24747bd816dc5031acb7efe0b&quot;</td></tr><tr><td>1640100174</td><td>8.0000e20</td><td>0.0</td><td>null</td><td>8.0000e20</td><td>0.0</td><td>0.0</td><td>0</td><td>0.0</td><td>0.0</td><td>0.0</td><td>1.1352e19</td><td>8.0000e20</td><td>70.470174</td><td>1.1654e19</td><td>8.0000e20</td><td>68.646605</td><td>0</td><td>0</td><td>0</td><td>1</td><td>1</td><td>1</td><td>1</td><td>1</td><td>0</td><td>0.0</td><td>0.0</td><td>0.0</td><td>0</td><td>0</td><td>&quot;0x00000444e5a1a667663b0adfd853e8efa0470698&quot;</td></tr><tr><td>1644747990</td><td>6.0000e19</td><td>0.0</td><td>null</td><td>6.0000e19</td><td>0.0</td><td>0.0</td><td>0</td><td>0.0</td><td>0.0</td><td>0.0</td><td>9.9567e16</td><td>6.0000e19</td><td>602.607099</td><td>9.8838e16</td><td>6.0000e19</td><td>607.055975</td><td>0</td><td>0</td><td>0</td><td>2</td><td>2</td><td>2</td><td>2</td><td>2</td><td>0</td><td>0.0</td><td>0.0</td><td>0.0</td><td>0</td><td>0</td><td>&quot;0x0000ce08fa224696a819877070bf378e8b131acf&quot;</td></tr><tr><td>1634842347</td><td>1.5070e21</td><td>0.0</td><td>null</td><td>1.5070e21</td><td>0.0</td><td>0.0</td><td>0</td><td>0.0</td><td>0.0</td><td>0.0</td><td>3.5520e18</td><td>1.5070e21</td><td>424.263157</td><td>3.5520e18</td><td>1.5070e21</td><td>424.263157</td><td>0</td><td>0</td><td>0</td><td>2</td><td>2</td><td>2</td><td>2</td><td>2</td><td>0</td><td>0.0</td><td>0.0</td><td>0.0</td><td>0</td><td>0</td><td>&quot;0x00139f52e71c80bc71b3fbd2bdb908b56beef1e1&quot;</td></tr></tbody></table></div>"
      ],
      "text/plain": [
       "shape: (5, 32)\n",
       "┌─────────┬────────────┬────────────┬────────────┬───┬────────────┬────────────┬────────────┬──────────┐\n",
       "│ created ┆ totalSigna ┆ totalUnsig ┆ defaultDis ┆ … ┆ realizedPL ┆ lastSignal ┆ lastUnsign ┆ account_ │\n",
       "│ At      ┆ lledTokens ┆ nalledToke ┆ playName   ┆   ┆ Grt        ┆ edAt       ┆ aledAt     ┆ id       │\n",
       "│ ---     ┆ ---        ┆ ns         ┆ ---        ┆   ┆ ---        ┆ ---        ┆ ---        ┆ ---      │\n",
       "│ i64     ┆ f64        ┆ ---        ┆ str        ┆   ┆ f64        ┆ i64        ┆ i64        ┆ str      │\n",
       "│         ┆            ┆ f64        ┆            ┆   ┆            ┆            ┆            ┆          │\n",
       "╞═════════╪════════════╪════════════╪════════════╪═══╪════════════╪════════════╪════════════╪══════════╡\n",
       "│ 1632040 ┆ 6.0135e21  ┆ 5.7361e21  ┆ null       ┆ … ┆ 0.0        ┆ 0          ┆ 0          ┆ 0x000000 │\n",
       "│ 494     ┆            ┆            ┆            ┆   ┆            ┆            ┆            ┆ 06473064 │\n",
       "│         ┆            ┆            ┆            ┆   ┆            ┆            ┆            ┆ 0b7d6704 │\n",
       "│         ┆            ┆            ┆            ┆   ┆            ┆            ┆            ┆ 08d74280 │\n",
       "│         ┆            ┆            ┆            ┆   ┆            ┆            ┆            ┆ 92488306 │\n",
       "│         ┆            ┆            ┆            ┆   ┆            ┆            ┆            ┆ 4f       │\n",
       "│ 1653317 ┆ 4.4970e21  ┆ 0.0        ┆ null       ┆ … ┆ 0.0        ┆ 0          ┆ 0          ┆ 0x000000 │\n",
       "│ 212     ┆            ┆            ┆            ┆   ┆            ┆            ┆            ┆ 724350d0 │\n",
       "│         ┆            ┆            ┆            ┆   ┆            ┆            ┆            ┆ b24747bd │\n",
       "│         ┆            ┆            ┆            ┆   ┆            ┆            ┆            ┆ 816dc503 │\n",
       "│         ┆            ┆            ┆            ┆   ┆            ┆            ┆            ┆ 1acb7efe │\n",
       "│         ┆            ┆            ┆            ┆   ┆            ┆            ┆            ┆ 0b       │\n",
       "│ 1640100 ┆ 8.0000e20  ┆ 0.0        ┆ null       ┆ … ┆ 0.0        ┆ 0          ┆ 0          ┆ 0x000004 │\n",
       "│ 174     ┆            ┆            ┆            ┆   ┆            ┆            ┆            ┆ 44e5a1a6 │\n",
       "│         ┆            ┆            ┆            ┆   ┆            ┆            ┆            ┆ 67663b0a │\n",
       "│         ┆            ┆            ┆            ┆   ┆            ┆            ┆            ┆ dfd853e8 │\n",
       "│         ┆            ┆            ┆            ┆   ┆            ┆            ┆            ┆ efa04706 │\n",
       "│         ┆            ┆            ┆            ┆   ┆            ┆            ┆            ┆ 98       │\n",
       "│ 1644747 ┆ 6.0000e19  ┆ 0.0        ┆ null       ┆ … ┆ 0.0        ┆ 0          ┆ 0          ┆ 0x0000ce │\n",
       "│ 990     ┆            ┆            ┆            ┆   ┆            ┆            ┆            ┆ 08fa2246 │\n",
       "│         ┆            ┆            ┆            ┆   ┆            ┆            ┆            ┆ 96a81987 │\n",
       "│         ┆            ┆            ┆            ┆   ┆            ┆            ┆            ┆ 7070bf37 │\n",
       "│         ┆            ┆            ┆            ┆   ┆            ┆            ┆            ┆ 8e8b131a │\n",
       "│         ┆            ┆            ┆            ┆   ┆            ┆            ┆            ┆ cf       │\n",
       "│ 1634842 ┆ 1.5070e21  ┆ 0.0        ┆ null       ┆ … ┆ 0.0        ┆ 0          ┆ 0          ┆ 0x00139f │\n",
       "│ 347     ┆            ┆            ┆            ┆   ┆            ┆            ┆            ┆ 52e71c80 │\n",
       "│         ┆            ┆            ┆            ┆   ┆            ┆            ┆            ┆ bc71b3fb │\n",
       "│         ┆            ┆            ┆            ┆   ┆            ┆            ┆            ┆ d2bdb908 │\n",
       "│         ┆            ┆            ┆            ┆   ┆            ┆            ┆            ┆ b56beef1 │\n",
       "│         ┆            ┆            ┆            ┆   ┆            ┆            ┆            ┆ e1       │\n",
       "└─────────┴────────────┴────────────┴────────────┴───┴────────────┴────────────┴────────────┴──────────┘"
      ]
     },
     "execution_count": 48,
     "metadata": {},
     "output_type": "execute_result"
    }
   ],
   "source": [
    "curators.head(5)"
   ]
  },
  {
   "cell_type": "code",
   "execution_count": 6,
   "metadata": {},
   "outputs": [
    {
     "name": "stdout",
     "output_type": "stream",
     "text": [
      "Querying endpoint: graphscan\n",
      "Return empty dict because filter_dict param is empty\n",
      "Shape: (625, 42)\n",
      "Schema: {'createdAt': Int64, 'url': Utf8, 'geoHash': Utf8, 'defaultDisplayName': Utf8, 'stakedTokens': Float64, 'allocatedTokens': Float64, 'unstakedTokens': Int64, 'lockedTokens': Float64, 'tokensLockedUntil': Int64, 'allocationCount': Int64, 'totalAllocationCount': Int64, 'queryFeesCollected': Float64, 'queryFeeRebates': Float64, 'rewardsEarned': Float64, 'indexerIndexingRewards': Float64, 'delegatorIndexingRewards': Float64, 'indexerRewardsOwnGenerationRatio': Float64, 'delegatedCapacity': Float64, 'tokenCapacity': Float64, 'availableStake': Float64, 'delegatedTokens': Float64, 'ownStakeRatio': Float64, 'delegatedStakeRatio': Float64, 'delegatorShares': Float64, 'delegationExchangeRate': Float64, 'indexingRewardCut': Int64, 'indexingRewardEffectiveCut': Float64, 'overDelegationDilution': Float64, 'delegatorQueryFees': Float64, 'queryFeeCut': Int64, 'queryFeeEffectiveCut': Float64, 'delegatorParameterCooldown': Int64, 'lastDelegationParameterUpdate': Int64, 'forcedClosures': Int64, 'totalReturn': Float64, 'annualizedReturn': Float64, 'stakingEfficiency': Float64, 'notAllocatedTokens': Float64, 'delegationRemaining': Float64, 'indexerQueryFees': Float64, 'delegatorsCount': Int64, 'account_id': Utf8}\n",
      "Function 'query_entity' executed in 1.1680s\n"
     ]
    }
   ],
   "source": [
    "indexers = sgi.query_entity(\n",
    "    query_size=1000,\n",
    "    entity='indexers',\n",
    "    name='graphscan'\n",
    ")"
   ]
  },
  {
   "cell_type": "code",
   "execution_count": 49,
   "metadata": {},
   "outputs": [
    {
     "data": {
      "text/html": [
       "<div><style>\n",
       ".dataframe > thead > tr > th,\n",
       ".dataframe > tbody > tr > td {\n",
       "  text-align: right;\n",
       "}\n",
       "</style>\n",
       "<small>shape: (5, 42)</small><table border=\"1\" class=\"dataframe\"><thead><tr><th>createdAt</th><th>url</th><th>geoHash</th><th>defaultDisplayName</th><th>stakedTokens</th><th>allocatedTokens</th><th>unstakedTokens</th><th>lockedTokens</th><th>tokensLockedUntil</th><th>allocationCount</th><th>totalAllocationCount</th><th>queryFeesCollected</th><th>queryFeeRebates</th><th>rewardsEarned</th><th>indexerIndexingRewards</th><th>delegatorIndexingRewards</th><th>indexerRewardsOwnGenerationRatio</th><th>delegatedCapacity</th><th>tokenCapacity</th><th>availableStake</th><th>delegatedTokens</th><th>ownStakeRatio</th><th>delegatedStakeRatio</th><th>delegatorShares</th><th>delegationExchangeRate</th><th>indexingRewardCut</th><th>indexingRewardEffectiveCut</th><th>overDelegationDilution</th><th>delegatorQueryFees</th><th>queryFeeCut</th><th>queryFeeEffectiveCut</th><th>delegatorParameterCooldown</th><th>lastDelegationParameterUpdate</th><th>forcedClosures</th><th>totalReturn</th><th>annualizedReturn</th><th>stakingEfficiency</th><th>notAllocatedTokens</th><th>delegationRemaining</th><th>indexerQueryFees</th><th>delegatorsCount</th><th>account_id</th></tr><tr><td>i64</td><td>str</td><td>str</td><td>str</td><td>f64</td><td>f64</td><td>i64</td><td>f64</td><td>i64</td><td>i64</td><td>i64</td><td>f64</td><td>f64</td><td>f64</td><td>f64</td><td>f64</td><td>f64</td><td>f64</td><td>f64</td><td>f64</td><td>f64</td><td>f64</td><td>f64</td><td>f64</td><td>f64</td><td>i64</td><td>f64</td><td>f64</td><td>f64</td><td>i64</td><td>f64</td><td>i64</td><td>i64</td><td>i64</td><td>f64</td><td>f64</td><td>f64</td><td>f64</td><td>f64</td><td>f64</td><td>i64</td><td>str</td></tr></thead><tbody><tr><td>1672997351</td><td>&quot;https://index.onmv.xyz/&quot;</td><td>&quot;u0xxknn0d&quot;</td><td>null</td><td>1.0000e23</td><td>8.0000e22</td><td>0</td><td>0.0</td><td>0</td><td>5</td><td>25</td><td>0.0</td><td>0.0</td><td>1.1462e21</td><td>1.1462e21</td><td>0.0</td><td>1.154225</td><td>1.5423e22</td><td>1.1542e23</td><td>3.5423e22</td><td>1.5423e22</td><td>0.866382</td><td>0.133618</td><td>1.5423e22</td><td>1.0</td><td>1000000</td><td>1.0</td><td>0.0</td><td>0.0</td><td>1000000</td><td>1.0</td><td>0</td><td>16346852</td><td>0</td><td>0.0</td><td>0.0</td><td>0.0</td><td>3.5423e22</td><td>1.5846e24</td><td>0.0</td><td>1</td><td>&quot;0x0111d340a2611d772bc2b9fb6bcc61a858476604&quot;</td></tr><tr><td>1608692946</td><td>&quot;https://i.stakingcapitalgrt2.com/&quot;</td><td>&quot;dpz83dffm&quot;</td><td>&quot;stakingcapital2&quot;</td><td>0.0</td><td>0.0</td><td>0</td><td>0.0</td><td>0</td><td>0</td><td>6</td><td>3.6220e18</td><td>3.8184e18</td><td>6.0955e22</td><td>4.8764e22</td><td>1.2191e22</td><td>0.0</td><td>0.0</td><td>0.0</td><td>0.0</td><td>100014.0</td><td>0.0</td><td>0.0</td><td>91376.0</td><td>1.094532</td><td>800000</td><td>0.0</td><td>0.0</td><td>9.5460e17</td><td>800000</td><td>0.0</td><td>0</td><td>11507300</td><td>0</td><td>0.0</td><td>0.0</td><td>0.0</td><td>100014.0</td><td>-100014.0</td><td>2.6674e18</td><td>8</td><td>&quot;0x011bdfea664ece919d895d174f57331460056236&quot;</td></tr><tr><td>1662926696</td><td>&quot;https://index.mainnet.johneegraph.site/&quot;</td><td>&quot;ud9wr7k1p&quot;</td><td>&quot;johneenode&quot;</td><td>1.0081e23</td><td>6.5000e22</td><td>0</td><td>0.0</td><td>0</td><td>5</td><td>10</td><td>0.0</td><td>0.0</td><td>4.9063e19</td><td>3.4834e19</td><td>1.4228e19</td><td>0.890642</td><td>2.5648e22</td><td>1.2645e23</td><td>6.1455e22</td><td>2.5648e22</td><td>0.797178</td><td>0.202822</td><td>2.5634e22</td><td>1.000555</td><td>710000</td><td>-0.429826</td><td>0.0</td><td>0.0</td><td>710000</td><td>-0.429826</td><td>0</td><td>15674741</td><td>2</td><td>0.0</td><td>0.0</td><td>0.0</td><td>6.1455e22</td><td>1.5873e24</td><td>0.0</td><td>15</td><td>&quot;0x0135e17621dbf2db1f6cec76f60841bc0a2d6fe7&quot;</td></tr><tr><td>1671562823</td><td>&quot;https://service-mainnet.gnode.lol&quot;</td><td>&quot;ud9wrtsup&quot;</td><td>&quot;grt01&quot;</td><td>1.0255e23</td><td>1.0148e23</td><td>0</td><td>0.0</td><td>0</td><td>4</td><td>21</td><td>0.0</td><td>0.0</td><td>2.1506e21</td><td>2.1506e21</td><td>0.0</td><td>1.0</td><td>0.0</td><td>1.0255e23</td><td>1.0706e21</td><td>0.0</td><td>1.0</td><td>0.0</td><td>0.0</td><td>1.0</td><td>1000000</td><td>0.0</td><td>0.0</td><td>0.0</td><td>1000000</td><td>0.0</td><td>0</td><td>16227856</td><td>0</td><td>0.0</td><td>0.0</td><td>0.0</td><td>1.0706e21</td><td>1.6408e24</td><td>0.0</td><td>0</td><td>&quot;0x01369142305b8033471316068a2c6e2994ca3d53&quot;</td></tr><tr><td>1673729531</td><td>&quot;https://graph-index-mainnet.santanika.tech/&quot;</td><td>&quot;u0yjjd6j1&quot;</td><td>&quot;catkatz&quot;</td><td>1.0037e23</td><td>0.0</td><td>0</td><td>0.0</td><td>0</td><td>0</td><td>8</td><td>0.0</td><td>0.0</td><td>3.6494e20</td><td>3.6494e20</td><td>0.0</td><td>1.0</td><td>0.0</td><td>1.0037e23</td><td>1.0037e23</td><td>0.0</td><td>1.0</td><td>0.0</td><td>0.0</td><td>1.0</td><td>1000000</td><td>0.0</td><td>0.0</td><td>0.0</td><td>1000000</td><td>0.0</td><td>0</td><td>16407554</td><td>0</td><td>0.0</td><td>0.0</td><td>0.0</td><td>1.0037e23</td><td>1.6059e24</td><td>0.0</td><td>0</td><td>&quot;0x01ebb850e962e02a828048696042cb7c908662a7&quot;</td></tr></tbody></table></div>"
      ],
      "text/plain": [
       "shape: (5, 42)\n",
       "┌─────────┬──────────┬──────────┬────────────┬───┬────────────┬────────────┬────────────┬──────────┐\n",
       "│ created ┆ url      ┆ geoHash  ┆ defaultDis ┆ … ┆ delegation ┆ indexerQue ┆ delegators ┆ account_ │\n",
       "│ At      ┆ ---      ┆ ---      ┆ playName   ┆   ┆ Remaining  ┆ ryFees     ┆ Count      ┆ id       │\n",
       "│ ---     ┆ str      ┆ str      ┆ ---        ┆   ┆ ---        ┆ ---        ┆ ---        ┆ ---      │\n",
       "│ i64     ┆          ┆          ┆ str        ┆   ┆ f64        ┆ f64        ┆ i64        ┆ str      │\n",
       "╞═════════╪══════════╪══════════╪════════════╪═══╪════════════╪════════════╪════════════╪══════════╡\n",
       "│ 1672997 ┆ https:// ┆ u0xxknn0 ┆ null       ┆ … ┆ 1.5846e24  ┆ 0.0        ┆ 1          ┆ 0x0111d3 │\n",
       "│ 351     ┆ index.on ┆ d        ┆            ┆   ┆            ┆            ┆            ┆ 40a2611d │\n",
       "│         ┆ mv.xyz/  ┆          ┆            ┆   ┆            ┆            ┆            ┆ 772bc2b9 │\n",
       "│         ┆          ┆          ┆            ┆   ┆            ┆            ┆            ┆ fb6bcc61 │\n",
       "│         ┆          ┆          ┆            ┆   ┆            ┆            ┆            ┆ a8584766 │\n",
       "│         ┆          ┆          ┆            ┆   ┆            ┆            ┆            ┆ 04       │\n",
       "│ 1608692 ┆ https:// ┆ dpz83dff ┆ stakingcap ┆ … ┆ -100014.0  ┆ 2.6674e18  ┆ 8          ┆ 0x011bdf │\n",
       "│ 946     ┆ i.stakin ┆ m        ┆ ital2      ┆   ┆            ┆            ┆            ┆ ea664ece │\n",
       "│         ┆ gcapital ┆          ┆            ┆   ┆            ┆            ┆            ┆ 919d895d │\n",
       "│         ┆ grt2.com ┆          ┆            ┆   ┆            ┆            ┆            ┆ 174f5733 │\n",
       "│         ┆ /        ┆          ┆            ┆   ┆            ┆            ┆            ┆ 14600562 │\n",
       "│         ┆          ┆          ┆            ┆   ┆            ┆            ┆            ┆ 36       │\n",
       "│ 1662926 ┆ https:// ┆ ud9wr7k1 ┆ johneenode ┆ … ┆ 1.5873e24  ┆ 0.0        ┆ 15         ┆ 0x0135e1 │\n",
       "│ 696     ┆ index.ma ┆ p        ┆            ┆   ┆            ┆            ┆            ┆ 7621dbf2 │\n",
       "│         ┆ innet.jo ┆          ┆            ┆   ┆            ┆            ┆            ┆ db1f6cec │\n",
       "│         ┆ hneegrap ┆          ┆            ┆   ┆            ┆            ┆            ┆ 76f60841 │\n",
       "│         ┆ h.site/  ┆          ┆            ┆   ┆            ┆            ┆            ┆ bc0a2d6f │\n",
       "│         ┆          ┆          ┆            ┆   ┆            ┆            ┆            ┆ e7       │\n",
       "│ 1671562 ┆ https:// ┆ ud9wrtsu ┆ grt01      ┆ … ┆ 1.6408e24  ┆ 0.0        ┆ 0          ┆ 0x013691 │\n",
       "│ 823     ┆ service- ┆ p        ┆            ┆   ┆            ┆            ┆            ┆ 42305b80 │\n",
       "│         ┆ mainnet. ┆          ┆            ┆   ┆            ┆            ┆            ┆ 33471316 │\n",
       "│         ┆ gnode.lo ┆          ┆            ┆   ┆            ┆            ┆            ┆ 068a2c6e │\n",
       "│         ┆ l        ┆          ┆            ┆   ┆            ┆            ┆            ┆ 2994ca3d │\n",
       "│         ┆          ┆          ┆            ┆   ┆            ┆            ┆            ┆ 53       │\n",
       "│ 1673729 ┆ https:// ┆ u0yjjd6j ┆ catkatz    ┆ … ┆ 1.6059e24  ┆ 0.0        ┆ 0          ┆ 0x01ebb8 │\n",
       "│ 531     ┆ graph-in ┆ 1        ┆            ┆   ┆            ┆            ┆            ┆ 50e962e0 │\n",
       "│         ┆ dex-main ┆          ┆            ┆   ┆            ┆            ┆            ┆ 2a828048 │\n",
       "│         ┆ net.sant ┆          ┆            ┆   ┆            ┆            ┆            ┆ 696042cb │\n",
       "│         ┆ anika.te ┆          ┆            ┆   ┆            ┆            ┆            ┆ 7c908662 │\n",
       "│         ┆ ch/      ┆          ┆            ┆   ┆            ┆            ┆            ┆ a7       │\n",
       "└─────────┴──────────┴──────────┴────────────┴───┴────────────┴────────────┴────────────┴──────────┘"
      ]
     },
     "execution_count": 49,
     "metadata": {},
     "output_type": "execute_result"
    }
   ],
   "source": [
    "indexers.head(5)"
   ]
  },
  {
   "cell_type": "code",
   "execution_count": null,
   "metadata": {},
   "outputs": [],
   "source": [
    "#indexer ids\n",
    "indexer_ids = indexers['account_id'].unique().to_list()"
   ]
  },
  {
   "attachments": {},
   "cell_type": "markdown",
   "metadata": {},
   "source": [
    "### Bridges Deposits and Withdraws"
   ]
  },
  {
   "cell_type": "code",
   "execution_count": 9,
   "metadata": {},
   "outputs": [
    {
     "name": "stdout",
     "output_type": "stream",
     "text": [
      "my dict fields for withdraws entity: ['id', 'blockNumber', 'timestamp', 'signer', 'type', 'txHash', 'from', 'to', 'amount', 'l1Token', 'transactionIndex']\n",
      "my dict fields for deposits entity: ['id', 'blockNumber', 'timestamp', 'signer', 'type', 'txHash', 'from', 'to', 'amount', 'l1Token', 'retryableTicketId', 'routed']\n"
     ]
    }
   ],
   "source": [
    "withdraw_keys = sgi.subject.getQueryPaths(sgi.subject.subgraphs['graphscan'], 'bridgeWithdrawalTransactions')\n",
    "deposit_keys = sgi.subject.getQueryPaths(sgi.subject.subgraphs['graphscan'], 'bridgeDepositTransactions')\n",
    "\n",
    "# print fields for swaps entity\n",
    "print(f'my dict fields for withdraws entity: {list(withdraw_keys.keys())}')\n",
    "print(f'my dict fields for deposits entity: {list(deposit_keys.keys())}')"
   ]
  },
  {
   "cell_type": "code",
   "execution_count": 10,
   "metadata": {},
   "outputs": [
    {
     "name": "stdout",
     "output_type": "stream",
     "text": [
      "Querying endpoint: graphscan\n",
      "Return empty dict because filter_dict param is empty\n",
      "Shape: (36, 24)\n",
      "Schema: {'blockNumber': Int64, 'timestamp': Int64, 'type': Utf8, 'txHash': Utf8, 'from': Utf8, 'to': Utf8, 'amount': Float64, 'l1Token': Utf8, 'transactionIndex': Int64, 'signer_id': Utf8, 'signer_defaultName': Struct([Field('id', Utf8)]), 'signer_createdAt': Int64, 'signer_defaultDisplayName': Utf8, 'signer_metadataHash': Null, 'signer_metadata': Null, 'signer_balance': Float64, 'signer_curationApproval': Int64, 'signer_stakingApproval': Float64, 'signer_gnsApproval': Float64, 'signer_developerCreatedAt': Null, 'signer_subgraphQueryFees': Int64, 'signer_curator': Struct([Field('id', Utf8)]), 'signer_indexer': Null, 'signer_delegator': Struct([Field('id', Utf8)])}\n",
      "Function 'query_entity' executed in 0.7453s\n",
      "Querying endpoint: graphscan\n",
      "Return empty dict because filter_dict param is empty\n",
      "Shape: (495, 25)\n",
      "Schema: {'blockNumber': Int64, 'timestamp': Int64, 'type': Utf8, 'txHash': Utf8, 'from': Utf8, 'to': Utf8, 'amount': Float64, 'l1Token': Utf8, 'retryableTicketId': Utf8, 'routed': Boolean, 'signer_id': Utf8, 'signer_defaultName': Struct([Field('id', Utf8)]), 'signer_createdAt': Int64, 'signer_defaultDisplayName': Utf8, 'signer_metadataHash': Null, 'signer_metadata': Null, 'signer_balance': Float64, 'signer_curationApproval': Float64, 'signer_stakingApproval': Float64, 'signer_gnsApproval': Float64, 'signer_developerCreatedAt': Null, 'signer_subgraphQueryFees': Int64, 'signer_curator': Struct([Field('id', Utf8)]), 'signer_indexer': Struct([Field('id', Utf8)]), 'signer_delegator': Struct([Field('id', Utf8)])}\n",
      "Function 'query_entity' executed in 1.2685s\n"
     ]
    }
   ],
   "source": [
    "withdraws = sgi.query_entity(\n",
    "    query_size=1000,\n",
    "    entity='bridgeWithdrawalTransactions',\n",
    "    query_paths=list(withdraw_keys.keys()),\n",
    "    name='graphscan'\n",
    ")\n",
    "\n",
    "deposits = sgi.query_entity(\n",
    "    query_size=1000,\n",
    "    entity='bridgeDepositTransactions',\n",
    "    query_paths=list(deposit_keys.keys()),\n",
    "    name='graphscan'\n",
    ")"
   ]
  },
  {
   "cell_type": "code",
   "execution_count": 11,
   "metadata": {},
   "outputs": [],
   "source": [
    "set1 = set(withdraws.columns)\n",
    "set2 = set(deposits.columns)\n",
    "\n",
    "# get all overlapping columns between set1 and set 2\n",
    "common_cols = list(set1.intersection(set2))"
   ]
  },
  {
   "cell_type": "code",
   "execution_count": 12,
   "metadata": {},
   "outputs": [
    {
     "data": {
      "text/plain": [
       "['signer_id',\n",
       " 'blockNumber',\n",
       " 'signer_gnsApproval',\n",
       " 'signer_developerCreatedAt',\n",
       " 'l1Token',\n",
       " 'signer_defaultDisplayName',\n",
       " 'from',\n",
       " 'amount',\n",
       " 'signer_defaultName',\n",
       " 'signer_metadata',\n",
       " 'signer_curator',\n",
       " 'to',\n",
       " 'signer_indexer',\n",
       " 'type',\n",
       " 'timestamp',\n",
       " 'signer_balance',\n",
       " 'txHash',\n",
       " 'signer_createdAt',\n",
       " 'signer_stakingApproval',\n",
       " 'signer_curationApproval',\n",
       " 'signer_delegator',\n",
       " 'signer_subgraphQueryFees',\n",
       " 'signer_metadataHash']"
      ]
     },
     "execution_count": 12,
     "metadata": {},
     "output_type": "execute_result"
    }
   ],
   "source": [
    "common_cols"
   ]
  },
  {
   "cell_type": "code",
   "execution_count": 14,
   "metadata": {},
   "outputs": [],
   "source": [
    "combined_df = pl.concat([withdraws[['timestamp', 'type', 'txHash', 'from', 'amount']], deposits[['timestamp', 'type', 'txHash', 'from', 'amount']]])"
   ]
  },
  {
   "cell_type": "code",
   "execution_count": 15,
   "metadata": {},
   "outputs": [],
   "source": [
    "def convert_dec(df: pl.DataFrame) -> pl.DataFrame:\n",
    "    \"\"\"\n",
    "    Convert token by decimal places\n",
    "    \"\"\"\n",
    "    # divide amount by 10**18\n",
    "    df = df.with_columns((pl.col(\"amount\") / 10**18).alias(\"amount\"))\n",
    "    return df\n",
    "\n",
    "def convert_time_to_date(df: pl.DataFrame) -> pl.DataFrame:\n",
    "    \"\"\"\n",
    "    Convert token by decimal places\n",
    "    \"\"\"\n",
    "    df = df.with_columns((pl.col(\"timestamp\").apply(lambda x: datetime.fromtimestamp(x))))\n",
    "    # sort by timestamp\n",
    "    df = df.sort('timestamp')\n",
    "    return df"
   ]
  },
  {
   "cell_type": "code",
   "execution_count": 16,
   "metadata": {},
   "outputs": [],
   "source": [
    "combined_df = convert_dec(combined_df)"
   ]
  },
  {
   "cell_type": "code",
   "execution_count": 17,
   "metadata": {},
   "outputs": [],
   "source": [
    "# convert timestamp to datetime\n",
    "combined_converted_df = convert_time_to_date(combined_df)"
   ]
  },
  {
   "cell_type": "code",
   "execution_count": 18,
   "metadata": {},
   "outputs": [
    {
     "data": {
      "text/html": [
       "<div><style>\n",
       ".dataframe > thead > tr > th,\n",
       ".dataframe > tbody > tr > td {\n",
       "  text-align: right;\n",
       "}\n",
       "</style>\n",
       "<small>shape: (5, 5)</small><table border=\"1\" class=\"dataframe\"><thead><tr><th>timestamp</th><th>type</th><th>txHash</th><th>from</th><th>amount</th></tr><tr><td>datetime[μs]</td><td>str</td><td>str</td><td>str</td><td>f64</td></tr></thead><tbody><tr><td>2022-12-02 11:53:59</td><td>&quot;BridgeDeposit&quot;</td><td>&quot;0xd4b1e283ce3ee9d9597916f9b68f7bb201de261468afca3b1f8b3984e8bc77b3&quot;</td><td>&quot;0xff15883a2eeec9c3b74238230c9f898c4d79ba47&quot;</td><td>5.0</td></tr><tr><td>2022-12-02 11:54:35</td><td>&quot;BridgeDeposit&quot;</td><td>&quot;0x2afdccc7f73dcb0a6058c3016c62f438b6de12ebcfbb18e7cfb7dfb87b2e92e7&quot;</td><td>&quot;0x1446103c5994c8a1c0dc55ab353bacec3c88a4c6&quot;</td><td>100.0</td></tr><tr><td>2022-12-05 16:57:59</td><td>&quot;BridgeDeposit&quot;</td><td>&quot;0x9c55922330c1bf19d671f51f7cc2edd8d64140d87194cec4b1c58abfaf323464&quot;</td><td>&quot;0xba321653bdb2525c866d962ad66be358f6718d78&quot;</td><td>1.123457</td></tr><tr><td>2022-12-09 17:49:23</td><td>&quot;BridgeDeposit&quot;</td><td>&quot;0x6c4f9939e619a4771c6c8c9a72f73557acfe62637e165e67dc93affca13cc4ef&quot;</td><td>&quot;0xff15883a2eeec9c3b74238230c9f898c4d79ba47&quot;</td><td>10.0</td></tr><tr><td>2022-12-11 16:26:59</td><td>&quot;BridgeDeposit&quot;</td><td>&quot;0xd3c0c6ac6e3182e07c740192a2376dea6ebe0f8fa86178a6ee7adc71452df305&quot;</td><td>&quot;0xba321653bdb2525c866d962ad66be358f6718d78&quot;</td><td>1.2</td></tr></tbody></table></div>"
      ],
      "text/plain": [
       "shape: (5, 5)\n",
       "┌─────────────────────┬───────────────┬────────────────────────┬────────────────────────┬──────────┐\n",
       "│ timestamp           ┆ type          ┆ txHash                 ┆ from                   ┆ amount   │\n",
       "│ ---                 ┆ ---           ┆ ---                    ┆ ---                    ┆ ---      │\n",
       "│ datetime[μs]        ┆ str           ┆ str                    ┆ str                    ┆ f64      │\n",
       "╞═════════════════════╪═══════════════╪════════════════════════╪════════════════════════╪══════════╡\n",
       "│ 2022-12-02 11:53:59 ┆ BridgeDeposit ┆ 0xd4b1e283ce3ee9d95979 ┆ 0xff15883a2eeec9c3b742 ┆ 5.0      │\n",
       "│                     ┆               ┆ 16f9b68f7bb201de261468 ┆ 38230c9f898c4d79ba47   ┆          │\n",
       "│                     ┆               ┆ afca3b1f8b3984e8bc77b3 ┆                        ┆          │\n",
       "│ 2022-12-02 11:54:35 ┆ BridgeDeposit ┆ 0x2afdccc7f73dcb0a6058 ┆ 0x1446103c5994c8a1c0dc ┆ 100.0    │\n",
       "│                     ┆               ┆ c3016c62f438b6de12ebcf ┆ 55ab353bacec3c88a4c6   ┆          │\n",
       "│                     ┆               ┆ bb18e7cfb7dfb87b2e92e7 ┆                        ┆          │\n",
       "│ 2022-12-05 16:57:59 ┆ BridgeDeposit ┆ 0x9c55922330c1bf19d671 ┆ 0xba321653bdb2525c866d ┆ 1.123457 │\n",
       "│                     ┆               ┆ f51f7cc2edd8d64140d871 ┆ 962ad66be358f6718d78   ┆          │\n",
       "│                     ┆               ┆ 94cec4b1c58abfaf323464 ┆                        ┆          │\n",
       "│ 2022-12-09 17:49:23 ┆ BridgeDeposit ┆ 0x6c4f9939e619a4771c6c ┆ 0xff15883a2eeec9c3b742 ┆ 10.0     │\n",
       "│                     ┆               ┆ 8c9a72f73557acfe62637e ┆ 38230c9f898c4d79ba47   ┆          │\n",
       "│                     ┆               ┆ 165e67dc93affca13cc4ef ┆                        ┆          │\n",
       "│ 2022-12-11 16:26:59 ┆ BridgeDeposit ┆ 0xd3c0c6ac6e3182e07c74 ┆ 0xba321653bdb2525c866d ┆ 1.2      │\n",
       "│                     ┆               ┆ 0192a2376dea6ebe0f8fa8 ┆ 962ad66be358f6718d78   ┆          │\n",
       "│                     ┆               ┆ 6178a6ee7adc71452df305 ┆                        ┆          │\n",
       "└─────────────────────┴───────────────┴────────────────────────┴────────────────────────┴──────────┘"
      ]
     },
     "execution_count": 18,
     "metadata": {},
     "output_type": "execute_result"
    }
   ],
   "source": [
    "combined_converted_df.head(5)"
   ]
  },
  {
   "cell_type": "code",
   "execution_count": 19,
   "metadata": {},
   "outputs": [
    {
     "data": {
      "text/html": [
       "<div><style>\n",
       ".dataframe > thead > tr > th,\n",
       ".dataframe > tbody > tr > td {\n",
       "  text-align: right;\n",
       "}\n",
       "</style>\n",
       "<small>shape: (2, 2)</small><table border=\"1\" class=\"dataframe\"><thead><tr><th>type</th><th>counts</th></tr><tr><td>str</td><td>u32</td></tr></thead><tbody><tr><td>&quot;BridgeWithdrawal&quot;</td><td>36</td></tr><tr><td>&quot;BridgeDeposit&quot;</td><td>495</td></tr></tbody></table></div>"
      ],
      "text/plain": [
       "shape: (2, 2)\n",
       "┌──────────────────┬────────┐\n",
       "│ type             ┆ counts │\n",
       "│ ---              ┆ ---    │\n",
       "│ str              ┆ u32    │\n",
       "╞══════════════════╪════════╡\n",
       "│ BridgeWithdrawal ┆ 36     │\n",
       "│ BridgeDeposit    ┆ 495    │\n",
       "└──────────────────┴────────┘"
      ]
     },
     "execution_count": 19,
     "metadata": {},
     "output_type": "execute_result"
    }
   ],
   "source": [
    "# value count on type\n",
    "combined_converted_df['type'].value_counts()"
   ]
  },
  {
   "cell_type": "code",
   "execution_count": 20,
   "metadata": {},
   "outputs": [],
   "source": [
    "# plot amount by type\n",
    "pandas_df = combined_converted_df.to_pandas()"
   ]
  },
  {
   "attachments": {},
   "cell_type": "markdown",
   "metadata": {},
   "source": [
    "#### Checking curator/indexer bridge activity"
   ]
  },
  {
   "cell_type": "code",
   "execution_count": 50,
   "metadata": {},
   "outputs": [],
   "source": [
    "#indexer ids\n",
    "indexer_ids = indexers['account_id'].to_list()\n",
    "curator_ids = curators['account_id'].to_list()"
   ]
  },
  {
   "cell_type": "code",
   "execution_count": 51,
   "metadata": {},
   "outputs": [],
   "source": [
    "indexer_count = len(indexer_ids)\n",
    "indexers_bridged = len(set(indexer_ids).intersection(set(pandas_df['from'])))\n",
    "\n",
    "curator_count = len(curator_ids)\n",
    "curators_bridged = len(set(curator_ids).intersection(set(pandas_df['from'])))"
   ]
  },
  {
   "cell_type": "code",
   "execution_count": 52,
   "metadata": {},
   "outputs": [
    {
     "name": "stdout",
     "output_type": "stream",
     "text": [
      "Out of the 625 indexers, 4 have used the bridge\n",
      "Out of the 2935 curators, 21 have used the bridge\n"
     ]
    }
   ],
   "source": [
    "print(f'Out of the {indexer_count} indexers, {indexers_bridged} have used the bridge')\n",
    "print(f'Out of the {curator_count} curators, {curators_bridged} have used the bridge')"
   ]
  },
  {
   "cell_type": "code",
   "execution_count": 22,
   "metadata": {},
   "outputs": [],
   "source": [
    "# if type is BridgeWithdrawal, then turn amount negative\n",
    "pandas_df['amount'] = pandas_df.apply(lambda x: x['amount'] * -1 if x['type'] == 'BridgeWithdrawal' else x['amount'], axis=1)"
   ]
  },
  {
   "cell_type": "code",
   "execution_count": 23,
   "metadata": {},
   "outputs": [
    {
     "data": {
      "image/png": "[encoded data removed]",
      "text/plain": [
       "<Figure size 640x480 with 1 Axes>"
      ]
     },
     "metadata": {},
     "output_type": "display_data"
    }
   ],
   "source": [
    "def millions_formatter(x, pos):\n",
    "    if x < 1e6:\n",
    "        return f\"{x/1e3:.0f}K\"\n",
    "    elif x < 1e9:\n",
    "        return f\"{x/1e6:.0f}M\"\n",
    "    else:\n",
    "        return f\"{x/1e9:.0f}B\"\n",
    "    \n",
    "# plot cumsum amount grouped by type in a time series line plot\n",
    "# let amount b x axis\n",
    "y_axis = pandas_df['amount'].cumsum()\n",
    "x_axis = pandas_df['timestamp']\n",
    "\n",
    "# plot x and y axis \n",
    "plt.plot(x_axis, y_axis, label='Net GRT Bridged to Arbitrum')\n",
    "plt.ylabel('Amount of GRT')\n",
    "# label x axis as Date\n",
    "plt.xlabel('Date')\n",
    "\n",
    "# format y axis to m\n",
    "fmt = '${x:,.0f}M'\n",
    "tick = ticker.StrMethodFormatter(fmt)\n",
    "plt.gca().yaxis.set_major_formatter(ticker.FuncFormatter(millions_formatter))\n",
    "\n",
    "plt.legend()\n",
    "plt.show();"
   ]
  },
  {
   "cell_type": "code",
   "execution_count": 24,
   "metadata": {},
   "outputs": [
    {
     "data": {
      "text/html": [
       "<div>\n",
       "<style scoped>\n",
       "    .dataframe tbody tr th:only-of-type {\n",
       "        vertical-align: middle;\n",
       "    }\n",
       "\n",
       "    .dataframe tbody tr th {\n",
       "        vertical-align: top;\n",
       "    }\n",
       "\n",
       "    .dataframe thead th {\n",
       "        text-align: right;\n",
       "    }\n",
       "</style>\n",
       "<table border=\"1\" class=\"dataframe\">\n",
       "  <thead>\n",
       "    <tr style=\"text-align: right;\">\n",
       "      <th></th>\n",
       "      <th>timestamp</th>\n",
       "      <th>type</th>\n",
       "      <th>txHash</th>\n",
       "      <th>from</th>\n",
       "      <th>amount</th>\n",
       "    </tr>\n",
       "  </thead>\n",
       "  <tbody>\n",
       "    <tr>\n",
       "      <th>2</th>\n",
       "      <td>2022-12-05 16:57:59</td>\n",
       "      <td>BridgeDeposit</td>\n",
       "      <td>0x9c55922330c1bf19d671f51f7cc2edd8d64140d87194...</td>\n",
       "      <td>0xba321653bdb2525c866d962ad66be358f6718d78</td>\n",
       "      <td>1.123457</td>\n",
       "    </tr>\n",
       "    <tr>\n",
       "      <th>4</th>\n",
       "      <td>2022-12-11 16:26:59</td>\n",
       "      <td>BridgeDeposit</td>\n",
       "      <td>0xd3c0c6ac6e3182e07c740192a2376dea6ebe0f8fa861...</td>\n",
       "      <td>0xba321653bdb2525c866d962ad66be358f6718d78</td>\n",
       "      <td>1.200000</td>\n",
       "    </tr>\n",
       "    <tr>\n",
       "      <th>5</th>\n",
       "      <td>2022-12-11 16:42:23</td>\n",
       "      <td>BridgeDeposit</td>\n",
       "      <td>0x8d758a1c1cf32533c06c0d9b5e0bf15920600b5c2069...</td>\n",
       "      <td>0xba321653bdb2525c866d962ad66be358f6718d78</td>\n",
       "      <td>1.600000</td>\n",
       "    </tr>\n",
       "    <tr>\n",
       "      <th>12</th>\n",
       "      <td>2022-12-13 15:31:35</td>\n",
       "      <td>BridgeDeposit</td>\n",
       "      <td>0x0704b3d2538898f63c1d10098814127844ddf9203678...</td>\n",
       "      <td>0xba321653bdb2525c866d962ad66be358f6718d78</td>\n",
       "      <td>0.700000</td>\n",
       "    </tr>\n",
       "    <tr>\n",
       "      <th>13</th>\n",
       "      <td>2022-12-13 15:32:35</td>\n",
       "      <td>BridgeDeposit</td>\n",
       "      <td>0x7c19f81c66671d5c067cccaf618a262d7bb0b4e230c6...</td>\n",
       "      <td>0xba321653bdb2525c866d962ad66be358f6718d78</td>\n",
       "      <td>2.000000</td>\n",
       "    </tr>\n",
       "    <tr>\n",
       "      <th>...</th>\n",
       "      <td>...</td>\n",
       "      <td>...</td>\n",
       "      <td>...</td>\n",
       "      <td>...</td>\n",
       "      <td>...</td>\n",
       "    </tr>\n",
       "    <tr>\n",
       "      <th>519</th>\n",
       "      <td>2023-05-09 04:50:35</td>\n",
       "      <td>BridgeDeposit</td>\n",
       "      <td>0x5fe22018310aae2a138b093825df2bc52ec232109136...</td>\n",
       "      <td>0xba321653bdb2525c866d962ad66be358f6718d78</td>\n",
       "      <td>6677.484999</td>\n",
       "    </tr>\n",
       "    <tr>\n",
       "      <th>523</th>\n",
       "      <td>2023-05-10 03:50:23</td>\n",
       "      <td>BridgeDeposit</td>\n",
       "      <td>0x0aa92a13f38389846c684a36ad3aa3aa3dc38f6cf0ca...</td>\n",
       "      <td>0xba321653bdb2525c866d962ad66be358f6718d78</td>\n",
       "      <td>81.055147</td>\n",
       "    </tr>\n",
       "    <tr>\n",
       "      <th>526</th>\n",
       "      <td>2023-05-12 01:45:47</td>\n",
       "      <td>BridgeDeposit</td>\n",
       "      <td>0xc430e0a910a0fb7ae60edba558cb364ad36ae02d91e5...</td>\n",
       "      <td>0xba321653bdb2525c866d962ad66be358f6718d78</td>\n",
       "      <td>500.000000</td>\n",
       "    </tr>\n",
       "    <tr>\n",
       "      <th>527</th>\n",
       "      <td>2023-05-12 06:35:47</td>\n",
       "      <td>BridgeDeposit</td>\n",
       "      <td>0x68bbac3b30c3b126af0d8a02abab99dedf4789c4d03d...</td>\n",
       "      <td>0xba321653bdb2525c866d962ad66be358f6718d78</td>\n",
       "      <td>2977.628857</td>\n",
       "    </tr>\n",
       "    <tr>\n",
       "      <th>529</th>\n",
       "      <td>2023-05-13 03:13:23</td>\n",
       "      <td>BridgeDeposit</td>\n",
       "      <td>0x80c7a88e8872b43e493fdf50898602631a81941fa5e4...</td>\n",
       "      <td>0xba321653bdb2525c866d962ad66be358f6718d78</td>\n",
       "      <td>10000.000000</td>\n",
       "    </tr>\n",
       "  </tbody>\n",
       "</table>\n",
       "<p>249 rows × 5 columns</p>\n",
       "</div>"
      ],
      "text/plain": [
       "              timestamp           type  \\\n",
       "2   2022-12-05 16:57:59  BridgeDeposit   \n",
       "4   2022-12-11 16:26:59  BridgeDeposit   \n",
       "5   2022-12-11 16:42:23  BridgeDeposit   \n",
       "12  2022-12-13 15:31:35  BridgeDeposit   \n",
       "13  2022-12-13 15:32:35  BridgeDeposit   \n",
       "..                  ...            ...   \n",
       "519 2023-05-09 04:50:35  BridgeDeposit   \n",
       "523 2023-05-10 03:50:23  BridgeDeposit   \n",
       "526 2023-05-12 01:45:47  BridgeDeposit   \n",
       "527 2023-05-12 06:35:47  BridgeDeposit   \n",
       "529 2023-05-13 03:13:23  BridgeDeposit   \n",
       "\n",
       "                                                txHash  \\\n",
       "2    0x9c55922330c1bf19d671f51f7cc2edd8d64140d87194...   \n",
       "4    0xd3c0c6ac6e3182e07c740192a2376dea6ebe0f8fa861...   \n",
       "5    0x8d758a1c1cf32533c06c0d9b5e0bf15920600b5c2069...   \n",
       "12   0x0704b3d2538898f63c1d10098814127844ddf9203678...   \n",
       "13   0x7c19f81c66671d5c067cccaf618a262d7bb0b4e230c6...   \n",
       "..                                                 ...   \n",
       "519  0x5fe22018310aae2a138b093825df2bc52ec232109136...   \n",
       "523  0x0aa92a13f38389846c684a36ad3aa3aa3dc38f6cf0ca...   \n",
       "526  0xc430e0a910a0fb7ae60edba558cb364ad36ae02d91e5...   \n",
       "527  0x68bbac3b30c3b126af0d8a02abab99dedf4789c4d03d...   \n",
       "529  0x80c7a88e8872b43e493fdf50898602631a81941fa5e4...   \n",
       "\n",
       "                                           from        amount  \n",
       "2    0xba321653bdb2525c866d962ad66be358f6718d78      1.123457  \n",
       "4    0xba321653bdb2525c866d962ad66be358f6718d78      1.200000  \n",
       "5    0xba321653bdb2525c866d962ad66be358f6718d78      1.600000  \n",
       "12   0xba321653bdb2525c866d962ad66be358f6718d78      0.700000  \n",
       "13   0xba321653bdb2525c866d962ad66be358f6718d78      2.000000  \n",
       "..                                          ...           ...  \n",
       "519  0xba321653bdb2525c866d962ad66be358f6718d78   6677.484999  \n",
       "523  0xba321653bdb2525c866d962ad66be358f6718d78     81.055147  \n",
       "526  0xba321653bdb2525c866d962ad66be358f6718d78    500.000000  \n",
       "527  0xba321653bdb2525c866d962ad66be358f6718d78   2977.628857  \n",
       "529  0xba321653bdb2525c866d962ad66be358f6718d78  10000.000000  \n",
       "\n",
       "[249 rows x 5 columns]"
      ]
     },
     "execution_count": 24,
     "metadata": {},
     "output_type": "execute_result"
    }
   ],
   "source": [
    "# BILLING CONTRACT 0xba321653bdb2525c866d962ad66be358f6718d78\n",
    "# https://etherscan.io/address/0xba321653bdb2525c866d962ad66be358f6718d78#code\n",
    "# The billing contract allows for Graph Tokens to be added by a user. The\n",
    "#  tokens are immediately sent to the Billing contract on L2 (Arbitrum)\n",
    "#  through the GRT token bridge\n",
    "\n",
    "# how much has the billing contract sent? \n",
    "pandas_df[pandas_df['from'] == '0xba321653bdb2525c866d962ad66be358f6718d78'].sort_index()"
   ]
  },
  {
   "cell_type": "code",
   "execution_count": 25,
   "metadata": {},
   "outputs": [
    {
     "data": {
      "image/png": "[encoded data removed]",
      "text/plain": [
       "<Figure size 640x480 with 1 Axes>"
      ]
     },
     "metadata": {},
     "output_type": "display_data"
    }
   ],
   "source": [
    "# plot cumsum amount grouped by type in a time series line plot\n",
    "# let amount b x axis\n",
    "y_axis2 = pandas_df[pandas_df['from'] == '0xba321653bdb2525c866d962ad66be358f6718d78'].sort_index()['amount'].cumsum()\n",
    "x_axis2 = pandas_df[pandas_df['from'] == '0xba321653bdb2525c866d962ad66be358f6718d78'].sort_index()['timestamp']\n",
    "\n",
    "# plot x and y axis \n",
    "plt.plot(x_axis2, y_axis2, label='GRT Bridged to Arbitrum Billing Contract')\n",
    "plt.ylabel('Amount of GRT')\n",
    "# label x axis as Date\n",
    "plt.xlabel('Date')\n",
    "\n",
    "# format y axis to m\n",
    "fmt = '${x:,.0f}M'\n",
    "tick = ticker.StrMethodFormatter(fmt)\n",
    "plt.gca().yaxis.set_major_formatter(ticker.FuncFormatter(millions_formatter))\n",
    "\n",
    "plt.legend()\n",
    "plt.show();"
   ]
  },
  {
   "cell_type": "code",
   "execution_count": null,
   "metadata": {},
   "outputs": [],
   "source": []
  }
 ],
 "metadata": {
  "kernelspec": {
   "display_name": ".venv",
   "language": "python",
   "name": "python3"
  },
  "language_info": {
   "codemirror_mode": {
    "name": "ipython",
    "version": 3
   },
   "file_extension": ".py",
   "mimetype": "text/x-python",
   "name": "python",
   "nbconvert_exporter": "python",
   "pygments_lexer": "ipython3",
   "version": "3.10.6"
  },
  "orig_nbformat": 4
 },
 "nbformat": 4,
 "nbformat_minor": 2
}
