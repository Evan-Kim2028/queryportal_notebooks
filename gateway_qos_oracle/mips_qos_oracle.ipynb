{
 "cells": [
  {
   "cell_type": "code",
   "execution_count": 11,
   "metadata": {},
   "outputs": [
    {
     "data": {
      "text/plain": [
       "polars.config.Config"
      ]
     },
     "execution_count": 11,
     "metadata": {},
     "output_type": "execute_result"
    }
   ],
   "source": [
    "from datetime import datetime, timedelta\n",
    "\n",
    "from subutil.schema_utils import *\n",
    "from queryportal.subgraphinterface import SubgraphInterface\n",
    "\n",
    "# plotting\n",
    "import matplotlib.pyplot as plt\n",
    "import matplotlib.dates as mdates\n",
    "import matplotlib.ticker as ticker\n",
    "\n",
    "import polars as pl\n",
    "pl.Config.set_fmt_str_lengths(200)"
   ]
  },
  {
   "attachments": {},
   "cell_type": "markdown",
   "metadata": {},
   "source": [
    "### Load Subgraph, check queryable entities"
   ]
  },
  {
   "cell_type": "code",
   "execution_count": 12,
   "metadata": {},
   "outputs": [],
   "source": [
    "# HOSTED Endpoints\n",
    "sgi = SubgraphInterface(endpoints=[\n",
    "    'https://api.thegraph.com/subgraphs/name/graphprotocol/gateway-mips-qos-oracle', \n",
    "    ]   \n",
    ")"
   ]
  },
  {
   "cell_type": "code",
   "execution_count": 13,
   "metadata": {},
   "outputs": [],
   "source": [
    "sg_schema = getSubgraphSchema(sgi.subject.subgraphs['gateway-mips-qos-oracle'])"
   ]
  },
  {
   "cell_type": "code",
   "execution_count": 14,
   "metadata": {},
   "outputs": [],
   "source": [
    "queryable_entities = getQueryFields(sgi.subject.subgraphs['gateway-mips-qos-oracle'], sg_schema[sg_schema.index('Query')])"
   ]
  },
  {
   "cell_type": "code",
   "execution_count": 15,
   "metadata": {},
   "outputs": [],
   "source": [
    "entity_list = list(queryable_entities.keys())"
   ]
  },
  {
   "cell_type": "code",
   "execution_count": 16,
   "metadata": {},
   "outputs": [
    {
     "data": {
      "text/plain": [
       "['oracleMessages',\n",
       " 'messageDataPoints',\n",
       " 'indexerDataPoints',\n",
       " 'indexerDailyDataPoints',\n",
       " 'queryDataPoints',\n",
       " 'queryDailyDataPoints',\n",
       " 'indexers',\n",
       " 'subgraphDeployments',\n",
       " 'dataPoints']"
      ]
     },
     "execution_count": 16,
     "metadata": {},
     "output_type": "execute_result"
    }
   ],
   "source": [
    "entity_list"
   ]
  },
  {
   "attachments": {},
   "cell_type": "markdown",
   "metadata": {},
   "source": [
    "### queryDataPoints entity query"
   ]
  },
  {
   "cell_type": "code",
   "execution_count": 24,
   "metadata": {},
   "outputs": [
    {
     "name": "stdout",
     "output_type": "stream",
     "text": [
      "Querying endpoint: gateway-mips-qos-oracle\n"
     ]
    },
    {
     "name": "stderr",
     "output_type": "stream",
     "text": [
      "/usr/lib/python3.10/json/decoder.py:353: ResourceWarning: unclosed <socket.socket fd=64, family=AddressFamily.AF_INET, type=SocketKind.SOCK_STREAM, proto=6, laddr=('192.168.0.74', 48612), raddr=('104.18.39.222', 443)>\n",
      "  obj, end = self.scan_once(s, idx)\n",
      "ResourceWarning: Enable tracemalloc to get the object allocation traceback\n"
     ]
    }
   ],
   "source": [
    "queryDataPoints = sgi.query_entity(\n",
    "    query_size=10000,\n",
    "    entity='queryDataPoints',\n",
    "    orderBy='start_epoch',\n",
    "    name='gateway-mips-qos-oracle',\n",
    "    filter_dict={'subgraphDeployment_id': 'QmcPHxcC2ZN7m79XfYZ77YmF4t9UCErv87a9NFKrSLWKtJ'},\n",
    ")"
   ]
  },
  {
   "cell_type": "code",
   "execution_count": 18,
   "metadata": {},
   "outputs": [
    {
     "data": {
      "text/html": [
       "<div><style>\n",
       ".dataframe > thead > tr > th,\n",
       ".dataframe > tbody > tr > td {\n",
       "  text-align: right;\n",
       "}\n",
       "</style>\n",
       "<small>shape: (0, 18)</small><table border=\"1\" class=\"dataframe\"><thead><tr><th>rawData</th><th>avg_gateway_latency_ms</th><th>avg_query_fee</th><th>end_epoch</th><th>gateway_query_success_rate</th><th>max_gateway_latency_ms</th><th>max_query_fee</th><th>most_recent_query_ts</th><th>query_count</th><th>stdev_gateway_latency_ms</th><th>subgraph_deployment_ipfs_hash</th><th>total_query_fees</th><th>user_attributed_error_rate</th><th>chain_id</th><th>gateway_id</th><th>start_epoch</th><th>messageDataPoint_id</th><th>subgraphDeployment_id</th></tr><tr><td>str</td><td>f64</td><td>f64</td><td>f64</td><td>f64</td><td>f64</td><td>f64</td><td>f64</td><td>f64</td><td>f64</td><td>str</td><td>f64</td><td>f64</td><td>bool</td><td>bool</td><td>f64</td><td>str</td><td>str</td></tr></thead><tbody></tbody></table></div>"
      ],
      "text/plain": [
       "shape: (0, 18)\n",
       "┌─────────┬────────────┬────────────┬───────────┬───┬──────────┬───────────┬────────────┬────────────┐\n",
       "│ rawData ┆ avg_gatewa ┆ avg_query_ ┆ end_epoch ┆ … ┆ gateway_ ┆ start_epo ┆ messageDat ┆ subgraphDe │\n",
       "│ ---     ┆ y_latency_ ┆ fee        ┆ ---       ┆   ┆ id       ┆ ch        ┆ aPoint_id  ┆ ployment_i │\n",
       "│ str     ┆ ms         ┆ ---        ┆ f64       ┆   ┆ ---      ┆ ---       ┆ ---        ┆ d          │\n",
       "│         ┆ ---        ┆ f64        ┆           ┆   ┆ bool     ┆ f64       ┆ str        ┆ ---        │\n",
       "│         ┆ f64        ┆            ┆           ┆   ┆          ┆           ┆            ┆ str        │\n",
       "╞═════════╪════════════╪════════════╪═══════════╪═══╪══════════╪═══════════╪════════════╪════════════╡\n",
       "└─────────┴────────────┴────────────┴───────────┴───┴──────────┴───────────┴────────────┴────────────┘"
      ]
     },
     "execution_count": 18,
     "metadata": {},
     "output_type": "execute_result"
    }
   ],
   "source": [
    "queryDataPoints.filter(pl.col('subgraphDeployment_id') == 'QmcPHxcC2ZN7m79XfYZ77YmF4t9UCErv87a9NFKrSLWKtJ').head(5) # uniswap v3 subgraphdeplyment id"
   ]
  },
  {
   "cell_type": "code",
   "execution_count": 19,
   "metadata": {},
   "outputs": [
    {
     "data": {
      "text/html": [
       "<div><style>\n",
       ".dataframe > thead > tr > th,\n",
       ".dataframe > tbody > tr > td {\n",
       "  text-align: right;\n",
       "}\n",
       "</style>\n",
       "<small>shape: (5, 3)</small><table border=\"1\" class=\"dataframe\"><thead><tr><th>gateway_query_success_rate</th><th>query_count</th><th>avg_gateway_latency_ms</th></tr><tr><td>f64</td><td>f64</td><td>f64</td></tr></thead><tbody><tr><td>1.0</td><td>1.0</td><td>184.0</td></tr><tr><td>1.0</td><td>1.0</td><td>195.0</td></tr><tr><td>1.0</td><td>1.0</td><td>839.0</td></tr><tr><td>1.0</td><td>1.0</td><td>1200.0</td></tr><tr><td>1.0</td><td>1.0</td><td>197.0</td></tr></tbody></table></div>"
      ],
      "text/plain": [
       "shape: (5, 3)\n",
       "┌────────────────────────────┬─────────────┬────────────────────────┐\n",
       "│ gateway_query_success_rate ┆ query_count ┆ avg_gateway_latency_ms │\n",
       "│ ---                        ┆ ---         ┆ ---                    │\n",
       "│ f64                        ┆ f64         ┆ f64                    │\n",
       "╞════════════════════════════╪═════════════╪════════════════════════╡\n",
       "│ 1.0                        ┆ 1.0         ┆ 184.0                  │\n",
       "│ 1.0                        ┆ 1.0         ┆ 195.0                  │\n",
       "│ 1.0                        ┆ 1.0         ┆ 839.0                  │\n",
       "│ 1.0                        ┆ 1.0         ┆ 1200.0                 │\n",
       "│ 1.0                        ┆ 1.0         ┆ 197.0                  │\n",
       "└────────────────────────────┴─────────────┴────────────────────────┘"
      ]
     },
     "execution_count": 19,
     "metadata": {},
     "output_type": "execute_result"
    }
   ],
   "source": [
    "queryDataPoints[['gateway_query_success_rate', 'query_count', 'avg_gateway_latency_ms']].unique().sort('query_count').head(5)"
   ]
  },
  {
   "attachments": {},
   "cell_type": "markdown",
   "metadata": {},
   "source": [
    "### indexerDataPoints"
   ]
  },
  {
   "cell_type": "code",
   "execution_count": 20,
   "metadata": {},
   "outputs": [
    {
     "name": "stdout",
     "output_type": "stream",
     "text": [
      "Querying endpoint: gateway-mips-qos-oracle\n",
      "Return empty dict because filter_dict param is empty\n",
      "Shape: (5000, 22)\n",
      "Schema: {'rawData': Utf8, 'avg_indexer_blocks_behind': Float64, 'avg_indexer_latency_ms': Float64, 'avg_query_fee': Float64, 'end_epoch': Float64, 'indexer_url': Utf8, 'indexer_wallet': Utf8, 'max_indexer_blocks_behind': Float64, 'max_indexer_latency_ms': Float64, 'max_query_fee': Float64, 'num_indexer_200_responses': Float64, 'proportion_indexer_200_responses': Float64, 'query_count': Float64, 'stdev_indexer_latency_ms': Float64, 'subgraph_deployment_ipfs_hash': Utf8, 'total_query_fees': Float64, 'chain_id': Boolean, 'gateway_id': Boolean, 'start_epoch': Float64, 'messageDataPoint_id': Utf8, 'indexer_id': Utf8, 'subgraphDeployment_id': Utf8}\n",
      "Function 'query_entity' executed in 23.9409s\n"
     ]
    }
   ],
   "source": [
    "indexer_data_points = sgi.query_entity(\n",
    "    query_size=10000,\n",
    "    entity='indexerDataPoints',\n",
    "    orderBy='start_epoch',\n",
    "    name='gateway-mips-qos-oracle',\n",
    "    filter_dict={'subgraphDeployment_id': 'QmcPHxcC2ZN7m79XfYZ77YmF4t9UCErv87a9NFKrSLWKtJ'}\n",
    ")"
   ]
  },
  {
   "cell_type": "code",
   "execution_count": 21,
   "metadata": {},
   "outputs": [
    {
     "data": {
      "text/html": [
       "<div><style>\n",
       ".dataframe > thead > tr > th,\n",
       ".dataframe > tbody > tr > td {\n",
       "  text-align: right;\n",
       "}\n",
       "</style>\n",
       "<small>shape: (5, 22)</small><table border=\"1\" class=\"dataframe\"><thead><tr><th>rawData</th><th>avg_indexer_blocks_behind</th><th>avg_indexer_latency_ms</th><th>avg_query_fee</th><th>end_epoch</th><th>indexer_url</th><th>indexer_wallet</th><th>max_indexer_blocks_behind</th><th>max_indexer_latency_ms</th><th>max_query_fee</th><th>num_indexer_200_responses</th><th>proportion_indexer_200_responses</th><th>query_count</th><th>stdev_indexer_latency_ms</th><th>subgraph_deployment_ipfs_hash</th><th>total_query_fees</th><th>chain_id</th><th>gateway_id</th><th>start_epoch</th><th>messageDataPoint_id</th><th>indexer_id</th><th>subgraphDeployment_id</th></tr><tr><td>str</td><td>f64</td><td>f64</td><td>f64</td><td>f64</td><td>str</td><td>str</td><td>f64</td><td>f64</td><td>f64</td><td>f64</td><td>f64</td><td>f64</td><td>f64</td><td>str</td><td>f64</td><td>bool</td><td>bool</td><td>f64</td><td>str</td><td>str</td><td>str</td></tr></thead><tbody><tr><td>&quot;{&quot;avg_indexer_blocks_behind&quot;:4, &quot;avg_indexer_latency_ms&quot;:38, &quot;avg_query_fee&quot;:0, &quot;end_epoch&quot;:1666812300, &quot;indexer_url&quot;:&quot;http://35.241.10.35/&quot;, &quot;indexer_wallet&quot;:&quot;0xc60d0c8c74b5d3a33ed51c007ebae682490de…</td><td>4.0</td><td>38.0</td><td>0.0</td><td>1.6668e9</td><td>&quot;http://35.241.10.35/&quot;</td><td>&quot;0xc60d0c8c74b5d3a33ed51c007ebae682490de261&quot;</td><td>4.0</td><td>38.0</td><td>0.0</td><td>0.0</td><td>0.0</td><td>1.0</td><td>0.0</td><td>&quot;QmSMrhLWgRwvQxpm18KYC6G5sGSYJAJiW3tgb6xtaFt6de&quot;</td><td>0.0</td><td>null</td><td>null</td><td>1.6668e9</td><td>&quot;0xad67ba6737e293a4bdf2081737f71773a82b034e8f12d741e14857a1568275680&quot;</td><td>&quot;0xc60d0c8c74b5d3a33ed51c007ebae682490de261&quot;</td><td>&quot;QmSMrhLWgRwvQxpm18KYC6G5sGSYJAJiW3tgb6xtaFt6de&quot;</td></tr><tr><td>&quot;{&quot;avg_indexer_blocks_behind&quot;:3, &quot;avg_indexer_latency_ms&quot;:308, &quot;avg_query_fee&quot;:0, &quot;end_epoch&quot;:1666812300, &quot;indexer_url&quot;:&quot;http://5.9.97.124/&quot;, &quot;indexer_wallet&quot;:&quot;0x50fda0a43d6770a927ebe2909fce1cdcba4178…</td><td>3.0</td><td>308.0</td><td>0.0</td><td>1.6668e9</td><td>&quot;http://5.9.97.124/&quot;</td><td>&quot;0x50fda0a43d6770a927ebe2909fce1cdcba417801&quot;</td><td>3.0</td><td>343.0</td><td>0.0</td><td>0.0</td><td>0.0</td><td>2.0</td><td>49.497475</td><td>&quot;QmRDGLp6BHwiH9HAE2NYEE3f7LrKuRqziHBv76trT4etgU&quot;</td><td>0.0</td><td>null</td><td>null</td><td>1.6668e9</td><td>&quot;0xad67ba6737e293a4bdf2081737f71773a82b034e8f12d741e14857a1568275680&quot;</td><td>&quot;0x50fda0a43d6770a927ebe2909fce1cdcba417801&quot;</td><td>&quot;QmRDGLp6BHwiH9HAE2NYEE3f7LrKuRqziHBv76trT4etgU&quot;</td></tr><tr><td>&quot;{&quot;avg_indexer_blocks_behind&quot;:0.5, &quot;avg_indexer_latency_ms&quot;:57, &quot;avg_query_fee&quot;:0.00348, &quot;end_epoch&quot;:1666812300, &quot;indexer_url&quot;:&quot;http://65.108.138.83:7600/&quot;, &quot;indexer_wallet&quot;:&quot;0x1a99dd7d916117a523f3ce6…</td><td>0.5</td><td>57.0</td><td>0.00348</td><td>1.6668e9</td><td>&quot;http://65.108.138.83:7600/&quot;</td><td>&quot;0x1a99dd7d916117a523f3ce6510dcfd6bceab11e7&quot;</td><td>1.0</td><td>74.0</td><td>0.00348</td><td>2.0</td><td>1.0</td><td>2.0</td><td>24.041631</td><td>&quot;QmUYUTWnFsA5iD8uKMUQ3Zkiymngqh8bedSE4qxqxpSrYd&quot;</td><td>0.00696</td><td>null</td><td>null</td><td>1.6668e9</td><td>&quot;0xad67ba6737e293a4bdf2081737f71773a82b034e8f12d741e14857a1568275680&quot;</td><td>&quot;0x1a99dd7d916117a523f3ce6510dcfd6bceab11e7&quot;</td><td>&quot;QmUYUTWnFsA5iD8uKMUQ3Zkiymngqh8bedSE4qxqxpSrYd&quot;</td></tr><tr><td>&quot;{&quot;avg_indexer_blocks_behind&quot;:2, &quot;avg_indexer_latency_ms&quot;:276, &quot;avg_query_fee&quot;:0.0170321181, &quot;end_epoch&quot;:1666812300, &quot;indexer_url&quot;:&quot;https://index0.graph.stake-machine.com/&quot;, &quot;indexer_wallet&quot;:&quot;0x1692a8…</td><td>2.0</td><td>276.0</td><td>0.017032</td><td>1.6668e9</td><td>&quot;https://index0.graph.stake-machine.com/&quot;</td><td>&quot;0x1692a8710dcf0dce24bd34c028479176b97ee9ef&quot;</td><td>2.0</td><td>276.0</td><td>0.017032</td><td>1.0</td><td>1.0</td><td>1.0</td><td>0.0</td><td>&quot;QmRDGLp6BHwiH9HAE2NYEE3f7LrKuRqziHBv76trT4etgU&quot;</td><td>0.017032</td><td>null</td><td>null</td><td>1.6668e9</td><td>&quot;0xad67ba6737e293a4bdf2081737f71773a82b034e8f12d741e14857a1568275680&quot;</td><td>&quot;0x1692a8710dcf0dce24bd34c028479176b97ee9ef&quot;</td><td>&quot;QmRDGLp6BHwiH9HAE2NYEE3f7LrKuRqziHBv76trT4etgU&quot;</td></tr><tr><td>&quot;{&quot;avg_indexer_blocks_behind&quot;:2, &quot;avg_indexer_latency_ms&quot;:3712, &quot;avg_query_fee&quot;:0.0385297482, &quot;end_epoch&quot;:1666812300, &quot;indexer_url&quot;:&quot;https://index0.graph.stake-machine.com/&quot;, &quot;indexer_wallet&quot;:&quot;0x1692a…</td><td>2.0</td><td>3712.0</td><td>0.03853</td><td>1.6668e9</td><td>&quot;https://index0.graph.stake-machine.com/&quot;</td><td>&quot;0x1692a8710dcf0dce24bd34c028479176b97ee9ef&quot;</td><td>2.0</td><td>3712.0</td><td>0.03853</td><td>1.0</td><td>1.0</td><td>1.0</td><td>0.0</td><td>&quot;QmbHg6vAJRD9ZWz5GTP9oMrfDyetnGTr5KWJBYAq59fm1W&quot;</td><td>0.03853</td><td>null</td><td>null</td><td>1.6668e9</td><td>&quot;0xad67ba6737e293a4bdf2081737f71773a82b034e8f12d741e14857a1568275680&quot;</td><td>&quot;0x1692a8710dcf0dce24bd34c028479176b97ee9ef&quot;</td><td>&quot;QmbHg6vAJRD9ZWz5GTP9oMrfDyetnGTr5KWJBYAq59fm1W&quot;</td></tr></tbody></table></div>"
      ],
      "text/plain": [
       "shape: (5, 22)\n",
       "┌──────┬────────────┬────────────┬────────────┬───┬───────────┬────────────┬──────────┬────────────┐\n",
       "│ rawD ┆ avg_indexe ┆ avg_indexe ┆ avg_query_ ┆ … ┆ start_epo ┆ messageDat ┆ indexer_ ┆ subgraphDe │\n",
       "│ ata  ┆ r_blocks_b ┆ r_latency_ ┆ fee        ┆   ┆ ch        ┆ aPoint_id  ┆ id       ┆ ployment_i │\n",
       "│ ---  ┆ ehind      ┆ ms         ┆ ---        ┆   ┆ ---       ┆ ---        ┆ ---      ┆ d          │\n",
       "│ str  ┆ ---        ┆ ---        ┆ f64        ┆   ┆ f64       ┆ str        ┆ str      ┆ ---        │\n",
       "│      ┆ f64        ┆ f64        ┆            ┆   ┆           ┆            ┆          ┆ str        │\n",
       "╞══════╪════════════╪════════════╪════════════╪═══╪═══════════╪════════════╪══════════╪════════════╡\n",
       "│ {\"av ┆ 4.0        ┆ 38.0       ┆ 0.0        ┆ … ┆ 1.6668e9  ┆ 0xad67ba67 ┆ 0xc60d0c ┆ QmSMrhLWgR │\n",
       "│ g_in ┆            ┆            ┆            ┆   ┆           ┆ 37e293a4bd ┆ 8c74b5d3 ┆ wvQxpm18KY │\n",
       "│ dexe ┆            ┆            ┆            ┆   ┆           ┆ f2081737f7 ┆ a33ed51c ┆ C6G5sGSYJA │\n",
       "│ r_bl ┆            ┆            ┆            ┆   ┆           ┆ 1773a82b03 ┆ 007ebae6 ┆ JiW3tgb6xt │\n",
       "│ ocks ┆            ┆            ┆            ┆   ┆           ┆ 4e8f12d741 ┆ 82490de2 ┆ aFt6de     │\n",
       "│ _beh ┆            ┆            ┆            ┆   ┆           ┆ e14857a156 ┆ 61       ┆            │\n",
       "│ ind\" ┆            ┆            ┆            ┆   ┆           ┆ 8275680    ┆          ┆            │\n",
       "│ :4,  ┆            ┆            ┆            ┆   ┆           ┆            ┆          ┆            │\n",
       "│ \"avg ┆            ┆            ┆            ┆   ┆           ┆            ┆          ┆            │\n",
       "│ _ind ┆            ┆            ┆            ┆   ┆           ┆            ┆          ┆            │\n",
       "│ exer ┆            ┆            ┆            ┆   ┆           ┆            ┆          ┆            │\n",
       "│ _lat ┆            ┆            ┆            ┆   ┆           ┆            ┆          ┆            │\n",
       "│ ency ┆            ┆            ┆            ┆   ┆           ┆            ┆          ┆            │\n",
       "│ _ms\" ┆            ┆            ┆            ┆   ┆           ┆            ┆          ┆            │\n",
       "│ :38, ┆            ┆            ┆            ┆   ┆           ┆            ┆          ┆            │\n",
       "│ \"avg ┆            ┆            ┆            ┆   ┆           ┆            ┆          ┆            │\n",
       "│ _que ┆            ┆            ┆            ┆   ┆           ┆            ┆          ┆            │\n",
       "│ ry_f ┆            ┆            ┆            ┆   ┆           ┆            ┆          ┆            │\n",
       "│ ee\": ┆            ┆            ┆            ┆   ┆           ┆            ┆          ┆            │\n",
       "│ 0,   ┆            ┆            ┆            ┆   ┆           ┆            ┆          ┆            │\n",
       "│ \"end ┆            ┆            ┆            ┆   ┆           ┆            ┆          ┆            │\n",
       "│ _epo ┆            ┆            ┆            ┆   ┆           ┆            ┆          ┆            │\n",
       "│ ch\": ┆            ┆            ┆            ┆   ┆           ┆            ┆          ┆            │\n",
       "│ 1666 ┆            ┆            ┆            ┆   ┆           ┆            ┆          ┆            │\n",
       "│ 8123 ┆            ┆            ┆            ┆   ┆           ┆            ┆          ┆            │\n",
       "│ 00,  ┆            ┆            ┆            ┆   ┆           ┆            ┆          ┆            │\n",
       "│ \"ind ┆            ┆            ┆            ┆   ┆           ┆            ┆          ┆            │\n",
       "│ exer ┆            ┆            ┆            ┆   ┆           ┆            ┆          ┆            │\n",
       "│ _url ┆            ┆            ┆            ┆   ┆           ┆            ┆          ┆            │\n",
       "│ \":\"h ┆            ┆            ┆            ┆   ┆           ┆            ┆          ┆            │\n",
       "│ ttp: ┆            ┆            ┆            ┆   ┆           ┆            ┆          ┆            │\n",
       "│ //35 ┆            ┆            ┆            ┆   ┆           ┆            ┆          ┆            │\n",
       "│ .241 ┆            ┆            ┆            ┆   ┆           ┆            ┆          ┆            │\n",
       "│ .10. ┆            ┆            ┆            ┆   ┆           ┆            ┆          ┆            │\n",
       "│ 35/\" ┆            ┆            ┆            ┆   ┆           ┆            ┆          ┆            │\n",
       "│ ,    ┆            ┆            ┆            ┆   ┆           ┆            ┆          ┆            │\n",
       "│ \"ind ┆            ┆            ┆            ┆   ┆           ┆            ┆          ┆            │\n",
       "│ exer ┆            ┆            ┆            ┆   ┆           ┆            ┆          ┆            │\n",
       "│ _wal ┆            ┆            ┆            ┆   ┆           ┆            ┆          ┆            │\n",
       "│ let\" ┆            ┆            ┆            ┆   ┆           ┆            ┆          ┆            │\n",
       "│ :\"0x ┆            ┆            ┆            ┆   ┆           ┆            ┆          ┆            │\n",
       "│ c60d ┆            ┆            ┆            ┆   ┆           ┆            ┆          ┆            │\n",
       "│ 0c8c ┆            ┆            ┆            ┆   ┆           ┆            ┆          ┆            │\n",
       "│ 74b5 ┆            ┆            ┆            ┆   ┆           ┆            ┆          ┆            │\n",
       "│ d3a3 ┆            ┆            ┆            ┆   ┆           ┆            ┆          ┆            │\n",
       "│ 3ed5 ┆            ┆            ┆            ┆   ┆           ┆            ┆          ┆            │\n",
       "│ 1c00 ┆            ┆            ┆            ┆   ┆           ┆            ┆          ┆            │\n",
       "│ 7eba ┆            ┆            ┆            ┆   ┆           ┆            ┆          ┆            │\n",
       "│ e682 ┆            ┆            ┆            ┆   ┆           ┆            ┆          ┆            │\n",
       "│ 490d ┆            ┆            ┆            ┆   ┆           ┆            ┆          ┆            │\n",
       "│ e2…  ┆            ┆            ┆            ┆   ┆           ┆            ┆          ┆            │\n",
       "│ {\"av ┆ 3.0        ┆ 308.0      ┆ 0.0        ┆ … ┆ 1.6668e9  ┆ 0xad67ba67 ┆ 0x50fda0 ┆ QmRDGLp6BH │\n",
       "│ g_in ┆            ┆            ┆            ┆   ┆           ┆ 37e293a4bd ┆ a43d6770 ┆ wiH9HAE2NY │\n",
       "│ dexe ┆            ┆            ┆            ┆   ┆           ┆ f2081737f7 ┆ a927ebe2 ┆ EE3f7LrKuR │\n",
       "│ r_bl ┆            ┆            ┆            ┆   ┆           ┆ 1773a82b03 ┆ 909fce1c ┆ qziHBv76tr │\n",
       "│ ocks ┆            ┆            ┆            ┆   ┆           ┆ 4e8f12d741 ┆ dcba4178 ┆ T4etgU     │\n",
       "│ _beh ┆            ┆            ┆            ┆   ┆           ┆ e14857a156 ┆ 01       ┆            │\n",
       "│ ind\" ┆            ┆            ┆            ┆   ┆           ┆ 8275680    ┆          ┆            │\n",
       "│ :3,  ┆            ┆            ┆            ┆   ┆           ┆            ┆          ┆            │\n",
       "│ \"avg ┆            ┆            ┆            ┆   ┆           ┆            ┆          ┆            │\n",
       "│ _ind ┆            ┆            ┆            ┆   ┆           ┆            ┆          ┆            │\n",
       "│ exer ┆            ┆            ┆            ┆   ┆           ┆            ┆          ┆            │\n",
       "│ _lat ┆            ┆            ┆            ┆   ┆           ┆            ┆          ┆            │\n",
       "│ ency ┆            ┆            ┆            ┆   ┆           ┆            ┆          ┆            │\n",
       "│ _ms\" ┆            ┆            ┆            ┆   ┆           ┆            ┆          ┆            │\n",
       "│ :308 ┆            ┆            ┆            ┆   ┆           ┆            ┆          ┆            │\n",
       "│ ,    ┆            ┆            ┆            ┆   ┆           ┆            ┆          ┆            │\n",
       "│ \"avg ┆            ┆            ┆            ┆   ┆           ┆            ┆          ┆            │\n",
       "│ _que ┆            ┆            ┆            ┆   ┆           ┆            ┆          ┆            │\n",
       "│ ry_f ┆            ┆            ┆            ┆   ┆           ┆            ┆          ┆            │\n",
       "│ ee\": ┆            ┆            ┆            ┆   ┆           ┆            ┆          ┆            │\n",
       "│ 0,   ┆            ┆            ┆            ┆   ┆           ┆            ┆          ┆            │\n",
       "│ \"end ┆            ┆            ┆            ┆   ┆           ┆            ┆          ┆            │\n",
       "│ _epo ┆            ┆            ┆            ┆   ┆           ┆            ┆          ┆            │\n",
       "│ ch\": ┆            ┆            ┆            ┆   ┆           ┆            ┆          ┆            │\n",
       "│ 1666 ┆            ┆            ┆            ┆   ┆           ┆            ┆          ┆            │\n",
       "│ 8123 ┆            ┆            ┆            ┆   ┆           ┆            ┆          ┆            │\n",
       "│ 00,  ┆            ┆            ┆            ┆   ┆           ┆            ┆          ┆            │\n",
       "│ \"ind ┆            ┆            ┆            ┆   ┆           ┆            ┆          ┆            │\n",
       "│ exer ┆            ┆            ┆            ┆   ┆           ┆            ┆          ┆            │\n",
       "│ _url ┆            ┆            ┆            ┆   ┆           ┆            ┆          ┆            │\n",
       "│ \":\"h ┆            ┆            ┆            ┆   ┆           ┆            ┆          ┆            │\n",
       "│ ttp: ┆            ┆            ┆            ┆   ┆           ┆            ┆          ┆            │\n",
       "│ //5. ┆            ┆            ┆            ┆   ┆           ┆            ┆          ┆            │\n",
       "│ 9.97 ┆            ┆            ┆            ┆   ┆           ┆            ┆          ┆            │\n",
       "│ .124 ┆            ┆            ┆            ┆   ┆           ┆            ┆          ┆            │\n",
       "│ /\",  ┆            ┆            ┆            ┆   ┆           ┆            ┆          ┆            │\n",
       "│ \"ind ┆            ┆            ┆            ┆   ┆           ┆            ┆          ┆            │\n",
       "│ exer ┆            ┆            ┆            ┆   ┆           ┆            ┆          ┆            │\n",
       "│ _wal ┆            ┆            ┆            ┆   ┆           ┆            ┆          ┆            │\n",
       "│ let\" ┆            ┆            ┆            ┆   ┆           ┆            ┆          ┆            │\n",
       "│ :\"0x ┆            ┆            ┆            ┆   ┆           ┆            ┆          ┆            │\n",
       "│ 50fd ┆            ┆            ┆            ┆   ┆           ┆            ┆          ┆            │\n",
       "│ a0a4 ┆            ┆            ┆            ┆   ┆           ┆            ┆          ┆            │\n",
       "│ 3d67 ┆            ┆            ┆            ┆   ┆           ┆            ┆          ┆            │\n",
       "│ 70a9 ┆            ┆            ┆            ┆   ┆           ┆            ┆          ┆            │\n",
       "│ 27eb ┆            ┆            ┆            ┆   ┆           ┆            ┆          ┆            │\n",
       "│ e290 ┆            ┆            ┆            ┆   ┆           ┆            ┆          ┆            │\n",
       "│ 9fce ┆            ┆            ┆            ┆   ┆           ┆            ┆          ┆            │\n",
       "│ 1cdc ┆            ┆            ┆            ┆   ┆           ┆            ┆          ┆            │\n",
       "│ ba41 ┆            ┆            ┆            ┆   ┆           ┆            ┆          ┆            │\n",
       "│ 780… ┆            ┆            ┆            ┆   ┆           ┆            ┆          ┆            │\n",
       "│ {\"av ┆ 0.5        ┆ 57.0       ┆ 0.00348    ┆ … ┆ 1.6668e9  ┆ 0xad67ba67 ┆ 0x1a99dd ┆ QmUYUTWnFs │\n",
       "│ g_in ┆            ┆            ┆            ┆   ┆           ┆ 37e293a4bd ┆ 7d916117 ┆ A5iD8uKMUQ │\n",
       "│ dexe ┆            ┆            ┆            ┆   ┆           ┆ f2081737f7 ┆ a523f3ce ┆ 3Zkiymngqh │\n",
       "│ r_bl ┆            ┆            ┆            ┆   ┆           ┆ 1773a82b03 ┆ 6510dcfd ┆ 8bedSE4qxq │\n",
       "│ ocks ┆            ┆            ┆            ┆   ┆           ┆ 4e8f12d741 ┆ 6bceab11 ┆ xpSrYd     │\n",
       "│ _beh ┆            ┆            ┆            ┆   ┆           ┆ e14857a156 ┆ e7       ┆            │\n",
       "│ ind\" ┆            ┆            ┆            ┆   ┆           ┆ 8275680    ┆          ┆            │\n",
       "│ :0.5 ┆            ┆            ┆            ┆   ┆           ┆            ┆          ┆            │\n",
       "│ ,    ┆            ┆            ┆            ┆   ┆           ┆            ┆          ┆            │\n",
       "│ \"avg ┆            ┆            ┆            ┆   ┆           ┆            ┆          ┆            │\n",
       "│ _ind ┆            ┆            ┆            ┆   ┆           ┆            ┆          ┆            │\n",
       "│ exer ┆            ┆            ┆            ┆   ┆           ┆            ┆          ┆            │\n",
       "│ _lat ┆            ┆            ┆            ┆   ┆           ┆            ┆          ┆            │\n",
       "│ ency ┆            ┆            ┆            ┆   ┆           ┆            ┆          ┆            │\n",
       "│ _ms\" ┆            ┆            ┆            ┆   ┆           ┆            ┆          ┆            │\n",
       "│ :57, ┆            ┆            ┆            ┆   ┆           ┆            ┆          ┆            │\n",
       "│ \"avg ┆            ┆            ┆            ┆   ┆           ┆            ┆          ┆            │\n",
       "│ _que ┆            ┆            ┆            ┆   ┆           ┆            ┆          ┆            │\n",
       "│ ry_f ┆            ┆            ┆            ┆   ┆           ┆            ┆          ┆            │\n",
       "│ ee\": ┆            ┆            ┆            ┆   ┆           ┆            ┆          ┆            │\n",
       "│ 0.00 ┆            ┆            ┆            ┆   ┆           ┆            ┆          ┆            │\n",
       "│ 348, ┆            ┆            ┆            ┆   ┆           ┆            ┆          ┆            │\n",
       "│ \"end ┆            ┆            ┆            ┆   ┆           ┆            ┆          ┆            │\n",
       "│ _epo ┆            ┆            ┆            ┆   ┆           ┆            ┆          ┆            │\n",
       "│ ch\": ┆            ┆            ┆            ┆   ┆           ┆            ┆          ┆            │\n",
       "│ 1666 ┆            ┆            ┆            ┆   ┆           ┆            ┆          ┆            │\n",
       "│ 8123 ┆            ┆            ┆            ┆   ┆           ┆            ┆          ┆            │\n",
       "│ 00,  ┆            ┆            ┆            ┆   ┆           ┆            ┆          ┆            │\n",
       "│ \"ind ┆            ┆            ┆            ┆   ┆           ┆            ┆          ┆            │\n",
       "│ exer ┆            ┆            ┆            ┆   ┆           ┆            ┆          ┆            │\n",
       "│ _url ┆            ┆            ┆            ┆   ┆           ┆            ┆          ┆            │\n",
       "│ \":\"h ┆            ┆            ┆            ┆   ┆           ┆            ┆          ┆            │\n",
       "│ ttp: ┆            ┆            ┆            ┆   ┆           ┆            ┆          ┆            │\n",
       "│ //65 ┆            ┆            ┆            ┆   ┆           ┆            ┆          ┆            │\n",
       "│ .108 ┆            ┆            ┆            ┆   ┆           ┆            ┆          ┆            │\n",
       "│ .138 ┆            ┆            ┆            ┆   ┆           ┆            ┆          ┆            │\n",
       "│ .83: ┆            ┆            ┆            ┆   ┆           ┆            ┆          ┆            │\n",
       "│ 7600 ┆            ┆            ┆            ┆   ┆           ┆            ┆          ┆            │\n",
       "│ /\",  ┆            ┆            ┆            ┆   ┆           ┆            ┆          ┆            │\n",
       "│ \"ind ┆            ┆            ┆            ┆   ┆           ┆            ┆          ┆            │\n",
       "│ exer ┆            ┆            ┆            ┆   ┆           ┆            ┆          ┆            │\n",
       "│ _wal ┆            ┆            ┆            ┆   ┆           ┆            ┆          ┆            │\n",
       "│ let\" ┆            ┆            ┆            ┆   ┆           ┆            ┆          ┆            │\n",
       "│ :\"0x ┆            ┆            ┆            ┆   ┆           ┆            ┆          ┆            │\n",
       "│ 1a99 ┆            ┆            ┆            ┆   ┆           ┆            ┆          ┆            │\n",
       "│ dd7d ┆            ┆            ┆            ┆   ┆           ┆            ┆          ┆            │\n",
       "│ 9161 ┆            ┆            ┆            ┆   ┆           ┆            ┆          ┆            │\n",
       "│ 17a5 ┆            ┆            ┆            ┆   ┆           ┆            ┆          ┆            │\n",
       "│ 23f3 ┆            ┆            ┆            ┆   ┆           ┆            ┆          ┆            │\n",
       "│ ce65 ┆            ┆            ┆            ┆   ┆           ┆            ┆          ┆            │\n",
       "│ …    ┆            ┆            ┆            ┆   ┆           ┆            ┆          ┆            │\n",
       "│ {\"av ┆ 2.0        ┆ 276.0      ┆ 0.017032   ┆ … ┆ 1.6668e9  ┆ 0xad67ba67 ┆ 0x1692a8 ┆ QmRDGLp6BH │\n",
       "│ g_in ┆            ┆            ┆            ┆   ┆           ┆ 37e293a4bd ┆ 710dcf0d ┆ wiH9HAE2NY │\n",
       "│ dexe ┆            ┆            ┆            ┆   ┆           ┆ f2081737f7 ┆ ce24bd34 ┆ EE3f7LrKuR │\n",
       "│ r_bl ┆            ┆            ┆            ┆   ┆           ┆ 1773a82b03 ┆ c0284791 ┆ qziHBv76tr │\n",
       "│ ocks ┆            ┆            ┆            ┆   ┆           ┆ 4e8f12d741 ┆ 76b97ee9 ┆ T4etgU     │\n",
       "│ _beh ┆            ┆            ┆            ┆   ┆           ┆ e14857a156 ┆ ef       ┆            │\n",
       "│ ind\" ┆            ┆            ┆            ┆   ┆           ┆ 8275680    ┆          ┆            │\n",
       "│ :2,  ┆            ┆            ┆            ┆   ┆           ┆            ┆          ┆            │\n",
       "│ \"avg ┆            ┆            ┆            ┆   ┆           ┆            ┆          ┆            │\n",
       "│ _ind ┆            ┆            ┆            ┆   ┆           ┆            ┆          ┆            │\n",
       "│ exer ┆            ┆            ┆            ┆   ┆           ┆            ┆          ┆            │\n",
       "│ _lat ┆            ┆            ┆            ┆   ┆           ┆            ┆          ┆            │\n",
       "│ ency ┆            ┆            ┆            ┆   ┆           ┆            ┆          ┆            │\n",
       "│ _ms\" ┆            ┆            ┆            ┆   ┆           ┆            ┆          ┆            │\n",
       "│ :276 ┆            ┆            ┆            ┆   ┆           ┆            ┆          ┆            │\n",
       "│ ,    ┆            ┆            ┆            ┆   ┆           ┆            ┆          ┆            │\n",
       "│ \"avg ┆            ┆            ┆            ┆   ┆           ┆            ┆          ┆            │\n",
       "│ _que ┆            ┆            ┆            ┆   ┆           ┆            ┆          ┆            │\n",
       "│ ry_f ┆            ┆            ┆            ┆   ┆           ┆            ┆          ┆            │\n",
       "│ ee\": ┆            ┆            ┆            ┆   ┆           ┆            ┆          ┆            │\n",
       "│ 0.01 ┆            ┆            ┆            ┆   ┆           ┆            ┆          ┆            │\n",
       "│ 7032 ┆            ┆            ┆            ┆   ┆           ┆            ┆          ┆            │\n",
       "│ 1181 ┆            ┆            ┆            ┆   ┆           ┆            ┆          ┆            │\n",
       "│ ,    ┆            ┆            ┆            ┆   ┆           ┆            ┆          ┆            │\n",
       "│ \"end ┆            ┆            ┆            ┆   ┆           ┆            ┆          ┆            │\n",
       "│ _epo ┆            ┆            ┆            ┆   ┆           ┆            ┆          ┆            │\n",
       "│ ch\": ┆            ┆            ┆            ┆   ┆           ┆            ┆          ┆            │\n",
       "│ 1666 ┆            ┆            ┆            ┆   ┆           ┆            ┆          ┆            │\n",
       "│ 8123 ┆            ┆            ┆            ┆   ┆           ┆            ┆          ┆            │\n",
       "│ 00,  ┆            ┆            ┆            ┆   ┆           ┆            ┆          ┆            │\n",
       "│ \"ind ┆            ┆            ┆            ┆   ┆           ┆            ┆          ┆            │\n",
       "│ exer ┆            ┆            ┆            ┆   ┆           ┆            ┆          ┆            │\n",
       "│ _url ┆            ┆            ┆            ┆   ┆           ┆            ┆          ┆            │\n",
       "│ \":\"h ┆            ┆            ┆            ┆   ┆           ┆            ┆          ┆            │\n",
       "│ ttps ┆            ┆            ┆            ┆   ┆           ┆            ┆          ┆            │\n",
       "│ ://i ┆            ┆            ┆            ┆   ┆           ┆            ┆          ┆            │\n",
       "│ ndex ┆            ┆            ┆            ┆   ┆           ┆            ┆          ┆            │\n",
       "│ 0.gr ┆            ┆            ┆            ┆   ┆           ┆            ┆          ┆            │\n",
       "│ aph. ┆            ┆            ┆            ┆   ┆           ┆            ┆          ┆            │\n",
       "│ stak ┆            ┆            ┆            ┆   ┆           ┆            ┆          ┆            │\n",
       "│ e-ma ┆            ┆            ┆            ┆   ┆           ┆            ┆          ┆            │\n",
       "│ chin ┆            ┆            ┆            ┆   ┆           ┆            ┆          ┆            │\n",
       "│ e.co ┆            ┆            ┆            ┆   ┆           ┆            ┆          ┆            │\n",
       "│ m/\", ┆            ┆            ┆            ┆   ┆           ┆            ┆          ┆            │\n",
       "│ \"ind ┆            ┆            ┆            ┆   ┆           ┆            ┆          ┆            │\n",
       "│ exer ┆            ┆            ┆            ┆   ┆           ┆            ┆          ┆            │\n",
       "│ _wal ┆            ┆            ┆            ┆   ┆           ┆            ┆          ┆            │\n",
       "│ let\" ┆            ┆            ┆            ┆   ┆           ┆            ┆          ┆            │\n",
       "│ :\"0x ┆            ┆            ┆            ┆   ┆           ┆            ┆          ┆            │\n",
       "│ 1692 ┆            ┆            ┆            ┆   ┆           ┆            ┆          ┆            │\n",
       "│ a87… ┆            ┆            ┆            ┆   ┆           ┆            ┆          ┆            │\n",
       "│ {\"av ┆ 2.0        ┆ 3712.0     ┆ 0.03853    ┆ … ┆ 1.6668e9  ┆ 0xad67ba67 ┆ 0x1692a8 ┆ QmbHg6vAJR │\n",
       "│ g_in ┆            ┆            ┆            ┆   ┆           ┆ 37e293a4bd ┆ 710dcf0d ┆ D9ZWz5GTP9 │\n",
       "│ dexe ┆            ┆            ┆            ┆   ┆           ┆ f2081737f7 ┆ ce24bd34 ┆ oMrfDyetnG │\n",
       "│ r_bl ┆            ┆            ┆            ┆   ┆           ┆ 1773a82b03 ┆ c0284791 ┆ Tr5KWJBYAq │\n",
       "│ ocks ┆            ┆            ┆            ┆   ┆           ┆ 4e8f12d741 ┆ 76b97ee9 ┆ 59fm1W     │\n",
       "│ _beh ┆            ┆            ┆            ┆   ┆           ┆ e14857a156 ┆ ef       ┆            │\n",
       "│ ind\" ┆            ┆            ┆            ┆   ┆           ┆ 8275680    ┆          ┆            │\n",
       "│ :2,  ┆            ┆            ┆            ┆   ┆           ┆            ┆          ┆            │\n",
       "│ \"avg ┆            ┆            ┆            ┆   ┆           ┆            ┆          ┆            │\n",
       "│ _ind ┆            ┆            ┆            ┆   ┆           ┆            ┆          ┆            │\n",
       "│ exer ┆            ┆            ┆            ┆   ┆           ┆            ┆          ┆            │\n",
       "│ _lat ┆            ┆            ┆            ┆   ┆           ┆            ┆          ┆            │\n",
       "│ ency ┆            ┆            ┆            ┆   ┆           ┆            ┆          ┆            │\n",
       "│ _ms\" ┆            ┆            ┆            ┆   ┆           ┆            ┆          ┆            │\n",
       "│ :371 ┆            ┆            ┆            ┆   ┆           ┆            ┆          ┆            │\n",
       "│ 2,   ┆            ┆            ┆            ┆   ┆           ┆            ┆          ┆            │\n",
       "│ \"avg ┆            ┆            ┆            ┆   ┆           ┆            ┆          ┆            │\n",
       "│ _que ┆            ┆            ┆            ┆   ┆           ┆            ┆          ┆            │\n",
       "│ ry_f ┆            ┆            ┆            ┆   ┆           ┆            ┆          ┆            │\n",
       "│ ee\": ┆            ┆            ┆            ┆   ┆           ┆            ┆          ┆            │\n",
       "│ 0.03 ┆            ┆            ┆            ┆   ┆           ┆            ┆          ┆            │\n",
       "│ 8529 ┆            ┆            ┆            ┆   ┆           ┆            ┆          ┆            │\n",
       "│ 7482 ┆            ┆            ┆            ┆   ┆           ┆            ┆          ┆            │\n",
       "│ ,    ┆            ┆            ┆            ┆   ┆           ┆            ┆          ┆            │\n",
       "│ \"end ┆            ┆            ┆            ┆   ┆           ┆            ┆          ┆            │\n",
       "│ _epo ┆            ┆            ┆            ┆   ┆           ┆            ┆          ┆            │\n",
       "│ ch\": ┆            ┆            ┆            ┆   ┆           ┆            ┆          ┆            │\n",
       "│ 1666 ┆            ┆            ┆            ┆   ┆           ┆            ┆          ┆            │\n",
       "│ 8123 ┆            ┆            ┆            ┆   ┆           ┆            ┆          ┆            │\n",
       "│ 00,  ┆            ┆            ┆            ┆   ┆           ┆            ┆          ┆            │\n",
       "│ \"ind ┆            ┆            ┆            ┆   ┆           ┆            ┆          ┆            │\n",
       "│ exer ┆            ┆            ┆            ┆   ┆           ┆            ┆          ┆            │\n",
       "│ _url ┆            ┆            ┆            ┆   ┆           ┆            ┆          ┆            │\n",
       "│ \":\"h ┆            ┆            ┆            ┆   ┆           ┆            ┆          ┆            │\n",
       "│ ttps ┆            ┆            ┆            ┆   ┆           ┆            ┆          ┆            │\n",
       "│ ://i ┆            ┆            ┆            ┆   ┆           ┆            ┆          ┆            │\n",
       "│ ndex ┆            ┆            ┆            ┆   ┆           ┆            ┆          ┆            │\n",
       "│ 0.gr ┆            ┆            ┆            ┆   ┆           ┆            ┆          ┆            │\n",
       "│ aph. ┆            ┆            ┆            ┆   ┆           ┆            ┆          ┆            │\n",
       "│ stak ┆            ┆            ┆            ┆   ┆           ┆            ┆          ┆            │\n",
       "│ e-ma ┆            ┆            ┆            ┆   ┆           ┆            ┆          ┆            │\n",
       "│ chin ┆            ┆            ┆            ┆   ┆           ┆            ┆          ┆            │\n",
       "│ e.co ┆            ┆            ┆            ┆   ┆           ┆            ┆          ┆            │\n",
       "│ m/\", ┆            ┆            ┆            ┆   ┆           ┆            ┆          ┆            │\n",
       "│ \"ind ┆            ┆            ┆            ┆   ┆           ┆            ┆          ┆            │\n",
       "│ exer ┆            ┆            ┆            ┆   ┆           ┆            ┆          ┆            │\n",
       "│ _wal ┆            ┆            ┆            ┆   ┆           ┆            ┆          ┆            │\n",
       "│ let\" ┆            ┆            ┆            ┆   ┆           ┆            ┆          ┆            │\n",
       "│ :\"0x ┆            ┆            ┆            ┆   ┆           ┆            ┆          ┆            │\n",
       "│ 1692 ┆            ┆            ┆            ┆   ┆           ┆            ┆          ┆            │\n",
       "│ a8…  ┆            ┆            ┆            ┆   ┆           ┆            ┆          ┆            │\n",
       "└──────┴────────────┴────────────┴────────────┴───┴───────────┴────────────┴──────────┴────────────┘"
      ]
     },
     "execution_count": 21,
     "metadata": {},
     "output_type": "execute_result"
    }
   ],
   "source": [
    "indexer_data_points.head(5)"
   ]
  },
  {
   "cell_type": "code",
   "execution_count": 22,
   "metadata": {},
   "outputs": [
    {
     "data": {
      "text/html": [
       "<div><style>\n",
       ".dataframe > thead > tr > th,\n",
       ".dataframe > tbody > tr > td {\n",
       "  text-align: right;\n",
       "}\n",
       "</style>\n",
       "<small>shape: (0, 22)</small><table border=\"1\" class=\"dataframe\"><thead><tr><th>rawData</th><th>avg_indexer_blocks_behind</th><th>avg_indexer_latency_ms</th><th>avg_query_fee</th><th>end_epoch</th><th>indexer_url</th><th>indexer_wallet</th><th>max_indexer_blocks_behind</th><th>max_indexer_latency_ms</th><th>max_query_fee</th><th>num_indexer_200_responses</th><th>proportion_indexer_200_responses</th><th>query_count</th><th>stdev_indexer_latency_ms</th><th>subgraph_deployment_ipfs_hash</th><th>total_query_fees</th><th>chain_id</th><th>gateway_id</th><th>start_epoch</th><th>messageDataPoint_id</th><th>indexer_id</th><th>subgraphDeployment_id</th></tr><tr><td>str</td><td>f64</td><td>f64</td><td>f64</td><td>f64</td><td>str</td><td>str</td><td>f64</td><td>f64</td><td>f64</td><td>f64</td><td>f64</td><td>f64</td><td>f64</td><td>str</td><td>f64</td><td>bool</td><td>bool</td><td>f64</td><td>str</td><td>str</td><td>str</td></tr></thead><tbody></tbody></table></div>"
      ],
      "text/plain": [
       "shape: (0, 22)\n",
       "┌─────────┬────────────┬────────────┬────────────┬───┬───────────┬────────────┬──────────┬────────────┐\n",
       "│ rawData ┆ avg_indexe ┆ avg_indexe ┆ avg_query_ ┆ … ┆ start_epo ┆ messageDat ┆ indexer_ ┆ subgraphDe │\n",
       "│ ---     ┆ r_blocks_b ┆ r_latency_ ┆ fee        ┆   ┆ ch        ┆ aPoint_id  ┆ id       ┆ ployment_i │\n",
       "│ str     ┆ ehind      ┆ ms         ┆ ---        ┆   ┆ ---       ┆ ---        ┆ ---      ┆ d          │\n",
       "│         ┆ ---        ┆ ---        ┆ f64        ┆   ┆ f64       ┆ str        ┆ str      ┆ ---        │\n",
       "│         ┆ f64        ┆ f64        ┆            ┆   ┆           ┆            ┆          ┆ str        │\n",
       "╞═════════╪════════════╪════════════╪════════════╪═══╪═══════════╪════════════╪══════════╪════════════╡\n",
       "└─────────┴────────────┴────────────┴────────────┴───┴───────────┴────────────┴──────────┴────────────┘"
      ]
     },
     "execution_count": 22,
     "metadata": {},
     "output_type": "execute_result"
    }
   ],
   "source": [
    "indexer_data_points.filter(pl.col('subgraphDeployment_id') == 'QmcPHxcC2ZN7m79XfYZ77YmF4t9UCErv87a9NFKrSLWKtJ').head(5) # uniswap v3 subgraphdeplyment id"
   ]
  },
  {
   "cell_type": "code",
   "execution_count": null,
   "metadata": {},
   "outputs": [],
   "source": []
  }
 ],
 "metadata": {
  "kernelspec": {
   "display_name": ".venv",
   "language": "python",
   "name": "python3"
  },
  "language_info": {
   "codemirror_mode": {
    "name": "ipython",
    "version": 3
   },
   "file_extension": ".py",
   "mimetype": "text/x-python",
   "name": "python",
   "nbconvert_exporter": "python",
   "pygments_lexer": "ipython3",
   "version": "3.10.6"
  },
  "orig_nbformat": 4
 },
 "nbformat": 4,
 "nbformat_minor": 2
}
