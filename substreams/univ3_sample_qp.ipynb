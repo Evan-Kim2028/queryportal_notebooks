{
 "cells": [
  {
   "cell_type": "code",
   "execution_count": 2,
   "metadata": {},
   "outputs": [],
   "source": [
    "from queryportal.subgraphinterface import SubgraphInterface\n",
    "from datetime import datetime, timedelta\n",
    "\n",
    "import polars as pl\n",
    "pl.Config.set_fmt_str_lengths(200)\n",
    "\n",
    "# Decentralized\n",
    "univ3_substreams_id = 'QmQJovmQLigEwkMWGjMT8GbeS2gjDytqWCGL58BEhLu9Ag' # NOTE - Arbitrum requires deployment id\n",
    "sgi = SubgraphInterface(endpoints={\n",
    "    'uniswap-v3-ethereum': f'https://api.playgrounds.network/v1/proxy/deployments/id/{univ3_substreams_id}' # substreams\n",
    "    })"
   ]
  },
  {
   "cell_type": "code",
   "execution_count": 8,
   "metadata": {},
   "outputs": [],
   "source": [
    "query_paths = [\n",
    "    'tick',\n",
    "    'token0_symbol',\n",
    "    'token0_id',\n",
    "    'token0_decimals',\n",
    "    'token1_symbol',\n",
    "    'token1_id',\n",
    "    'token1_decimals',\n",
    "    'pool_feeTier',\n",
    "    'pool_sqrtPrice',\n",
    "    'pool_liquidity'\n",
    "]\n",
    "\n",
    "filter = {\n",
    "    'pool_id': '0x8ad599c3a0ff1de082011efddc58f1908eb6e6d8'\n",
    "}"
   ]
  },
  {
   "cell_type": "code",
   "execution_count": 11,
   "metadata": {},
   "outputs": [
    {
     "name": "stdout",
     "output_type": "stream",
     "text": [
      "Querying endpoint: uniswap-v3-ethereum\n",
      "debug block filter: {}\n",
      "Shape: (5000, 11)\n",
      "Schema: {'tick': Int64, 'timestamp': Utf8, 'token0_symbol': Utf8, 'token0_id': Utf8, 'token0_decimals': Int64, 'token1_symbol': Utf8, 'token1_id': Utf8, 'token1_decimals': Int64, 'pool_feeTier': Int64, 'pool_sqrtPrice': Float64, 'pool_liquidity': Int64}\n",
      "Function 'query_entity' executed in 9.9338s\n"
     ]
    }
   ],
   "source": [
    "univ3 = sgi.query_entity(\n",
    "    query_size=5000,\n",
    "    entity='swaps',\n",
    "    query_paths=query_paths,\n",
    "    filter_dict = filter,\n",
    "    name='uniswap-v3-ethereum', \n",
    "    orderBy='timestamp'\n",
    "    )"
   ]
  },
  {
   "cell_type": "code",
   "execution_count": 13,
   "metadata": {},
   "outputs": [
    {
     "data": {
      "text/html": [
       "<div><style>\n",
       ".dataframe > thead > tr > th,\n",
       ".dataframe > tbody > tr > td {\n",
       "  text-align: right;\n",
       "}\n",
       "</style>\n",
       "<small>shape: (25, 11)</small><table border=\"1\" class=\"dataframe\"><thead><tr><th>tick</th><th>timestamp</th><th>token0_symbol</th><th>token0_id</th><th>token0_decimals</th><th>token1_symbol</th><th>token1_id</th><th>token1_decimals</th><th>pool_feeTier</th><th>pool_sqrtPrice</th><th>pool_liquidity</th></tr><tr><td>i64</td><td>str</td><td>str</td><td>str</td><td>i64</td><td>str</td><td>str</td><td>i64</td><td>i64</td><td>f64</td><td>i64</td></tr></thead><tbody><tr><td>195285</td><td>&quot;1620179783&quot;</td><td>&quot;USDC&quot;</td><td>&quot;0xa0b86991c6218b36c1d19d4a2e9eb0ce3606eb48&quot;</td><td>6</td><td>&quot;WETH&quot;</td><td>&quot;0xc02aaa39b223fe8d0a0e5c4f27ead9083c756cc2&quot;</td><td>18</td><td>3000</td><td>1.8378e33</td><td>6995769672979688203</td></tr><tr><td>195298</td><td>&quot;1620203006&quot;</td><td>&quot;USDC&quot;</td><td>&quot;0xa0b86991c6218b36c1d19d4a2e9eb0ce3606eb48&quot;</td><td>6</td><td>&quot;WETH&quot;</td><td>&quot;0xc02aaa39b223fe8d0a0e5c4f27ead9083c756cc2&quot;</td><td>18</td><td>3000</td><td>1.8378e33</td><td>6995769672979688203</td></tr><tr><td>195298</td><td>&quot;1620208251&quot;</td><td>&quot;USDC&quot;</td><td>&quot;0xa0b86991c6218b36c1d19d4a2e9eb0ce3606eb48&quot;</td><td>6</td><td>&quot;WETH&quot;</td><td>&quot;0xc02aaa39b223fe8d0a0e5c4f27ead9083c756cc2&quot;</td><td>18</td><td>3000</td><td>1.8378e33</td><td>6995769672979688203</td></tr><tr><td>195298</td><td>&quot;1620215997&quot;</td><td>&quot;USDC&quot;</td><td>&quot;0xa0b86991c6218b36c1d19d4a2e9eb0ce3606eb48&quot;</td><td>6</td><td>&quot;WETH&quot;</td><td>&quot;0xc02aaa39b223fe8d0a0e5c4f27ead9083c756cc2&quot;</td><td>18</td><td>3000</td><td>1.8378e33</td><td>6995769672979688203</td></tr><tr><td>195173</td><td>&quot;1620219416&quot;</td><td>&quot;USDC&quot;</td><td>&quot;0xa0b86991c6218b36c1d19d4a2e9eb0ce3606eb48&quot;</td><td>6</td><td>&quot;WETH&quot;</td><td>&quot;0xc02aaa39b223fe8d0a0e5c4f27ead9083c756cc2&quot;</td><td>18</td><td>3000</td><td>1.8378e33</td><td>6995769672979688203</td></tr><tr><td>195173</td><td>&quot;1620238163&quot;</td><td>&quot;USDC&quot;</td><td>&quot;0xa0b86991c6218b36c1d19d4a2e9eb0ce3606eb48&quot;</td><td>6</td><td>&quot;WETH&quot;</td><td>&quot;0xc02aaa39b223fe8d0a0e5c4f27ead9083c756cc2&quot;</td><td>18</td><td>3000</td><td>1.8378e33</td><td>6995769672979688203</td></tr><tr><td>194922</td><td>&quot;1620238435&quot;</td><td>&quot;USDC&quot;</td><td>&quot;0xa0b86991c6218b36c1d19d4a2e9eb0ce3606eb48&quot;</td><td>6</td><td>&quot;WETH&quot;</td><td>&quot;0xc02aaa39b223fe8d0a0e5c4f27ead9083c756cc2&quot;</td><td>18</td><td>3000</td><td>1.8378e33</td><td>6995769672979688203</td></tr><tr><td>194923</td><td>&quot;1620238934&quot;</td><td>&quot;USDC&quot;</td><td>&quot;0xa0b86991c6218b36c1d19d4a2e9eb0ce3606eb48&quot;</td><td>6</td><td>&quot;WETH&quot;</td><td>&quot;0xc02aaa39b223fe8d0a0e5c4f27ead9083c756cc2&quot;</td><td>18</td><td>3000</td><td>1.8378e33</td><td>6995769672979688203</td></tr><tr><td>194955</td><td>&quot;1620240052&quot;</td><td>&quot;USDC&quot;</td><td>&quot;0xa0b86991c6218b36c1d19d4a2e9eb0ce3606eb48&quot;</td><td>6</td><td>&quot;WETH&quot;</td><td>&quot;0xc02aaa39b223fe8d0a0e5c4f27ead9083c756cc2&quot;</td><td>18</td><td>3000</td><td>1.8378e33</td><td>6995769672979688203</td></tr><tr><td>194956</td><td>&quot;1620240161&quot;</td><td>&quot;USDC&quot;</td><td>&quot;0xa0b86991c6218b36c1d19d4a2e9eb0ce3606eb48&quot;</td><td>6</td><td>&quot;WETH&quot;</td><td>&quot;0xc02aaa39b223fe8d0a0e5c4f27ead9083c756cc2&quot;</td><td>18</td><td>3000</td><td>1.8378e33</td><td>6995769672979688203</td></tr><tr><td>194983</td><td>&quot;1620240206&quot;</td><td>&quot;USDC&quot;</td><td>&quot;0xa0b86991c6218b36c1d19d4a2e9eb0ce3606eb48&quot;</td><td>6</td><td>&quot;WETH&quot;</td><td>&quot;0xc02aaa39b223fe8d0a0e5c4f27ead9083c756cc2&quot;</td><td>18</td><td>3000</td><td>1.8378e33</td><td>6995769672979688203</td></tr><tr><td>194916</td><td>&quot;1620240686&quot;</td><td>&quot;USDC&quot;</td><td>&quot;0xa0b86991c6218b36c1d19d4a2e9eb0ce3606eb48&quot;</td><td>6</td><td>&quot;WETH&quot;</td><td>&quot;0xc02aaa39b223fe8d0a0e5c4f27ead9083c756cc2&quot;</td><td>18</td><td>3000</td><td>1.8378e33</td><td>6995769672979688203</td></tr><tr><td>194926</td><td>&quot;1620240799&quot;</td><td>&quot;USDC&quot;</td><td>&quot;0xa0b86991c6218b36c1d19d4a2e9eb0ce3606eb48&quot;</td><td>6</td><td>&quot;WETH&quot;</td><td>&quot;0xc02aaa39b223fe8d0a0e5c4f27ead9083c756cc2&quot;</td><td>18</td><td>3000</td><td>1.8378e33</td><td>6995769672979688203</td></tr><tr><td>194928</td><td>&quot;1620240859&quot;</td><td>&quot;USDC&quot;</td><td>&quot;0xa0b86991c6218b36c1d19d4a2e9eb0ce3606eb48&quot;</td><td>6</td><td>&quot;WETH&quot;</td><td>&quot;0xc02aaa39b223fe8d0a0e5c4f27ead9083c756cc2&quot;</td><td>18</td><td>3000</td><td>1.8378e33</td><td>6995769672979688203</td></tr><tr><td>194929</td><td>&quot;1620240866&quot;</td><td>&quot;USDC&quot;</td><td>&quot;0xa0b86991c6218b36c1d19d4a2e9eb0ce3606eb48&quot;</td><td>6</td><td>&quot;WETH&quot;</td><td>&quot;0xc02aaa39b223fe8d0a0e5c4f27ead9083c756cc2&quot;</td><td>18</td><td>3000</td><td>1.8378e33</td><td>6995769672979688203</td></tr><tr><td>194929</td><td>&quot;1620241083&quot;</td><td>&quot;USDC&quot;</td><td>&quot;0xa0b86991c6218b36c1d19d4a2e9eb0ce3606eb48&quot;</td><td>6</td><td>&quot;WETH&quot;</td><td>&quot;0xc02aaa39b223fe8d0a0e5c4f27ead9083c756cc2&quot;</td><td>18</td><td>3000</td><td>1.8378e33</td><td>6995769672979688203</td></tr><tr><td>194970</td><td>&quot;1620241124&quot;</td><td>&quot;USDC&quot;</td><td>&quot;0xa0b86991c6218b36c1d19d4a2e9eb0ce3606eb48&quot;</td><td>6</td><td>&quot;WETH&quot;</td><td>&quot;0xc02aaa39b223fe8d0a0e5c4f27ead9083c756cc2&quot;</td><td>18</td><td>3000</td><td>1.8378e33</td><td>6995769672979688203</td></tr><tr><td>194987</td><td>&quot;1620241167&quot;</td><td>&quot;USDC&quot;</td><td>&quot;0xa0b86991c6218b36c1d19d4a2e9eb0ce3606eb48&quot;</td><td>6</td><td>&quot;WETH&quot;</td><td>&quot;0xc02aaa39b223fe8d0a0e5c4f27ead9083c756cc2&quot;</td><td>18</td><td>3000</td><td>1.8378e33</td><td>6995769672979688203</td></tr><tr><td>194996</td><td>&quot;1620241269&quot;</td><td>&quot;USDC&quot;</td><td>&quot;0xa0b86991c6218b36c1d19d4a2e9eb0ce3606eb48&quot;</td><td>6</td><td>&quot;WETH&quot;</td><td>&quot;0xc02aaa39b223fe8d0a0e5c4f27ead9083c756cc2&quot;</td><td>18</td><td>3000</td><td>1.8378e33</td><td>6995769672979688203</td></tr><tr><td>195013</td><td>&quot;1620241470&quot;</td><td>&quot;USDC&quot;</td><td>&quot;0xa0b86991c6218b36c1d19d4a2e9eb0ce3606eb48&quot;</td><td>6</td><td>&quot;WETH&quot;</td><td>&quot;0xc02aaa39b223fe8d0a0e5c4f27ead9083c756cc2&quot;</td><td>18</td><td>3000</td><td>1.8378e33</td><td>6995769672979688203</td></tr><tr><td>194993</td><td>&quot;1620241617&quot;</td><td>&quot;USDC&quot;</td><td>&quot;0xa0b86991c6218b36c1d19d4a2e9eb0ce3606eb48&quot;</td><td>6</td><td>&quot;WETH&quot;</td><td>&quot;0xc02aaa39b223fe8d0a0e5c4f27ead9083c756cc2&quot;</td><td>18</td><td>3000</td><td>1.8378e33</td><td>6995769672979688203</td></tr><tr><td>194991</td><td>&quot;1620241701&quot;</td><td>&quot;USDC&quot;</td><td>&quot;0xa0b86991c6218b36c1d19d4a2e9eb0ce3606eb48&quot;</td><td>6</td><td>&quot;WETH&quot;</td><td>&quot;0xc02aaa39b223fe8d0a0e5c4f27ead9083c756cc2&quot;</td><td>18</td><td>3000</td><td>1.8378e33</td><td>6995769672979688203</td></tr><tr><td>194990</td><td>&quot;1620242128&quot;</td><td>&quot;USDC&quot;</td><td>&quot;0xa0b86991c6218b36c1d19d4a2e9eb0ce3606eb48&quot;</td><td>6</td><td>&quot;WETH&quot;</td><td>&quot;0xc02aaa39b223fe8d0a0e5c4f27ead9083c756cc2&quot;</td><td>18</td><td>3000</td><td>1.8378e33</td><td>6995769672979688203</td></tr><tr><td>194915</td><td>&quot;1620242176&quot;</td><td>&quot;USDC&quot;</td><td>&quot;0xa0b86991c6218b36c1d19d4a2e9eb0ce3606eb48&quot;</td><td>6</td><td>&quot;WETH&quot;</td><td>&quot;0xc02aaa39b223fe8d0a0e5c4f27ead9083c756cc2&quot;</td><td>18</td><td>3000</td><td>1.8378e33</td><td>6995769672979688203</td></tr><tr><td>194876</td><td>&quot;1620242325&quot;</td><td>&quot;USDC&quot;</td><td>&quot;0xa0b86991c6218b36c1d19d4a2e9eb0ce3606eb48&quot;</td><td>6</td><td>&quot;WETH&quot;</td><td>&quot;0xc02aaa39b223fe8d0a0e5c4f27ead9083c756cc2&quot;</td><td>18</td><td>3000</td><td>1.8378e33</td><td>6995769672979688203</td></tr></tbody></table></div>"
      ],
      "text/plain": [
       "shape: (25, 11)\n",
       "┌────────┬──────────┬────────────┬─────────┬───┬────────────┬────────────┬────────────┬────────────┐\n",
       "│ tick   ┆ timestam ┆ token0_sym ┆ token0_ ┆ … ┆ token1_dec ┆ pool_feeTi ┆ pool_sqrtP ┆ pool_liqui │\n",
       "│ ---    ┆ p        ┆ bol        ┆ id      ┆   ┆ imals      ┆ er         ┆ rice       ┆ dity       │\n",
       "│ i64    ┆ ---      ┆ ---        ┆ ---     ┆   ┆ ---        ┆ ---        ┆ ---        ┆ ---        │\n",
       "│        ┆ str      ┆ str        ┆ str     ┆   ┆ i64        ┆ i64        ┆ f64        ┆ i64        │\n",
       "╞════════╪══════════╪════════════╪═════════╪═══╪════════════╪════════════╪════════════╪════════════╡\n",
       "│ 195285 ┆ 16201797 ┆ USDC       ┆ 0xa0b86 ┆ … ┆ 18         ┆ 3000       ┆ 1.8378e33  ┆ 6995769672 │\n",
       "│        ┆ 83       ┆            ┆ 991c621 ┆   ┆            ┆            ┆            ┆ 979688203  │\n",
       "│        ┆          ┆            ┆ 8b36c1d ┆   ┆            ┆            ┆            ┆            │\n",
       "│        ┆          ┆            ┆ 19d4a2e ┆   ┆            ┆            ┆            ┆            │\n",
       "│        ┆          ┆            ┆ 9eb0ce3 ┆   ┆            ┆            ┆            ┆            │\n",
       "│        ┆          ┆            ┆ 606eb48 ┆   ┆            ┆            ┆            ┆            │\n",
       "│ 195298 ┆ 16202030 ┆ USDC       ┆ 0xa0b86 ┆ … ┆ 18         ┆ 3000       ┆ 1.8378e33  ┆ 6995769672 │\n",
       "│        ┆ 06       ┆            ┆ 991c621 ┆   ┆            ┆            ┆            ┆ 979688203  │\n",
       "│        ┆          ┆            ┆ 8b36c1d ┆   ┆            ┆            ┆            ┆            │\n",
       "│        ┆          ┆            ┆ 19d4a2e ┆   ┆            ┆            ┆            ┆            │\n",
       "│        ┆          ┆            ┆ 9eb0ce3 ┆   ┆            ┆            ┆            ┆            │\n",
       "│        ┆          ┆            ┆ 606eb48 ┆   ┆            ┆            ┆            ┆            │\n",
       "│ 195298 ┆ 16202082 ┆ USDC       ┆ 0xa0b86 ┆ … ┆ 18         ┆ 3000       ┆ 1.8378e33  ┆ 6995769672 │\n",
       "│        ┆ 51       ┆            ┆ 991c621 ┆   ┆            ┆            ┆            ┆ 979688203  │\n",
       "│        ┆          ┆            ┆ 8b36c1d ┆   ┆            ┆            ┆            ┆            │\n",
       "│        ┆          ┆            ┆ 19d4a2e ┆   ┆            ┆            ┆            ┆            │\n",
       "│        ┆          ┆            ┆ 9eb0ce3 ┆   ┆            ┆            ┆            ┆            │\n",
       "│        ┆          ┆            ┆ 606eb48 ┆   ┆            ┆            ┆            ┆            │\n",
       "│ 195298 ┆ 16202159 ┆ USDC       ┆ 0xa0b86 ┆ … ┆ 18         ┆ 3000       ┆ 1.8378e33  ┆ 6995769672 │\n",
       "│        ┆ 97       ┆            ┆ 991c621 ┆   ┆            ┆            ┆            ┆ 979688203  │\n",
       "│        ┆          ┆            ┆ 8b36c1d ┆   ┆            ┆            ┆            ┆            │\n",
       "│        ┆          ┆            ┆ 19d4a2e ┆   ┆            ┆            ┆            ┆            │\n",
       "│        ┆          ┆            ┆ 9eb0ce3 ┆   ┆            ┆            ┆            ┆            │\n",
       "│        ┆          ┆            ┆ 606eb48 ┆   ┆            ┆            ┆            ┆            │\n",
       "│ …      ┆ …        ┆ …          ┆ …       ┆ … ┆ …          ┆ …          ┆ …          ┆ …          │\n",
       "│ 194991 ┆ 16202417 ┆ USDC       ┆ 0xa0b86 ┆ … ┆ 18         ┆ 3000       ┆ 1.8378e33  ┆ 6995769672 │\n",
       "│        ┆ 01       ┆            ┆ 991c621 ┆   ┆            ┆            ┆            ┆ 979688203  │\n",
       "│        ┆          ┆            ┆ 8b36c1d ┆   ┆            ┆            ┆            ┆            │\n",
       "│        ┆          ┆            ┆ 19d4a2e ┆   ┆            ┆            ┆            ┆            │\n",
       "│        ┆          ┆            ┆ 9eb0ce3 ┆   ┆            ┆            ┆            ┆            │\n",
       "│        ┆          ┆            ┆ 606eb48 ┆   ┆            ┆            ┆            ┆            │\n",
       "│ 194990 ┆ 16202421 ┆ USDC       ┆ 0xa0b86 ┆ … ┆ 18         ┆ 3000       ┆ 1.8378e33  ┆ 6995769672 │\n",
       "│        ┆ 28       ┆            ┆ 991c621 ┆   ┆            ┆            ┆            ┆ 979688203  │\n",
       "│        ┆          ┆            ┆ 8b36c1d ┆   ┆            ┆            ┆            ┆            │\n",
       "│        ┆          ┆            ┆ 19d4a2e ┆   ┆            ┆            ┆            ┆            │\n",
       "│        ┆          ┆            ┆ 9eb0ce3 ┆   ┆            ┆            ┆            ┆            │\n",
       "│        ┆          ┆            ┆ 606eb48 ┆   ┆            ┆            ┆            ┆            │\n",
       "│ 194915 ┆ 16202421 ┆ USDC       ┆ 0xa0b86 ┆ … ┆ 18         ┆ 3000       ┆ 1.8378e33  ┆ 6995769672 │\n",
       "│        ┆ 76       ┆            ┆ 991c621 ┆   ┆            ┆            ┆            ┆ 979688203  │\n",
       "│        ┆          ┆            ┆ 8b36c1d ┆   ┆            ┆            ┆            ┆            │\n",
       "│        ┆          ┆            ┆ 19d4a2e ┆   ┆            ┆            ┆            ┆            │\n",
       "│        ┆          ┆            ┆ 9eb0ce3 ┆   ┆            ┆            ┆            ┆            │\n",
       "│        ┆          ┆            ┆ 606eb48 ┆   ┆            ┆            ┆            ┆            │\n",
       "│ 194876 ┆ 16202423 ┆ USDC       ┆ 0xa0b86 ┆ … ┆ 18         ┆ 3000       ┆ 1.8378e33  ┆ 6995769672 │\n",
       "│        ┆ 25       ┆            ┆ 991c621 ┆   ┆            ┆            ┆            ┆ 979688203  │\n",
       "│        ┆          ┆            ┆ 8b36c1d ┆   ┆            ┆            ┆            ┆            │\n",
       "│        ┆          ┆            ┆ 19d4a2e ┆   ┆            ┆            ┆            ┆            │\n",
       "│        ┆          ┆            ┆ 9eb0ce3 ┆   ┆            ┆            ┆            ┆            │\n",
       "│        ┆          ┆            ┆ 606eb48 ┆   ┆            ┆            ┆            ┆            │\n",
       "└────────┴──────────┴────────────┴─────────┴───┴────────────┴────────────┴────────────┴────────────┘"
      ]
     },
     "execution_count": 13,
     "metadata": {},
     "output_type": "execute_result"
    }
   ],
   "source": [
    "univ3.head(25)"
   ]
  },
  {
   "cell_type": "code",
   "execution_count": null,
   "metadata": {},
   "outputs": [],
   "source": []
  }
 ],
 "metadata": {
  "kernelspec": {
   "display_name": ".venv",
   "language": "python",
   "name": "python3"
  },
  "language_info": {
   "codemirror_mode": {
    "name": "ipython",
    "version": 3
   },
   "file_extension": ".py",
   "mimetype": "text/x-python",
   "name": "python",
   "nbconvert_exporter": "python",
   "pygments_lexer": "ipython3",
   "version": "3.10.6"
  },
  "orig_nbformat": 4
 },
 "nbformat": 4,
 "nbformat_minor": 2
}
